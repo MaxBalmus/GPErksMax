{
 "cells": [
  {
   "cell_type": "markdown",
   "id": "5698d1f1",
   "metadata": {},
   "source": [
    "# 2. 2D example"
   ]
  },
  {
   "cell_type": "code",
   "execution_count": null,
   "id": "03c3a4c1",
   "metadata": {},
   "outputs": [],
   "source": [
    "import numpy as np\n",
    "import torch"
   ]
  },
  {
   "cell_type": "code",
   "execution_count": null,
   "id": "eaddab00",
   "metadata": {},
   "outputs": [],
   "source": [
    "# set logger and enforce reproducibility\n",
    "from GPErks.log.logger import get_logger\n",
    "from GPErks.utils.random import set_seed\n",
    "log = get_logger()\n",
    "seed = 8\n",
    "set_seed(seed)  # reproducible sampling"
   ]
  },
  {
   "cell_type": "markdown",
   "id": "74aa4037",
   "metadata": {},
   "source": [
    "\n",
    "<br/>\n",
    "\n",
    "**2D function example**: Currin et al. (1988)\n",
    "\n",
    "$f(x) = \\left[1 - \\exp{\\left(1 - \\dfrac{1}{2 x_2}\\right)}\\right]\\,\\left(\\dfrac{2300 x_{1}^3 + 1900 x_{1}^2 + 2092 x_{1} + 60}{100 x_{1}^3 + 500 x_{1}^2 + 4 x_{1} + 20}\\right)$\n",
    "\n",
    "<br/>\n"
   ]
  },
  {
   "cell_type": "code",
   "execution_count": null,
   "id": "7695caac",
   "metadata": {},
   "outputs": [],
   "source": [
    "# function to learn (normally a high-dimensional, expensive deterministic model)\n",
    "from GPErks.utils.test_functions import currin_exp\n",
    "f = lambda X: np.array([currin_exp(x) for x in X])\n",
    "D = 2"
   ]
  },
  {
   "cell_type": "code",
   "execution_count": null,
   "id": "18ee852a",
   "metadata": {},
   "outputs": [],
   "source": [
    "# build dataset\n",
    "from GPErks.gp.data.dataset import Dataset\n",
    "dataset = Dataset.build_from_function(\n",
    "    f,\n",
    "    D,\n",
    "    n_train_samples=20,\n",
    "    n_test_samples=25,\n",
    "    design=\"lhs\",\n",
    "    seed=seed,\n",
    ")\n",
    "dataset.plot()"
   ]
  },
  {
   "cell_type": "code",
   "execution_count": null,
   "id": "838750b5",
   "metadata": {},
   "outputs": [],
   "source": [
    "dataset.plot_pairwise()"
   ]
  },
  {
   "cell_type": "code",
   "execution_count": null,
   "id": "9ab8c2c4",
   "metadata": {},
   "outputs": [],
   "source": [
    "# choose likelihood\n",
    "from gpytorch.likelihoods import GaussianLikelihood\n",
    "likelihood = GaussianLikelihood()"
   ]
  },
  {
   "cell_type": "code",
   "execution_count": null,
   "id": "5a5a9328",
   "metadata": {},
   "outputs": [],
   "source": [
    "# choose mean function\n",
    "from gpytorch.means import LinearMean\n",
    "mean_function = LinearMean(input_size=dataset.input_size)"
   ]
  },
  {
   "cell_type": "code",
   "execution_count": null,
   "id": "876efaf2",
   "metadata": {},
   "outputs": [],
   "source": [
    "# choose kernel\n",
    "from gpytorch.kernels import RBFKernel, ScaleKernel\n",
    "kernel = ScaleKernel(RBFKernel(ard_num_dims=dataset.input_size))"
   ]
  },
  {
   "cell_type": "code",
   "execution_count": null,
   "id": "61e10f3d",
   "metadata": {},
   "outputs": [],
   "source": [
    "# choose metrics\n",
    "from torchmetrics import MeanSquaredError, R2Score\n",
    "metrics = [MeanSquaredError(), R2Score()]"
   ]
  },
  {
   "cell_type": "code",
   "execution_count": null,
   "id": "d16eff04",
   "metadata": {},
   "outputs": [],
   "source": [
    "# define experiment\n",
    "from GPErks.gp.experiment import GPExperiment\n",
    "experiment = GPExperiment(\n",
    "    dataset,\n",
    "    likelihood,\n",
    "    mean_function,\n",
    "    kernel,\n",
    "    n_restarts=3,\n",
    "    metrics=metrics,\n",
    "    seed=seed  # reproducible training\n",
    ")"
   ]
  },
  {
   "cell_type": "code",
   "execution_count": null,
   "id": "47bbcb86",
   "metadata": {},
   "outputs": [],
   "source": [
    "# choose training options: device + optimizer\n",
    "device = \"cpu\"\n",
    "optimizer = torch.optim.Adam(experiment.model.parameters(), lr=0.1)"
   ]
  },
  {
   "cell_type": "code",
   "execution_count": null,
   "id": "a9888454",
   "metadata": {},
   "outputs": [],
   "source": [
    "# train model\n",
    "from GPErks.train.emulator import GPEmulator\n",
    "emulator = GPEmulator(experiment, device)\n",
    "emulator.train(optimizer)"
   ]
  },
  {
   "cell_type": "code",
   "execution_count": null,
   "id": "1a04de09",
   "metadata": {},
   "outputs": [],
   "source": [
    "# inference on stored test set\n",
    "from GPErks.perks.inference import Inference\n",
    "inference = Inference(emulator)\n",
    "inference.summary()\n",
    "inference.plot()"
   ]
  },
  {
   "cell_type": "code",
   "execution_count": null,
   "id": "365d8cc1",
   "metadata": {},
   "outputs": [],
   "source": [
    "# bonus: inference on 2-dimensional grid\n",
    "inference.interpolate_2Dgrid()  # can add function f as optional argument"
   ]
  },
  {
   "cell_type": "code",
   "execution_count": null,
   "id": "0f0677a6",
   "metadata": {},
   "outputs": [],
   "source": [
    "# perk n.2: diagnostics (L.S. Bastos and A. O’Hagan (2009) doi:10.1198/TECH.2009.08019)\n",
    "from GPErks.perks.diagnostics import Diagnostics\n",
    "diagnostics = Diagnostics(emulator)\n",
    "\n",
    "y_mean, y_std, y_covar = emulator.predict(dataset.X_test, with_covar=True)\n",
    "print( y_covar.shape )"
   ]
  },
  {
   "cell_type": "code",
   "execution_count": null,
   "id": "c0d9ecd8",
   "metadata": {},
   "outputs": [],
   "source": [
    "import matplotlib.pyplot as plt\n",
    "fig, axis = plt.subplots(1, 1)\n",
    "h = axis.imshow(y_covar)\n",
    "cbar = fig.colorbar(h, ax=axis)\n",
    "fig.tight_layout()\n",
    "plt.show()"
   ]
  },
  {
   "cell_type": "code",
   "execution_count": null,
   "id": "acaa0f46",
   "metadata": {},
   "outputs": [],
   "source": [
    "diagnostics.summary()"
   ]
  },
  {
   "cell_type": "code",
   "execution_count": null,
   "id": "c365c32b",
   "metadata": {},
   "outputs": [],
   "source": [
    "diagnostics.plot(uncorrelated=False)"
   ]
  },
  {
   "cell_type": "code",
   "execution_count": null,
   "id": "3221b3a1",
   "metadata": {},
   "outputs": [],
   "source": [
    "1 - 2/25"
   ]
  }
 ],
 "metadata": {
  "kernelspec": {
   "display_name": "Python 3 (ipykernel)",
   "language": "python",
   "name": "python3"
  },
  "language_info": {
   "codemirror_mode": {
    "name": "ipython",
    "version": 3
   },
   "file_extension": ".py",
   "mimetype": "text/x-python",
   "name": "python",
   "nbconvert_exporter": "python",
   "pygments_lexer": "ipython3",
   "version": "3.8.0"
  }
 },
 "nbformat": 4,
 "nbformat_minor": 5
}
