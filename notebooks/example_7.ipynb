{
 "cells": [
  {
   "cell_type": "markdown",
   "id": "f2fbda0e",
   "metadata": {},
   "source": [
    "# 7. GPE-based Global Sensitivity Analysis"
   ]
  },
  {
   "cell_type": "code",
   "execution_count": null,
   "id": "1bbcd70e",
   "metadata": {},
   "outputs": [],
   "source": [
    "import numpy as np\n",
    "import torch"
   ]
  },
  {
   "cell_type": "code",
   "execution_count": null,
   "id": "93a76560",
   "metadata": {},
   "outputs": [],
   "source": [
    "# set logger and enforce reproducibility\n",
    "from GPErks.log.logger import get_logger\n",
    "from GPErks.utils.random import set_seed\n",
    "log = get_logger()\n",
    "seed = 8\n",
    "set_seed(seed)  # reproducible sampling"
   ]
  },
  {
   "cell_type": "markdown",
   "id": "e7fcd8aa",
   "metadata": {},
   "source": [
    "<br/>\n",
    "\n",
    "Test function: **Sobol G*-function** - Saltelli, A. (2010) doi:10.1016/j.cpc.2009.09.018\n",
    "\n",
    "<br/>\n",
    "\n",
    "$G^*(x_1,\\,\\dots,\\,x_D)=\\prod_{i=1}^{D}g_i^*,\\quad g_i^*=\\dfrac{(1+\\alpha_i)\\cdot|2(x_i+\\delta_i-I[x_i+\\delta_i])-1|^{\\alpha_i}+a_i}{1+a_i}$\n",
    "\n",
    "<br/>\n"
   ]
  },
  {
   "cell_type": "code",
   "execution_count": null,
   "id": "66dfe2e7",
   "metadata": {},
   "outputs": [],
   "source": [
    "# import gsa test function\n",
    "from GPErks.utils.test_functions_gsa import SobolGstar\n",
    "D = 8\n",
    "a = np.array([0, 1, 4.5, 9, 99, 99, 99, 99])\n",
    "delta = np.random.rand(D)\n",
    "alpha = np.ones_like(a)\n",
    "f = lambda X: np.array([SobolGstar(x, a, delta, alpha) for x in X])\n",
    "l_bounds, u_bounds = D * [0], D * [1]"
   ]
  },
  {
   "cell_type": "code",
   "execution_count": null,
   "id": "1cc7338c",
   "metadata": {},
   "outputs": [],
   "source": [
    "# analytic solution\n",
    "from GPErks.utils.test_functions_gsa import SobolGstar_theoretical_Si\n",
    "df_STi_theo, df_Si_theo, df_Sij_theo = SobolGstar_theoretical_Si(a, delta, alpha)\n",
    "print( df_STi_theo )\n",
    "print( df_Si_theo )\n",
    "print( df_Sij_theo )"
   ]
  },
  {
   "cell_type": "code",
   "execution_count": null,
   "id": "cbd00ad4",
   "metadata": {},
   "outputs": [],
   "source": [
    "# build dataset using the given function\n",
    "from GPErks.gp.data.dataset import Dataset\n",
    "dataset = Dataset.build_from_function(\n",
    "    f,\n",
    "    D,\n",
    "    n_train_samples=160,\n",
    "    n_val_samples=32,\n",
    "    n_test_samples=80,\n",
    "    design=\"lhs\",\n",
    "    seed=seed,\n",
    "    l_bounds=l_bounds,\n",
    "    u_bounds=u_bounds\n",
    ")\n",
    "dataset.plot()\n",
    "dataset.plot_pairwise()"
   ]
  },
  {
   "cell_type": "markdown",
   "id": "6ffe95e6",
   "metadata": {},
   "source": [
    "\n",
    "<br/>\n",
    "\n",
    "Herman, J. and Usher, W. (2017) **SALib: An open-source Python library for sensitivity analysis.** Journal of Open Source Software, 2(9). doi:10.21105/joss.00097\n",
    "\n",
    "<br/>\n"
   ]
  },
  {
   "cell_type": "code",
   "execution_count": null,
   "id": "883c960c",
   "metadata": {},
   "outputs": [],
   "source": [
    "# Saltelli method for Sobol' indexes (Si) estimates\n",
    "from GPErks.perks.gsa import SobolGSA\n",
    "gsa = SobolGSA(dataset, n=1024, seed=seed)"
   ]
  },
  {
   "cell_type": "code",
   "execution_count": null,
   "id": "d31a798f",
   "metadata": {},
   "outputs": [],
   "source": [
    "# calculate Si using model evaluations\n",
    "gsa.estimate_Sobol_indices_with_simulator(f)\n",
    "gsa.summary()"
   ]
  },
  {
   "cell_type": "code",
   "execution_count": null,
   "id": "3a4c5783",
   "metadata": {},
   "outputs": [],
   "source": [
    "# Si estimates improve as N grows\n",
    "import matplotlib.pyplot as plt\n",
    "n = list( np.logspace(2, 4, 7) )\n",
    "\n",
    "height = 9.36111\n",
    "width = 5.91667\n",
    "fig, axes = plt.subplots(2, 4, sharex=True, sharey=True, figsize=(2*width, 2*height/3))\n",
    "\n",
    "for n_i in n:\n",
    "    gsa = SobolGSA(dataset, n=int(n_i), seed=seed)\n",
    "    gsa.estimate_Sobol_indices_with_simulator(f)\n",
    "    \n",
    "    for k, axis in enumerate(axes.flat):\n",
    "        i = k // 4\n",
    "        j = k % 4\n",
    "        \n",
    "        Si_k, Si_k_std = gsa.S1[0, k], gsa.S1_std[0, k]\n",
    "        axis.errorbar(np.log10(n_i), Si_k, yerr=2*Si_k_std, fmt=\"o\", color=\"C0\")\n",
    "        axis.axhline(df_Si_theo[\"Si\"][k], c=\"r\", ls=\"--\", lw=0.8)\n",
    "        \n",
    "        if j == 0:\n",
    "            axis.set_ylim([-0.1, 1])\n",
    "        if i == 1:\n",
    "            axis.set_xticks([2, 3, 4])\n",
    "            axis.set_xticklabels([f\"$10^{i}$\" for i in [2, 3, 4]])\n",
    "            \n",
    "fig.suptitle(\"Main effect estimate vs n\", fontsize=12, fontweight=\"bold\")\n",
    "fig.tight_layout()\n",
    "plt.show()"
   ]
  },
  {
   "cell_type": "code",
   "execution_count": null,
   "id": "94bbbc3f",
   "metadata": {},
   "outputs": [],
   "source": [
    "# define experiment\n",
    "from gpytorch.likelihoods import GaussianLikelihood\n",
    "from gpytorch.means import LinearMean\n",
    "from gpytorch.kernels import RBFKernel, ScaleKernel\n",
    "from torchmetrics import MeanSquaredError, R2Score\n",
    "from GPErks.gp.experiment import GPExperiment\n",
    "from GPErks.train.emulator import GPEmulator\n",
    "from GPErks.train.early_stop import GLEarlyStoppingCriterion\n",
    "\n",
    "likelihood = GaussianLikelihood()\n",
    "mean_function = LinearMean(input_size=dataset.input_size)\n",
    "kernel = ScaleKernel(RBFKernel(ard_num_dims=dataset.input_size))\n",
    "metrics = [MeanSquaredError(), R2Score()]\n",
    "experiment = GPExperiment(\n",
    "    dataset,\n",
    "    likelihood,\n",
    "    mean_function,\n",
    "    kernel,\n",
    "    n_restarts=3,\n",
    "    metrics=metrics,\n",
    "    seed=seed,  # reproducible training\n",
    "    learn_noise=True\n",
    ")\n",
    "device = \"cpu\"\n",
    "\n",
    "emulator = GPEmulator(experiment, device)\n",
    "\n",
    "optimizer = torch.optim.Adam(experiment.model.parameters(), lr=0.1)\n",
    "esc = GLEarlyStoppingCriterion(max_epochs=1000, alpha=0.1, patience=8)\n",
    "\n",
    "best_model, best_train_stats = emulator.train(optimizer, esc)\n"
   ]
  },
  {
   "cell_type": "code",
   "execution_count": null,
   "id": "2da51671",
   "metadata": {},
   "outputs": [],
   "source": [
    "best_train_stats.plot(with_early_stopping_criterion=True)"
   ]
  },
  {
   "cell_type": "code",
   "execution_count": null,
   "id": "9f6699af",
   "metadata": {},
   "outputs": [],
   "source": [
    "from GPErks.perks.inference import Inference\n",
    "inference = Inference(emulator)\n",
    "inference.summary()\n",
    "inference.plot()"
   ]
  },
  {
   "cell_type": "code",
   "execution_count": null,
   "id": "66839d06",
   "metadata": {},
   "outputs": [],
   "source": [
    "from GPErks.perks.diagnostics import Diagnostics\n",
    "diagnostics = Diagnostics(emulator)\n",
    "diagnostics.summary()\n",
    "diagnostics.plot()"
   ]
  },
  {
   "cell_type": "code",
   "execution_count": null,
   "id": "199d70e0",
   "metadata": {},
   "outputs": [],
   "source": [
    "# estimate Si using the emulator\n",
    "gsa = SobolGSA(dataset, n=1024, seed=seed)\n",
    "gsa.estimate_Sobol_indices_with_emulator(emulator, n_draws=1000)\n",
    "gsa.summary()"
   ]
  },
  {
   "cell_type": "code",
   "execution_count": null,
   "id": "70edad15",
   "metadata": {},
   "outputs": [],
   "source": [
    "import matplotlib.gridspec as grsp\n",
    "import matplotlib.pyplot as plt\n",
    "import pandas as pd\n",
    "import seaborn as sns\n",
    "\n",
    "df_ST = pd.DataFrame(data=gsa.ST, columns=gsa.index_i)\n",
    "df_S1 = pd.DataFrame(data=gsa.S1, columns=gsa.index_i)\n",
    "df_S2 = pd.DataFrame(\n",
    "    data=gsa.S2,\n",
    "    columns=[\n",
    "        \"(\" + elem[0] + \", \" + elem[1] + \")\" for elem in gsa.index_ij\n",
    "    ],\n",
    ")\n",
    "\n",
    "plt.style.use(\"seaborn\")\n",
    "gs = grsp.GridSpec(2, 2)\n",
    "fig = plt.figure(figsize=(2*width, height))\n",
    "\n",
    "ax0 = fig.add_subplot(gs[0, 0])\n",
    "sns.boxplot(ax=ax0, data=df_S1)\n",
    "ax0.set_ylim(0, 1)\n",
    "ax0.set_title(\"First-order effect\", fontweight=\"bold\", fontsize=12)\n",
    "ax0.set_xticklabels(\n",
    "    ax0.get_xticklabels(), rotation=45, horizontalalignment=\"right\"\n",
    ")\n",
    "l0 = list(df_Si_theo[\"Si\"])\n",
    "trans0 = ax0.get_xaxis_transform()\n",
    "for k, val in enumerate(l0):\n",
    "    ax0.axhline(val, c=\"r\", lw=1, ls=\"--\")\n",
    "\n",
    "ax1 = fig.add_subplot(gs[0, 1])\n",
    "sns.boxplot(ax=ax1, data=df_ST)\n",
    "ax1.set_ylim(0, 1)\n",
    "ax1.set_title(\"Total effect\", fontweight=\"bold\", fontsize=12)\n",
    "ax1.set_xticklabels(\n",
    "    ax1.get_xticklabels(), rotation=45, horizontalalignment=\"right\"\n",
    ")\n",
    "l1 = list(df_STi_theo[\"STi\"])\n",
    "trans1 = ax1.get_xaxis_transform()\n",
    "for k, val in enumerate(l1):\n",
    "    ax1.axhline(val, c=\"r\", lw=1, ls=\"--\")\n",
    "\n",
    "ax2 = fig.add_subplot(gs[1, :])\n",
    "sns.boxplot(ax=ax2, data=df_S2)\n",
    "ax2.set_ylim(0, 1)\n",
    "ax2.set_title(\"Second-order effect\", fontweight=\"bold\", fontsize=12)\n",
    "ax2.set_xticklabels(\n",
    "    ax2.get_xticklabels(), rotation=45, horizontalalignment=\"right\"\n",
    ")\n",
    "l2 = list(df_Sij_theo[\"Sij\"])\n",
    "trans2 = ax2.get_xaxis_transform()\n",
    "for k, val in enumerate(l2):\n",
    "    ax2.axhline(val, c=\"r\", lw=1, ls=\"--\")\n",
    "\n",
    "fig.tight_layout()\n",
    "plt.show()"
   ]
  },
  {
   "cell_type": "code",
   "execution_count": null,
   "id": "c244107a",
   "metadata": {},
   "outputs": [],
   "source": [
    "gsa.correct_Sobol_indices(threshold=0.01)\n",
    "gsa.plot()\n",
    "gsa.plot_donut()\n",
    "gsa.plot_fancy_donut()\n",
    "gsa.plot_heatmap()\n",
    "gsa.plot_network()"
   ]
  }
 ],
 "metadata": {
  "kernelspec": {
   "display_name": "Python 3 (ipykernel)",
   "language": "python",
   "name": "python3"
  },
  "language_info": {
   "codemirror_mode": {
    "name": "ipython",
    "version": 3
   },
   "file_extension": ".py",
   "mimetype": "text/x-python",
   "name": "python",
   "nbconvert_exporter": "python",
   "pygments_lexer": "ipython3",
   "version": "3.8.0"
  }
 },
 "nbformat": 4,
 "nbformat_minor": 5
}
