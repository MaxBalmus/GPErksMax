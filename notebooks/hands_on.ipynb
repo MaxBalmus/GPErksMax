{
 "cells": [
  {
   "cell_type": "markdown",
   "id": "f2fbda0e",
   "metadata": {},
   "source": [
    "# 8. Hands on"
   ]
  },
  {
   "cell_type": "code",
   "execution_count": null,
   "id": "1bbcd70e",
   "metadata": {},
   "outputs": [],
   "source": [
    "import numpy as np\n",
    "import torch"
   ]
  },
  {
   "cell_type": "code",
   "execution_count": null,
   "id": "93a76560",
   "metadata": {},
   "outputs": [],
   "source": [
    "# set logger and enforce reproducibility\n",
    "from GPErks.log.logger import get_logger\n",
    "from GPErks.utils.random import set_seed\n",
    "log = get_logger()\n",
    "seed = 8\n",
    "set_seed(seed)"
   ]
  },
  {
   "cell_type": "code",
   "execution_count": null,
   "id": "66dfe2e7",
   "metadata": {},
   "outputs": [],
   "source": [
    "# load dataset\n",
    "data_dir = \"data/hands_on/\"\n",
    "X = np.loadtxt(data_dir + \"X.txt\", dtype=float)\n",
    "y = np.loadtxt(data_dir + \"y.txt\", dtype=float)"
   ]
  },
  {
   "cell_type": "markdown",
   "id": "8eacb3ad",
   "metadata": {},
   "source": [
    "Which input parameter component affects the most the output feature total variance?"
   ]
  }
 ],
 "metadata": {
  "kernelspec": {
   "display_name": "Python 3 (ipykernel)",
   "language": "python",
   "name": "python3"
  },
  "language_info": {
   "codemirror_mode": {
    "name": "ipython",
    "version": 3
   },
   "file_extension": ".py",
   "mimetype": "text/x-python",
   "name": "python",
   "nbconvert_exporter": "python",
   "pygments_lexer": "ipython3",
   "version": "3.8.0"
  }
 },
 "nbformat": 4,
 "nbformat_minor": 5
}
