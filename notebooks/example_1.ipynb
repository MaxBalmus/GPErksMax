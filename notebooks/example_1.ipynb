{
 "cells": [
  {
   "cell_type": "code",
   "execution_count": 33,
   "id": "03c3a4c1",
   "metadata": {},
   "outputs": [],
   "source": [
    "import numpy as np\n",
    "import torch"
   ]
  },
  {
   "cell_type": "code",
   "execution_count": 34,
   "id": "eaddab00",
   "metadata": {},
   "outputs": [],
   "source": [
    "# set logger and enforce reproducibility\n",
    "from GPErks.log.logger import get_logger\n",
    "from GPErks.utils.random import set_seed\n",
    "log = get_logger()\n",
    "seed = 8\n",
    "set_seed(seed)  # reproducible sampling"
   ]
  },
  {
   "cell_type": "markdown",
   "id": "74aa4037",
   "metadata": {},
   "source": [
    "**1D function example**: Forrester et al. (2008)\n",
    "\n",
    "$f(x) = (6x - 2)^2 \\sin(12x - 4)$"
   ]
  },
  {
   "cell_type": "code",
   "execution_count": 35,
   "id": "7695caac",
   "metadata": {},
   "outputs": [],
   "source": [
    "# function to learn (normally a high-dimensional, expensive deterministic model)\n",
    "from GPErks.utils.test_functions import forrester\n",
    "f = lambda x: forrester(x)\n",
    "D = 1"
   ]
  },
  {
   "cell_type": "code",
   "execution_count": 36,
   "id": "18ee852a",
   "metadata": {},
   "outputs": [],
   "source": [
    "# build dataset\n",
    "from GPErks.gp.data.dataset import Dataset\n",
    "dataset = Dataset.build_from_function(\n",
    "    f,\n",
    "    D,\n",
    "    n_train_samples=10,\n",
    "    n_test_samples=10,\n",
    "    design=\"srs\",\n",
    "    seed=seed,\n",
    "    l_bounds=[0],\n",
    "    u_bounds=[1]  # can put None if, as in this case, parameters range in [0, 1]\n",
    ")"
   ]
  },
  {
   "cell_type": "code",
   "execution_count": 37,
   "id": "9ab8c2c4",
   "metadata": {},
   "outputs": [],
   "source": [
    "# choose likelihood\n",
    "from gpytorch.likelihoods import GaussianLikelihood\n",
    "likelihood = GaussianLikelihood()"
   ]
  },
  {
   "cell_type": "code",
   "execution_count": 38,
   "id": "5a5a9328",
   "metadata": {},
   "outputs": [],
   "source": [
    "# choose mean function\n",
    "from gpytorch.means import LinearMean\n",
    "mean_function = LinearMean(input_size=dataset.input_size)"
   ]
  },
  {
   "cell_type": "code",
   "execution_count": 39,
   "id": "876efaf2",
   "metadata": {},
   "outputs": [],
   "source": [
    "# choose covariance function (kernel)\n",
    "from gpytorch.kernels import RBFKernel, ScaleKernel\n",
    "kernel = ScaleKernel(RBFKernel(ard_num_dims=dataset.input_size))"
   ]
  },
  {
   "cell_type": "code",
   "execution_count": 40,
   "id": "61e10f3d",
   "metadata": {},
   "outputs": [],
   "source": [
    "# choose metrics\n",
    "from torchmetrics import MeanSquaredError, R2Score\n",
    "metrics = [MeanSquaredError(), R2Score()]"
   ]
  },
  {
   "cell_type": "code",
   "execution_count": 41,
   "id": "d16eff04",
   "metadata": {},
   "outputs": [],
   "source": [
    "# define experiment\n",
    "from GPErks.gp.experiment import GPExperiment\n",
    "experiment = GPExperiment(\n",
    "    dataset,\n",
    "    likelihood,\n",
    "    mean_function,\n",
    "    kernel,\n",
    "    n_restarts=3,\n",
    "    metrics=metrics,\n",
    "    seed=seed,  # reproducible training\n",
    "    learn_noise=True\n",
    ")"
   ]
  },
  {
   "cell_type": "code",
   "execution_count": 42,
   "id": "47bbcb86",
   "metadata": {},
   "outputs": [],
   "source": [
    "# choose training options: device + optimizer\n",
    "device = \"cuda\" if torch.cuda.is_available() else \"cpu\"\n",
    "optimizer = torch.optim.Adam(experiment.model.parameters(), lr=0.1)"
   ]
  },
  {
   "cell_type": "code",
   "execution_count": 43,
   "id": "a9888454",
   "metadata": {},
   "outputs": [
    {
     "name": "stderr",
     "output_type": "stream",
     "text": [
      "INFO:2021-08-03 18:15:46,686:emulator:train:L83: Training emulator...\n",
      "INFO:2021-08-03 18:15:46,688:emulator:train:L99: Running restart 1...\n",
      "/home/sl18/Documents/Python/GPErks/venv/lib/python3.8/site-packages/gpytorch/models/exact_gp.py:282: GPInputWarning: The input matches the stored training data. Did you forget to call model.train()?\n",
      "  warnings.warn(\n",
      "INFO:2021-08-03 18:15:46,709:emulator:_train_once:L308: [  1/100] Training Loss: 1.6861 - MeanSquaredError: 0.8620 - R2Score: 0.1380\n",
      "INFO:2021-08-03 18:15:46,715:emulator:_train_once:L308: [  2/100] Training Loss: 1.6591 - MeanSquaredError: 0.8447 - R2Score: 0.1553\n",
      "INFO:2021-08-03 18:15:46,723:emulator:_train_once:L308: [  3/100] Training Loss: 1.6330 - MeanSquaredError: 0.8289 - R2Score: 0.1711\n",
      "INFO:2021-08-03 18:15:46,730:emulator:_train_once:L308: [  4/100] Training Loss: 1.6080 - MeanSquaredError: 0.8145 - R2Score: 0.1855\n",
      "INFO:2021-08-03 18:15:46,737:emulator:_train_once:L308: [  5/100] Training Loss: 1.5840 - MeanSquaredError: 0.8017 - R2Score: 0.1983\n",
      "INFO:2021-08-03 18:15:46,743:emulator:_train_once:L308: [  6/100] Training Loss: 1.5612 - MeanSquaredError: 0.7903 - R2Score: 0.2097\n",
      "INFO:2021-08-03 18:15:46,749:emulator:_train_once:L308: [  7/100] Training Loss: 1.5398 - MeanSquaredError: 0.7805 - R2Score: 0.2195\n",
      "INFO:2021-08-03 18:15:46,757:emulator:_train_once:L308: [  8/100] Training Loss: 1.5199 - MeanSquaredError: 0.7723 - R2Score: 0.2277\n",
      "INFO:2021-08-03 18:15:46,765:emulator:_train_once:L308: [  9/100] Training Loss: 1.5018 - MeanSquaredError: 0.7656 - R2Score: 0.2344\n",
      "INFO:2021-08-03 18:15:46,772:emulator:_train_once:L308: [ 10/100] Training Loss: 1.4855 - MeanSquaredError: 0.7605 - R2Score: 0.2395\n",
      "INFO:2021-08-03 18:15:46,779:emulator:_train_once:L308: [ 11/100] Training Loss: 1.4710 - MeanSquaredError: 0.7569 - R2Score: 0.2431\n",
      "INFO:2021-08-03 18:15:46,785:emulator:_train_once:L308: [ 12/100] Training Loss: 1.4585 - MeanSquaredError: 0.7546 - R2Score: 0.2454\n",
      "INFO:2021-08-03 18:15:46,792:emulator:_train_once:L308: [ 13/100] Training Loss: 1.4476 - MeanSquaredError: 0.7533 - R2Score: 0.2467\n",
      "INFO:2021-08-03 18:15:46,799:emulator:_train_once:L308: [ 14/100] Training Loss: 1.4381 - MeanSquaredError: 0.7528 - R2Score: 0.2472\n",
      "INFO:2021-08-03 18:15:46,808:emulator:_train_once:L308: [ 15/100] Training Loss: 1.4296 - MeanSquaredError: 0.7527 - R2Score: 0.2473\n",
      "INFO:2021-08-03 18:15:46,814:emulator:_train_once:L308: [ 16/100] Training Loss: 1.4218 - MeanSquaredError: 0.7529 - R2Score: 0.2471\n",
      "INFO:2021-08-03 18:15:46,820:emulator:_train_once:L308: [ 17/100] Training Loss: 1.4145 - MeanSquaredError: 0.7531 - R2Score: 0.2469\n",
      "INFO:2021-08-03 18:15:46,825:emulator:_train_once:L308: [ 18/100] Training Loss: 1.4075 - MeanSquaredError: 0.7532 - R2Score: 0.2468\n",
      "INFO:2021-08-03 18:15:46,830:emulator:_train_once:L308: [ 19/100] Training Loss: 1.4009 - MeanSquaredError: 0.7532 - R2Score: 0.2468\n",
      "INFO:2021-08-03 18:15:46,835:emulator:_train_once:L308: [ 20/100] Training Loss: 1.3947 - MeanSquaredError: 0.7531 - R2Score: 0.2469\n",
      "INFO:2021-08-03 18:15:46,843:emulator:_train_once:L308: [ 21/100] Training Loss: 1.3890 - MeanSquaredError: 0.7531 - R2Score: 0.2469\n",
      "INFO:2021-08-03 18:15:46,848:emulator:_train_once:L308: [ 22/100] Training Loss: 1.3838 - MeanSquaredError: 0.7531 - R2Score: 0.2469\n",
      "INFO:2021-08-03 18:15:46,853:emulator:_train_once:L308: [ 23/100] Training Loss: 1.3793 - MeanSquaredError: 0.7533 - R2Score: 0.2467\n",
      "INFO:2021-08-03 18:15:46,858:emulator:_train_once:L308: [ 24/100] Training Loss: 1.3755 - MeanSquaredError: 0.7538 - R2Score: 0.2462\n",
      "INFO:2021-08-03 18:15:46,863:emulator:_train_once:L308: [ 25/100] Training Loss: 1.3724 - MeanSquaredError: 0.7544 - R2Score: 0.2456\n",
      "INFO:2021-08-03 18:15:46,868:emulator:_train_once:L308: [ 26/100] Training Loss: 1.3698 - MeanSquaredError: 0.7552 - R2Score: 0.2448\n",
      "INFO:2021-08-03 18:15:46,874:emulator:_train_once:L308: [ 27/100] Training Loss: 1.3672 - MeanSquaredError: 0.7559 - R2Score: 0.2441\n",
      "INFO:2021-08-03 18:15:46,878:emulator:_train_once:L308: [ 28/100] Training Loss: 1.3642 - MeanSquaredError: 0.7563 - R2Score: 0.2437\n",
      "INFO:2021-08-03 18:15:46,886:emulator:_train_once:L308: [ 29/100] Training Loss: 1.3601 - MeanSquaredError: 0.7564 - R2Score: 0.2436\n",
      "INFO:2021-08-03 18:15:46,895:emulator:_train_once:L308: [ 30/100] Training Loss: 1.3547 - MeanSquaredError: 0.7560 - R2Score: 0.2440\n",
      "INFO:2021-08-03 18:15:46,901:emulator:_train_once:L308: [ 31/100] Training Loss: 1.3485 - MeanSquaredError: 0.7553 - R2Score: 0.2447\n",
      "INFO:2021-08-03 18:15:46,910:emulator:_train_once:L308: [ 32/100] Training Loss: 1.3420 - MeanSquaredError: 0.7548 - R2Score: 0.2452\n",
      "INFO:2021-08-03 18:15:46,914:emulator:_train_once:L308: [ 33/100] Training Loss: 1.3361 - MeanSquaredError: 0.7547 - R2Score: 0.2453\n",
      "INFO:2021-08-03 18:15:46,919:emulator:_train_once:L308: [ 34/100] Training Loss: 1.3316 - MeanSquaredError: 0.7551 - R2Score: 0.2449\n",
      "INFO:2021-08-03 18:15:46,925:emulator:_train_once:L308: [ 35/100] Training Loss: 1.3285 - MeanSquaredError: 0.7560 - R2Score: 0.2440\n",
      "INFO:2021-08-03 18:15:46,930:emulator:_train_once:L308: [ 36/100] Training Loss: 1.3265 - MeanSquaredError: 0.7568 - R2Score: 0.2432\n",
      "INFO:2021-08-03 18:15:46,937:emulator:_train_once:L308: [ 37/100] Training Loss: 1.3246 - MeanSquaredError: 0.7569 - R2Score: 0.2431\n",
      "INFO:2021-08-03 18:15:46,942:emulator:_train_once:L308: [ 38/100] Training Loss: 1.3222 - MeanSquaredError: 0.7562 - R2Score: 0.2438\n",
      "INFO:2021-08-03 18:15:46,947:emulator:_train_once:L308: [ 39/100] Training Loss: 1.3192 - MeanSquaredError: 0.7551 - R2Score: 0.2449\n",
      "INFO:2021-08-03 18:15:46,954:emulator:_train_once:L308: [ 40/100] Training Loss: 1.3160 - MeanSquaredError: 0.7543 - R2Score: 0.2457\n",
      "INFO:2021-08-03 18:15:46,961:emulator:_train_once:L308: [ 41/100] Training Loss: 1.3132 - MeanSquaredError: 0.7543 - R2Score: 0.2457\n",
      "INFO:2021-08-03 18:15:46,966:emulator:_train_once:L308: [ 42/100] Training Loss: 1.3113 - MeanSquaredError: 0.7550 - R2Score: 0.2450\n",
      "INFO:2021-08-03 18:15:46,971:emulator:_train_once:L308: [ 43/100] Training Loss: 1.3099 - MeanSquaredError: 0.7556 - R2Score: 0.2444\n",
      "INFO:2021-08-03 18:15:46,977:emulator:_train_once:L308: [ 44/100] Training Loss: 1.3084 - MeanSquaredError: 0.7555 - R2Score: 0.2445\n",
      "INFO:2021-08-03 18:15:46,984:emulator:_train_once:L308: [ 45/100] Training Loss: 1.3064 - MeanSquaredError: 0.7548 - R2Score: 0.2452\n",
      "INFO:2021-08-03 18:15:46,991:emulator:_train_once:L308: [ 46/100] Training Loss: 1.3038 - MeanSquaredError: 0.7541 - R2Score: 0.2459\n",
      "INFO:2021-08-03 18:15:46,996:emulator:_train_once:L308: [ 47/100] Training Loss: 1.3013 - MeanSquaredError: 0.7539 - R2Score: 0.2461\n",
      "INFO:2021-08-03 18:15:47,001:emulator:_train_once:L308: [ 48/100] Training Loss: 1.2995 - MeanSquaredError: 0.7544 - R2Score: 0.2456\n",
      "INFO:2021-08-03 18:15:47,007:emulator:_train_once:L308: [ 49/100] Training Loss: 1.2982 - MeanSquaredError: 0.7549 - R2Score: 0.2451\n",
      "INFO:2021-08-03 18:15:47,012:emulator:_train_once:L308: [ 50/100] Training Loss: 1.2972 - MeanSquaredError: 0.7548 - R2Score: 0.2452\n",
      "INFO:2021-08-03 18:15:47,017:emulator:_train_once:L308: [ 51/100] Training Loss: 1.2959 - MeanSquaredError: 0.7544 - R2Score: 0.2456\n",
      "INFO:2021-08-03 18:15:47,022:emulator:_train_once:L308: [ 52/100] Training Loss: 1.2943 - MeanSquaredError: 0.7540 - R2Score: 0.2460\n",
      "INFO:2021-08-03 18:15:47,028:emulator:_train_once:L308: [ 53/100] Training Loss: 1.2930 - MeanSquaredError: 0.7542 - R2Score: 0.2458\n",
      "INFO:2021-08-03 18:15:47,032:emulator:_train_once:L308: [ 54/100] Training Loss: 1.2922 - MeanSquaredError: 0.7546 - R2Score: 0.2454\n",
      "INFO:2021-08-03 18:15:47,042:emulator:_train_once:L308: [ 55/100] Training Loss: 1.2918 - MeanSquaredError: 0.7547 - R2Score: 0.2453\n",
      "INFO:2021-08-03 18:15:47,046:emulator:_train_once:L308: [ 56/100] Training Loss: 1.2913 - MeanSquaredError: 0.7544 - R2Score: 0.2456\n",
      "INFO:2021-08-03 18:15:47,051:emulator:_train_once:L308: [ 57/100] Training Loss: 1.2904 - MeanSquaredError: 0.7540 - R2Score: 0.2460\n",
      "INFO:2021-08-03 18:15:47,056:emulator:_train_once:L308: [ 58/100] Training Loss: 1.2896 - MeanSquaredError: 0.7540 - R2Score: 0.2460\n",
      "INFO:2021-08-03 18:15:47,061:emulator:_train_once:L308: [ 59/100] Training Loss: 1.2890 - MeanSquaredError: 0.7543 - R2Score: 0.2457\n"
     ]
    },
    {
     "name": "stderr",
     "output_type": "stream",
     "text": [
      "INFO:2021-08-03 18:15:47,067:emulator:_train_once:L308: [ 60/100] Training Loss: 1.2886 - MeanSquaredError: 0.7543 - R2Score: 0.2457\n",
      "INFO:2021-08-03 18:15:47,073:emulator:_train_once:L308: [ 61/100] Training Loss: 1.2881 - MeanSquaredError: 0.7541 - R2Score: 0.2459\n",
      "INFO:2021-08-03 18:15:47,078:emulator:_train_once:L308: [ 62/100] Training Loss: 1.2874 - MeanSquaredError: 0.7539 - R2Score: 0.2461\n",
      "INFO:2021-08-03 18:15:47,084:emulator:_train_once:L308: [ 63/100] Training Loss: 1.2867 - MeanSquaredError: 0.7540 - R2Score: 0.2460\n",
      "INFO:2021-08-03 18:15:47,091:emulator:_train_once:L308: [ 64/100] Training Loss: 1.2863 - MeanSquaredError: 0.7542 - R2Score: 0.2458\n",
      "INFO:2021-08-03 18:15:47,096:emulator:_train_once:L308: [ 65/100] Training Loss: 1.2860 - MeanSquaredError: 0.7542 - R2Score: 0.2458\n",
      "INFO:2021-08-03 18:15:47,101:emulator:_train_once:L308: [ 66/100] Training Loss: 1.2856 - MeanSquaredError: 0.7540 - R2Score: 0.2460\n",
      "INFO:2021-08-03 18:15:47,109:emulator:_train_once:L308: [ 67/100] Training Loss: 1.2852 - MeanSquaredError: 0.7539 - R2Score: 0.2461\n",
      "INFO:2021-08-03 18:15:47,117:emulator:_train_once:L308: [ 68/100] Training Loss: 1.2848 - MeanSquaredError: 0.7540 - R2Score: 0.2460\n",
      "INFO:2021-08-03 18:15:47,124:emulator:_train_once:L308: [ 69/100] Training Loss: 1.2846 - MeanSquaredError: 0.7541 - R2Score: 0.2459\n",
      "INFO:2021-08-03 18:15:47,130:emulator:_train_once:L308: [ 70/100] Training Loss: 1.2844 - MeanSquaredError: 0.7541 - R2Score: 0.2459\n",
      "INFO:2021-08-03 18:15:47,137:emulator:_train_once:L308: [ 71/100] Training Loss: 1.2842 - MeanSquaredError: 0.7540 - R2Score: 0.2460\n",
      "INFO:2021-08-03 18:15:47,143:emulator:_train_once:L308: [ 72/100] Training Loss: 1.2839 - MeanSquaredError: 0.7539 - R2Score: 0.2461\n",
      "INFO:2021-08-03 18:15:47,148:emulator:_train_once:L308: [ 73/100] Training Loss: 1.2837 - MeanSquaredError: 0.7540 - R2Score: 0.2460\n",
      "INFO:2021-08-03 18:15:47,153:emulator:_train_once:L308: [ 74/100] Training Loss: 1.2835 - MeanSquaredError: 0.7541 - R2Score: 0.2459\n",
      "INFO:2021-08-03 18:15:47,159:emulator:_train_once:L308: [ 75/100] Training Loss: 1.2834 - MeanSquaredError: 0.7540 - R2Score: 0.2460\n",
      "INFO:2021-08-03 18:15:47,165:emulator:_train_once:L308: [ 76/100] Training Loss: 1.2831 - MeanSquaredError: 0.7539 - R2Score: 0.2461\n",
      "INFO:2021-08-03 18:15:47,172:emulator:_train_once:L308: [ 77/100] Training Loss: 1.2829 - MeanSquaredError: 0.7539 - R2Score: 0.2461\n",
      "INFO:2021-08-03 18:15:47,176:emulator:_train_once:L308: [ 78/100] Training Loss: 1.2827 - MeanSquaredError: 0.7540 - R2Score: 0.2460\n",
      "INFO:2021-08-03 18:15:47,180:emulator:_train_once:L308: [ 79/100] Training Loss: 1.2826 - MeanSquaredError: 0.7540 - R2Score: 0.2460\n",
      "INFO:2021-08-03 18:15:47,185:emulator:_train_once:L308: [ 80/100] Training Loss: 1.2825 - MeanSquaredError: 0.7539 - R2Score: 0.2461\n",
      "INFO:2021-08-03 18:15:47,190:emulator:_train_once:L308: [ 81/100] Training Loss: 1.2823 - MeanSquaredError: 0.7539 - R2Score: 0.2461\n",
      "INFO:2021-08-03 18:15:47,194:emulator:_train_once:L308: [ 82/100] Training Loss: 1.2822 - MeanSquaredError: 0.7540 - R2Score: 0.2460\n",
      "INFO:2021-08-03 18:15:47,198:emulator:_train_once:L308: [ 83/100] Training Loss: 1.2821 - MeanSquaredError: 0.7540 - R2Score: 0.2460\n",
      "INFO:2021-08-03 18:15:47,203:emulator:_train_once:L308: [ 84/100] Training Loss: 1.2820 - MeanSquaredError: 0.7539 - R2Score: 0.2461\n",
      "INFO:2021-08-03 18:15:47,211:emulator:_train_once:L308: [ 85/100] Training Loss: 1.2819 - MeanSquaredError: 0.7539 - R2Score: 0.2461\n",
      "INFO:2021-08-03 18:15:47,216:emulator:_train_once:L308: [ 86/100] Training Loss: 1.2818 - MeanSquaredError: 0.7539 - R2Score: 0.2461\n",
      "INFO:2021-08-03 18:15:47,222:emulator:_train_once:L308: [ 87/100] Training Loss: 1.2817 - MeanSquaredError: 0.7540 - R2Score: 0.2460\n",
      "INFO:2021-08-03 18:15:47,227:emulator:_train_once:L308: [ 88/100] Training Loss: 1.2816 - MeanSquaredError: 0.7539 - R2Score: 0.2461\n",
      "INFO:2021-08-03 18:15:47,231:emulator:_train_once:L308: [ 89/100] Training Loss: 1.2815 - MeanSquaredError: 0.7539 - R2Score: 0.2461\n",
      "INFO:2021-08-03 18:15:47,236:emulator:_train_once:L308: [ 90/100] Training Loss: 1.2814 - MeanSquaredError: 0.7539 - R2Score: 0.2461\n",
      "INFO:2021-08-03 18:15:47,240:emulator:_train_once:L308: [ 91/100] Training Loss: 1.2813 - MeanSquaredError: 0.7539 - R2Score: 0.2461\n",
      "INFO:2021-08-03 18:15:47,245:emulator:_train_once:L308: [ 92/100] Training Loss: 1.2812 - MeanSquaredError: 0.7539 - R2Score: 0.2461\n",
      "INFO:2021-08-03 18:15:47,249:emulator:_train_once:L308: [ 93/100] Training Loss: 1.2812 - MeanSquaredError: 0.7539 - R2Score: 0.2461\n",
      "INFO:2021-08-03 18:15:47,255:emulator:_train_once:L308: [ 94/100] Training Loss: 1.2811 - MeanSquaredError: 0.7539 - R2Score: 0.2461\n",
      "INFO:2021-08-03 18:15:47,260:emulator:_train_once:L308: [ 95/100] Training Loss: 1.2810 - MeanSquaredError: 0.7539 - R2Score: 0.2461\n",
      "INFO:2021-08-03 18:15:47,264:emulator:_train_once:L308: [ 96/100] Training Loss: 1.2810 - MeanSquaredError: 0.7539 - R2Score: 0.2461\n",
      "INFO:2021-08-03 18:15:47,270:emulator:_train_once:L308: [ 97/100] Training Loss: 1.2809 - MeanSquaredError: 0.7539 - R2Score: 0.2461\n",
      "INFO:2021-08-03 18:15:47,275:emulator:_train_once:L308: [ 98/100] Training Loss: 1.2808 - MeanSquaredError: 0.7539 - R2Score: 0.2461\n",
      "INFO:2021-08-03 18:15:47,280:emulator:_train_once:L308: [ 99/100] Training Loss: 1.2808 - MeanSquaredError: 0.7539 - R2Score: 0.2461\n",
      "INFO:2021-08-03 18:15:47,286:emulator:_train_once:L308: [100/100] Training Loss: 1.2807 - MeanSquaredError: 0.7539 - R2Score: 0.2461\n",
      "INFO:2021-08-03 18:15:47,287:emulator:train:L112: Run restart 1.\n",
      "INFO:2021-08-03 18:15:47,288:emulator:train:L99: Running restart 2...\n",
      "INFO:2021-08-03 18:15:47,301:emulator:_train_once:L308: [  1/100] Training Loss: 1.6519 - MeanSquaredError: 0.8191 - R2Score: 0.1809\n",
      "INFO:2021-08-03 18:15:47,306:emulator:_train_once:L308: [  2/100] Training Loss: 1.6219 - MeanSquaredError: 0.7932 - R2Score: 0.2068\n",
      "INFO:2021-08-03 18:15:47,311:emulator:_train_once:L308: [  3/100] Training Loss: 1.5802 - MeanSquaredError: 0.7659 - R2Score: 0.2341\n",
      "INFO:2021-08-03 18:15:47,315:emulator:_train_once:L308: [  4/100] Training Loss: 1.5374 - MeanSquaredError: 0.7404 - R2Score: 0.2596\n",
      "INFO:2021-08-03 18:15:47,321:emulator:_train_once:L308: [  5/100] Training Loss: 1.4991 - MeanSquaredError: 0.7181 - R2Score: 0.2819\n",
      "INFO:2021-08-03 18:15:47,325:emulator:_train_once:L308: [  6/100] Training Loss: 1.4678 - MeanSquaredError: 0.6991 - R2Score: 0.3009\n",
      "INFO:2021-08-03 18:15:47,330:emulator:_train_once:L308: [  7/100] Training Loss: 1.4444 - MeanSquaredError: 0.6834 - R2Score: 0.3166\n",
      "INFO:2021-08-03 18:15:47,335:emulator:_train_once:L308: [  8/100] Training Loss: 1.4291 - MeanSquaredError: 0.6706 - R2Score: 0.3294\n",
      "INFO:2021-08-03 18:15:47,340:emulator:_train_once:L308: [  9/100] Training Loss: 1.4213 - MeanSquaredError: 0.6605 - R2Score: 0.3395\n",
      "INFO:2021-08-03 18:15:47,345:emulator:_train_once:L308: [ 10/100] Training Loss: 1.4204 - MeanSquaredError: 0.6525 - R2Score: 0.3475\n",
      "INFO:2021-08-03 18:15:47,351:emulator:_train_once:L308: [ 11/100] Training Loss: 1.4249 - MeanSquaredError: 0.6461 - R2Score: 0.3539\n",
      "INFO:2021-08-03 18:15:47,356:emulator:_train_once:L308: [ 12/100] Training Loss: 1.4325 - MeanSquaredError: 0.6405 - R2Score: 0.3595\n",
      "INFO:2021-08-03 18:15:47,361:emulator:_train_once:L308: [ 13/100] Training Loss: 1.4400 - MeanSquaredError: 0.6347 - R2Score: 0.3653\n",
      "INFO:2021-08-03 18:15:47,365:emulator:_train_once:L308: [ 14/100] Training Loss: 1.4443 - MeanSquaredError: 0.6279 - R2Score: 0.3721\n",
      "INFO:2021-08-03 18:15:47,371:emulator:_train_once:L308: [ 15/100] Training Loss: 1.4430 - MeanSquaredError: 0.6190 - R2Score: 0.3810\n",
      "INFO:2021-08-03 18:15:47,376:emulator:_train_once:L308: [ 16/100] Training Loss: 1.4354 - MeanSquaredError: 0.6069 - R2Score: 0.3931\n",
      "INFO:2021-08-03 18:15:47,381:emulator:_train_once:L308: [ 17/100] Training Loss: 1.4224 - MeanSquaredError: 0.5896 - R2Score: 0.4104\n",
      "INFO:2021-08-03 18:15:47,386:emulator:_train_once:L308: [ 18/100] Training Loss: 1.4055 - MeanSquaredError: 0.5648 - R2Score: 0.4352\n",
      "INFO:2021-08-03 18:15:47,391:emulator:_train_once:L308: [ 19/100] Training Loss: 1.3859 - MeanSquaredError: 0.5312 - R2Score: 0.4688\n",
      "INFO:2021-08-03 18:15:47,396:emulator:_train_once:L308: [ 20/100] Training Loss: 1.3644 - MeanSquaredError: 0.4890 - R2Score: 0.5110\n"
     ]
    },
    {
     "name": "stderr",
     "output_type": "stream",
     "text": [
      "INFO:2021-08-03 18:15:47,401:emulator:_train_once:L308: [ 21/100] Training Loss: 1.3417 - MeanSquaredError: 0.4408 - R2Score: 0.5592\n",
      "INFO:2021-08-03 18:15:47,407:emulator:_train_once:L308: [ 22/100] Training Loss: 1.3187 - MeanSquaredError: 0.3907 - R2Score: 0.6093\n",
      "INFO:2021-08-03 18:15:47,411:emulator:_train_once:L308: [ 23/100] Training Loss: 1.2971 - MeanSquaredError: 0.3441 - R2Score: 0.6559\n",
      "INFO:2021-08-03 18:15:47,415:emulator:_train_once:L308: [ 24/100] Training Loss: 1.2791 - MeanSquaredError: 0.3052 - R2Score: 0.6948\n",
      "INFO:2021-08-03 18:15:47,421:emulator:_train_once:L308: [ 25/100] Training Loss: 1.2662 - MeanSquaredError: 0.2755 - R2Score: 0.7245\n",
      "INFO:2021-08-03 18:15:47,425:emulator:_train_once:L308: [ 26/100] Training Loss: 1.2584 - MeanSquaredError: 0.2517 - R2Score: 0.7483\n",
      "INFO:2021-08-03 18:15:47,430:emulator:_train_once:L308: [ 27/100] Training Loss: 1.2524 - MeanSquaredError: 0.2288 - R2Score: 0.7712\n",
      "INFO:2021-08-03 18:15:47,435:emulator:_train_once:L308: [ 28/100] Training Loss: 1.2444 - MeanSquaredError: 0.2054 - R2Score: 0.7946\n",
      "INFO:2021-08-03 18:15:47,441:emulator:_train_once:L308: [ 29/100] Training Loss: 1.2348 - MeanSquaredError: 0.1831 - R2Score: 0.8169\n",
      "INFO:2021-08-03 18:15:47,446:emulator:_train_once:L308: [ 30/100] Training Loss: 1.2272 - MeanSquaredError: 0.1624 - R2Score: 0.8376\n",
      "INFO:2021-08-03 18:15:47,450:emulator:_train_once:L308: [ 31/100] Training Loss: 1.2236 - MeanSquaredError: 0.1420 - R2Score: 0.8580\n",
      "INFO:2021-08-03 18:15:47,455:emulator:_train_once:L308: [ 32/100] Training Loss: 1.2214 - MeanSquaredError: 0.1207 - R2Score: 0.8793\n",
      "INFO:2021-08-03 18:15:47,460:emulator:_train_once:L308: [ 33/100] Training Loss: 1.2147 - MeanSquaredError: 0.0987 - R2Score: 0.9013\n",
      "INFO:2021-08-03 18:15:47,465:emulator:_train_once:L308: [ 34/100] Training Loss: 1.1986 - MeanSquaredError: 0.0777 - R2Score: 0.9223\n",
      "INFO:2021-08-03 18:15:47,470:emulator:_train_once:L308: [ 35/100] Training Loss: 1.1729 - MeanSquaredError: 0.0594 - R2Score: 0.9406\n",
      "INFO:2021-08-03 18:15:47,476:emulator:_train_once:L308: [ 36/100] Training Loss: 1.1406 - MeanSquaredError: 0.0446 - R2Score: 0.9554\n",
      "INFO:2021-08-03 18:15:47,480:emulator:_train_once:L308: [ 37/100] Training Loss: 1.1054 - MeanSquaredError: 0.0332 - R2Score: 0.9668\n",
      "INFO:2021-08-03 18:15:47,487:emulator:_train_once:L308: [ 38/100] Training Loss: 1.0702 - MeanSquaredError: 0.0249 - R2Score: 0.9751\n",
      "INFO:2021-08-03 18:15:47,492:emulator:_train_once:L308: [ 39/100] Training Loss: 1.0374 - MeanSquaredError: 0.0189 - R2Score: 0.9811\n",
      "INFO:2021-08-03 18:15:47,496:emulator:_train_once:L308: [ 40/100] Training Loss: 1.0084 - MeanSquaredError: 0.0141 - R2Score: 0.9859\n",
      "INFO:2021-08-03 18:15:47,501:emulator:_train_once:L308: [ 41/100] Training Loss: 0.9804 - MeanSquaredError: 0.0099 - R2Score: 0.9901\n",
      "INFO:2021-08-03 18:15:47,506:emulator:_train_once:L308: [ 42/100] Training Loss: 0.9478 - MeanSquaredError: 0.0063 - R2Score: 0.9937\n",
      "INFO:2021-08-03 18:15:47,510:emulator:_train_once:L308: [ 43/100] Training Loss: 0.9087 - MeanSquaredError: 0.0037 - R2Score: 0.9963\n",
      "INFO:2021-08-03 18:15:47,514:emulator:_train_once:L308: [ 44/100] Training Loss: 0.8670 - MeanSquaredError: 0.0021 - R2Score: 0.9979\n",
      "INFO:2021-08-03 18:15:47,520:emulator:_train_once:L308: [ 45/100] Training Loss: 0.8280 - MeanSquaredError: 0.0012 - R2Score: 0.9988\n",
      "INFO:2021-08-03 18:15:47,526:emulator:_train_once:L308: [ 46/100] Training Loss: 0.7929 - MeanSquaredError: 0.0007 - R2Score: 0.9993\n",
      "INFO:2021-08-03 18:15:47,530:emulator:_train_once:L308: [ 47/100] Training Loss: 0.7591 - MeanSquaredError: 0.0005 - R2Score: 0.9995\n",
      "INFO:2021-08-03 18:15:47,535:emulator:_train_once:L308: [ 48/100] Training Loss: 0.7232 - MeanSquaredError: 0.0003 - R2Score: 0.9997\n",
      "INFO:2021-08-03 18:15:47,540:emulator:_train_once:L308: [ 49/100] Training Loss: 0.6839 - MeanSquaredError: 0.0003 - R2Score: 0.9997\n",
      "INFO:2021-08-03 18:15:47,545:emulator:_train_once:L308: [ 50/100] Training Loss: 0.6431 - MeanSquaredError: 0.0003 - R2Score: 0.9997\n",
      "INFO:2021-08-03 18:15:47,549:emulator:_train_once:L308: [ 51/100] Training Loss: 0.6055 - MeanSquaredError: 0.0004 - R2Score: 0.9996\n",
      "INFO:2021-08-03 18:15:47,554:emulator:_train_once:L308: [ 52/100] Training Loss: 0.5744 - MeanSquaredError: 0.0003 - R2Score: 0.9997\n",
      "INFO:2021-08-03 18:15:47,558:emulator:_train_once:L308: [ 53/100] Training Loss: 0.5419 - MeanSquaredError: 0.0002 - R2Score: 0.9998\n",
      "INFO:2021-08-03 18:15:47,565:emulator:_train_once:L308: [ 54/100] Training Loss: 0.5029 - MeanSquaredError: 0.0001 - R2Score: 0.9999\n",
      "INFO:2021-08-03 18:15:47,572:emulator:_train_once:L308: [ 55/100] Training Loss: 0.4678 - MeanSquaredError: 0.0001 - R2Score: 0.9999\n",
      "INFO:2021-08-03 18:15:47,577:emulator:_train_once:L308: [ 56/100] Training Loss: 0.4389 - MeanSquaredError: 0.0000 - R2Score: 1.0000\n",
      "INFO:2021-08-03 18:15:47,581:emulator:_train_once:L308: [ 57/100] Training Loss: 0.4094 - MeanSquaredError: 0.0000 - R2Score: 1.0000\n",
      "INFO:2021-08-03 18:15:47,586:emulator:_train_once:L308: [ 58/100] Training Loss: 0.3766 - MeanSquaredError: 0.0001 - R2Score: 0.9999\n",
      "INFO:2021-08-03 18:15:47,591:emulator:_train_once:L308: [ 59/100] Training Loss: 0.3454 - MeanSquaredError: 0.0001 - R2Score: 0.9999\n",
      "INFO:2021-08-03 18:15:47,595:emulator:_train_once:L308: [ 60/100] Training Loss: 0.3204 - MeanSquaredError: 0.0001 - R2Score: 0.9999\n",
      "INFO:2021-08-03 18:15:47,600:emulator:_train_once:L308: [ 61/100] Training Loss: 0.2935 - MeanSquaredError: 0.0000 - R2Score: 1.0000\n",
      "INFO:2021-08-03 18:15:47,606:emulator:_train_once:L308: [ 62/100] Training Loss: 0.2645 - MeanSquaredError: 0.0000 - R2Score: 1.0000\n",
      "INFO:2021-08-03 18:15:47,611:emulator:_train_once:L308: [ 63/100] Training Loss: 0.2412 - MeanSquaredError: 0.0000 - R2Score: 1.0000\n",
      "INFO:2021-08-03 18:15:47,615:emulator:_train_once:L308: [ 64/100] Training Loss: 0.2190 - MeanSquaredError: 0.0000 - R2Score: 1.0000\n",
      "INFO:2021-08-03 18:15:47,624:emulator:_train_once:L308: [ 65/100] Training Loss: 0.1947 - MeanSquaredError: 0.0000 - R2Score: 1.0000\n",
      "INFO:2021-08-03 18:15:47,628:emulator:_train_once:L308: [ 66/100] Training Loss: 0.1727 - MeanSquaredError: 0.0000 - R2Score: 1.0000\n",
      "INFO:2021-08-03 18:15:47,633:emulator:_train_once:L308: [ 67/100] Training Loss: 0.1549 - MeanSquaredError: 0.0000 - R2Score: 1.0000\n",
      "INFO:2021-08-03 18:15:47,639:emulator:_train_once:L308: [ 68/100] Training Loss: 0.1351 - MeanSquaredError: 0.0000 - R2Score: 1.0000\n",
      "INFO:2021-08-03 18:15:47,644:emulator:_train_once:L308: [ 69/100] Training Loss: 0.1168 - MeanSquaredError: 0.0000 - R2Score: 1.0000\n",
      "INFO:2021-08-03 18:15:47,649:emulator:_train_once:L308: [ 70/100] Training Loss: 0.1020 - MeanSquaredError: 0.0000 - R2Score: 1.0000\n",
      "INFO:2021-08-03 18:15:47,655:emulator:_train_once:L308: [ 71/100] Training Loss: 0.0868 - MeanSquaredError: 0.0000 - R2Score: 1.0000\n",
      "INFO:2021-08-03 18:15:47,660:emulator:_train_once:L308: [ 72/100] Training Loss: 0.0719 - MeanSquaredError: 0.0000 - R2Score: 1.0000\n",
      "INFO:2021-08-03 18:15:47,665:emulator:_train_once:L308: [ 73/100] Training Loss: 0.0601 - MeanSquaredError: 0.0000 - R2Score: 1.0000\n",
      "INFO:2021-08-03 18:15:47,670:emulator:_train_once:L308: [ 74/100] Training Loss: 0.0486 - MeanSquaredError: 0.0000 - R2Score: 1.0000\n",
      "INFO:2021-08-03 18:15:47,677:emulator:_train_once:L308: [ 75/100] Training Loss: 0.0369 - MeanSquaredError: 0.0000 - R2Score: 1.0000\n",
      "INFO:2021-08-03 18:15:47,682:emulator:_train_once:L308: [ 76/100] Training Loss: 0.0277 - MeanSquaredError: 0.0000 - R2Score: 1.0000\n",
      "INFO:2021-08-03 18:15:47,687:emulator:_train_once:L308: [ 77/100] Training Loss: 0.0191 - MeanSquaredError: 0.0000 - R2Score: 1.0000\n",
      "INFO:2021-08-03 18:15:47,692:emulator:_train_once:L308: [ 78/100] Training Loss: 0.0102 - MeanSquaredError: 0.0000 - R2Score: 1.0000\n",
      "INFO:2021-08-03 18:15:47,697:emulator:_train_once:L308: [ 79/100] Training Loss: 0.0034 - MeanSquaredError: 0.0000 - R2Score: 1.0000\n",
      "INFO:2021-08-03 18:15:47,703:emulator:_train_once:L308: [ 80/100] Training Loss: -0.0031 - MeanSquaredError: 0.0000 - R2Score: 1.0000\n",
      "INFO:2021-08-03 18:15:47,708:emulator:_train_once:L308: [ 81/100] Training Loss: -0.0099 - MeanSquaredError: 0.0000 - R2Score: 1.0000\n",
      "INFO:2021-08-03 18:15:47,713:emulator:_train_once:L308: [ 82/100] Training Loss: -0.0150 - MeanSquaredError: 0.0000 - R2Score: 1.0000\n"
     ]
    },
    {
     "name": "stderr",
     "output_type": "stream",
     "text": [
      "INFO:2021-08-03 18:15:47,718:emulator:_train_once:L308: [ 83/100] Training Loss: -0.0197 - MeanSquaredError: 0.0000 - R2Score: 1.0000\n",
      "INFO:2021-08-03 18:15:47,724:emulator:_train_once:L308: [ 84/100] Training Loss: -0.0243 - MeanSquaredError: 0.0000 - R2Score: 1.0000\n",
      "INFO:2021-08-03 18:15:47,730:emulator:_train_once:L308: [ 85/100] Training Loss: -0.0282 - MeanSquaredError: 0.0000 - R2Score: 1.0000\n",
      "INFO:2021-08-03 18:15:47,735:emulator:_train_once:L308: [ 86/100] Training Loss: -0.0314 - MeanSquaredError: 0.0000 - R2Score: 1.0000\n",
      "INFO:2021-08-03 18:15:47,741:emulator:_train_once:L308: [ 87/100] Training Loss: -0.0350 - MeanSquaredError: 0.0000 - R2Score: 1.0000\n",
      "INFO:2021-08-03 18:15:47,746:emulator:_train_once:L308: [ 88/100] Training Loss: -0.0377 - MeanSquaredError: 0.0000 - R2Score: 1.0000\n",
      "INFO:2021-08-03 18:15:47,752:emulator:_train_once:L308: [ 89/100] Training Loss: -0.0401 - MeanSquaredError: 0.0000 - R2Score: 1.0000\n",
      "INFO:2021-08-03 18:15:47,758:emulator:_train_once:L308: [ 90/100] Training Loss: -0.0426 - MeanSquaredError: 0.0000 - R2Score: 1.0000\n",
      "INFO:2021-08-03 18:15:47,763:emulator:_train_once:L308: [ 91/100] Training Loss: -0.0446 - MeanSquaredError: 0.0000 - R2Score: 1.0000\n",
      "INFO:2021-08-03 18:15:47,769:emulator:_train_once:L308: [ 92/100] Training Loss: -0.0463 - MeanSquaredError: 0.0000 - R2Score: 1.0000\n",
      "INFO:2021-08-03 18:15:47,775:emulator:_train_once:L308: [ 93/100] Training Loss: -0.0482 - MeanSquaredError: 0.0000 - R2Score: 1.0000\n",
      "INFO:2021-08-03 18:15:47,779:emulator:_train_once:L308: [ 94/100] Training Loss: -0.0495 - MeanSquaredError: 0.0000 - R2Score: 1.0000\n",
      "INFO:2021-08-03 18:15:47,786:emulator:_train_once:L308: [ 95/100] Training Loss: -0.0509 - MeanSquaredError: 0.0000 - R2Score: 1.0000\n",
      "INFO:2021-08-03 18:15:47,791:emulator:_train_once:L308: [ 96/100] Training Loss: -0.0524 - MeanSquaredError: 0.0000 - R2Score: 1.0000\n",
      "INFO:2021-08-03 18:15:47,797:emulator:_train_once:L308: [ 97/100] Training Loss: -0.0536 - MeanSquaredError: 0.0000 - R2Score: 1.0000\n",
      "INFO:2021-08-03 18:15:47,804:emulator:_train_once:L308: [ 98/100] Training Loss: -0.0546 - MeanSquaredError: 0.0000 - R2Score: 1.0000\n",
      "INFO:2021-08-03 18:15:47,809:emulator:_train_once:L308: [ 99/100] Training Loss: -0.0556 - MeanSquaredError: 0.0000 - R2Score: 1.0000\n",
      "INFO:2021-08-03 18:15:47,815:emulator:_train_once:L308: [100/100] Training Loss: -0.0564 - MeanSquaredError: 0.0000 - R2Score: 1.0000\n",
      "INFO:2021-08-03 18:15:47,817:emulator:train:L112: Run restart 2.\n",
      "INFO:2021-08-03 18:15:47,817:emulator:train:L99: Running restart 3...\n",
      "INFO:2021-08-03 18:15:47,830:emulator:_train_once:L308: [  1/100] Training Loss: 1.7727 - MeanSquaredError: 1.1276 - R2Score: -0.1276\n",
      "INFO:2021-08-03 18:15:47,835:emulator:_train_once:L308: [  2/100] Training Loss: 1.6866 - MeanSquaredError: 1.0094 - R2Score: -0.0094\n",
      "INFO:2021-08-03 18:15:47,841:emulator:_train_once:L308: [  3/100] Training Loss: 1.5717 - MeanSquaredError: 0.9071 - R2Score: 0.0929\n",
      "INFO:2021-08-03 18:15:47,846:emulator:_train_once:L308: [  4/100] Training Loss: 1.4687 - MeanSquaredError: 0.8344 - R2Score: 0.1656\n",
      "INFO:2021-08-03 18:15:47,851:emulator:_train_once:L308: [  5/100] Training Loss: 1.3970 - MeanSquaredError: 0.7915 - R2Score: 0.2085\n",
      "INFO:2021-08-03 18:15:47,857:emulator:_train_once:L308: [  6/100] Training Loss: 1.3599 - MeanSquaredError: 0.7731 - R2Score: 0.2269\n",
      "INFO:2021-08-03 18:15:47,862:emulator:_train_once:L308: [  7/100] Training Loss: 1.3523 - MeanSquaredError: 0.7719 - R2Score: 0.2281\n",
      "INFO:2021-08-03 18:15:47,866:emulator:_train_once:L308: [  8/100] Training Loss: 1.3655 - MeanSquaredError: 0.7806 - R2Score: 0.2194\n",
      "INFO:2021-08-03 18:15:47,872:emulator:_train_once:L308: [  9/100] Training Loss: 1.3898 - MeanSquaredError: 0.7922 - R2Score: 0.2078\n",
      "INFO:2021-08-03 18:15:47,878:emulator:_train_once:L308: [ 10/100] Training Loss: 1.4156 - MeanSquaredError: 0.8011 - R2Score: 0.1989\n",
      "INFO:2021-08-03 18:15:47,883:emulator:_train_once:L308: [ 11/100] Training Loss: 1.4355 - MeanSquaredError: 0.8043 - R2Score: 0.1957\n",
      "INFO:2021-08-03 18:15:47,888:emulator:_train_once:L308: [ 12/100] Training Loss: 1.4453 - MeanSquaredError: 0.8013 - R2Score: 0.1987\n",
      "INFO:2021-08-03 18:15:47,894:emulator:_train_once:L308: [ 13/100] Training Loss: 1.4442 - MeanSquaredError: 0.7937 - R2Score: 0.2063\n",
      "INFO:2021-08-03 18:15:47,899:emulator:_train_once:L308: [ 14/100] Training Loss: 1.4345 - MeanSquaredError: 0.7839 - R2Score: 0.2161\n",
      "INFO:2021-08-03 18:15:47,905:emulator:_train_once:L308: [ 15/100] Training Loss: 1.4197 - MeanSquaredError: 0.7740 - R2Score: 0.2260\n",
      "INFO:2021-08-03 18:15:47,911:emulator:_train_once:L308: [ 16/100] Training Loss: 1.4032 - MeanSquaredError: 0.7657 - R2Score: 0.2343\n",
      "INFO:2021-08-03 18:15:47,916:emulator:_train_once:L308: [ 17/100] Training Loss: 1.3878 - MeanSquaredError: 0.7595 - R2Score: 0.2405\n",
      "INFO:2021-08-03 18:15:47,921:emulator:_train_once:L308: [ 18/100] Training Loss: 1.3752 - MeanSquaredError: 0.7557 - R2Score: 0.2443\n",
      "INFO:2021-08-03 18:15:47,926:emulator:_train_once:L308: [ 19/100] Training Loss: 1.3660 - MeanSquaredError: 0.7541 - R2Score: 0.2459\n",
      "INFO:2021-08-03 18:15:47,931:emulator:_train_once:L308: [ 20/100] Training Loss: 1.3604 - MeanSquaredError: 0.7542 - R2Score: 0.2458\n",
      "INFO:2021-08-03 18:15:47,936:emulator:_train_once:L308: [ 21/100] Training Loss: 1.3579 - MeanSquaredError: 0.7555 - R2Score: 0.2445\n",
      "INFO:2021-08-03 18:15:47,942:emulator:_train_once:L308: [ 22/100] Training Loss: 1.3578 - MeanSquaredError: 0.7577 - R2Score: 0.2423\n",
      "INFO:2021-08-03 18:15:47,947:emulator:_train_once:L308: [ 23/100] Training Loss: 1.3594 - MeanSquaredError: 0.7602 - R2Score: 0.2398\n",
      "INFO:2021-08-03 18:15:47,954:emulator:_train_once:L308: [ 24/100] Training Loss: 1.3618 - MeanSquaredError: 0.7625 - R2Score: 0.2375\n",
      "INFO:2021-08-03 18:15:47,961:emulator:_train_once:L308: [ 25/100] Training Loss: 1.3641 - MeanSquaredError: 0.7644 - R2Score: 0.2356\n",
      "INFO:2021-08-03 18:15:47,966:emulator:_train_once:L308: [ 26/100] Training Loss: 1.3656 - MeanSquaredError: 0.7654 - R2Score: 0.2346\n",
      "INFO:2021-08-03 18:15:47,971:emulator:_train_once:L308: [ 27/100] Training Loss: 1.3657 - MeanSquaredError: 0.7655 - R2Score: 0.2345\n",
      "INFO:2021-08-03 18:15:47,976:emulator:_train_once:L308: [ 28/100] Training Loss: 1.3641 - MeanSquaredError: 0.7647 - R2Score: 0.2353\n",
      "INFO:2021-08-03 18:15:47,981:emulator:_train_once:L308: [ 29/100] Training Loss: 1.3607 - MeanSquaredError: 0.7630 - R2Score: 0.2370\n",
      "INFO:2021-08-03 18:15:47,987:emulator:_train_once:L308: [ 30/100] Training Loss: 1.3559 - MeanSquaredError: 0.7608 - R2Score: 0.2392\n",
      "INFO:2021-08-03 18:15:47,993:emulator:_train_once:L308: [ 31/100] Training Loss: 1.3500 - MeanSquaredError: 0.7584 - R2Score: 0.2416\n",
      "INFO:2021-08-03 18:15:47,998:emulator:_train_once:L308: [ 32/100] Training Loss: 1.3439 - MeanSquaredError: 0.7564 - R2Score: 0.2436\n",
      "INFO:2021-08-03 18:15:48,004:emulator:_train_once:L308: [ 33/100] Training Loss: 1.3381 - MeanSquaredError: 0.7549 - R2Score: 0.2451\n",
      "INFO:2021-08-03 18:15:48,010:emulator:_train_once:L308: [ 34/100] Training Loss: 1.3333 - MeanSquaredError: 0.7543 - R2Score: 0.2457\n",
      "INFO:2021-08-03 18:15:48,015:emulator:_train_once:L308: [ 35/100] Training Loss: 1.3297 - MeanSquaredError: 0.7547 - R2Score: 0.2453\n",
      "INFO:2021-08-03 18:15:48,021:emulator:_train_once:L308: [ 36/100] Training Loss: 1.3275 - MeanSquaredError: 0.7558 - R2Score: 0.2442\n",
      "INFO:2021-08-03 18:15:48,026:emulator:_train_once:L308: [ 37/100] Training Loss: 1.3262 - MeanSquaredError: 0.7574 - R2Score: 0.2426\n",
      "INFO:2021-08-03 18:15:48,031:emulator:_train_once:L308: [ 38/100] Training Loss: 1.3255 - MeanSquaredError: 0.7589 - R2Score: 0.2411\n",
      "INFO:2021-08-03 18:15:48,037:emulator:_train_once:L308: [ 39/100] Training Loss: 1.3246 - MeanSquaredError: 0.7598 - R2Score: 0.2402\n",
      "INFO:2021-08-03 18:15:48,043:emulator:_train_once:L308: [ 40/100] Training Loss: 1.3230 - MeanSquaredError: 0.7597 - R2Score: 0.2403\n",
      "INFO:2021-08-03 18:15:48,048:emulator:_train_once:L308: [ 41/100] Training Loss: 1.3204 - MeanSquaredError: 0.7588 - R2Score: 0.2412\n",
      "INFO:2021-08-03 18:15:48,054:emulator:_train_once:L308: [ 42/100] Training Loss: 1.3170 - MeanSquaredError: 0.7573 - R2Score: 0.2427\n",
      "INFO:2021-08-03 18:15:48,059:emulator:_train_once:L308: [ 43/100] Training Loss: 1.3132 - MeanSquaredError: 0.7557 - R2Score: 0.2443\n"
     ]
    },
    {
     "name": "stderr",
     "output_type": "stream",
     "text": [
      "INFO:2021-08-03 18:15:48,063:emulator:_train_once:L308: [ 44/100] Training Loss: 1.3095 - MeanSquaredError: 0.7547 - R2Score: 0.2453\n",
      "INFO:2021-08-03 18:15:48,069:emulator:_train_once:L308: [ 45/100] Training Loss: 1.3065 - MeanSquaredError: 0.7544 - R2Score: 0.2456\n",
      "INFO:2021-08-03 18:15:48,074:emulator:_train_once:L308: [ 46/100] Training Loss: 1.3045 - MeanSquaredError: 0.7549 - R2Score: 0.2451\n",
      "INFO:2021-08-03 18:15:48,079:emulator:_train_once:L308: [ 47/100] Training Loss: 1.3033 - MeanSquaredError: 0.7559 - R2Score: 0.2441\n",
      "INFO:2021-08-03 18:15:48,085:emulator:_train_once:L308: [ 48/100] Training Loss: 1.3026 - MeanSquaredError: 0.7567 - R2Score: 0.2433\n",
      "INFO:2021-08-03 18:15:48,091:emulator:_train_once:L308: [ 49/100] Training Loss: 1.3019 - MeanSquaredError: 0.7570 - R2Score: 0.2430\n",
      "INFO:2021-08-03 18:15:48,097:emulator:_train_once:L308: [ 50/100] Training Loss: 1.3007 - MeanSquaredError: 0.7566 - R2Score: 0.2434\n",
      "INFO:2021-08-03 18:15:48,102:emulator:_train_once:L308: [ 51/100] Training Loss: 1.2991 - MeanSquaredError: 0.7557 - R2Score: 0.2443\n",
      "INFO:2021-08-03 18:15:48,108:emulator:_train_once:L308: [ 52/100] Training Loss: 1.2971 - MeanSquaredError: 0.7547 - R2Score: 0.2453\n",
      "INFO:2021-08-03 18:15:48,113:emulator:_train_once:L308: [ 53/100] Training Loss: 1.2951 - MeanSquaredError: 0.7540 - R2Score: 0.2460\n",
      "INFO:2021-08-03 18:15:48,118:emulator:_train_once:L308: [ 54/100] Training Loss: 1.2936 - MeanSquaredError: 0.7540 - R2Score: 0.2460\n",
      "INFO:2021-08-03 18:15:48,124:emulator:_train_once:L308: [ 55/100] Training Loss: 1.2927 - MeanSquaredError: 0.7544 - R2Score: 0.2456\n",
      "INFO:2021-08-03 18:15:48,129:emulator:_train_once:L308: [ 56/100] Training Loss: 1.2922 - MeanSquaredError: 0.7549 - R2Score: 0.2451\n",
      "INFO:2021-08-03 18:15:48,133:emulator:_train_once:L308: [ 57/100] Training Loss: 1.2919 - MeanSquaredError: 0.7553 - R2Score: 0.2447\n",
      "INFO:2021-08-03 18:15:48,139:emulator:_train_once:L308: [ 58/100] Training Loss: 1.2914 - MeanSquaredError: 0.7552 - R2Score: 0.2448\n",
      "INFO:2021-08-03 18:15:48,144:emulator:_train_once:L308: [ 59/100] Training Loss: 1.2907 - MeanSquaredError: 0.7548 - R2Score: 0.2452\n",
      "INFO:2021-08-03 18:15:48,148:emulator:_train_once:L308: [ 60/100] Training Loss: 1.2897 - MeanSquaredError: 0.7543 - R2Score: 0.2457\n",
      "INFO:2021-08-03 18:15:48,153:emulator:_train_once:L308: [ 61/100] Training Loss: 1.2887 - MeanSquaredError: 0.7539 - R2Score: 0.2461\n",
      "INFO:2021-08-03 18:15:48,158:emulator:_train_once:L308: [ 62/100] Training Loss: 1.2879 - MeanSquaredError: 0.7540 - R2Score: 0.2460\n",
      "INFO:2021-08-03 18:15:48,163:emulator:_train_once:L308: [ 63/100] Training Loss: 1.2875 - MeanSquaredError: 0.7542 - R2Score: 0.2458\n",
      "INFO:2021-08-03 18:15:48,168:emulator:_train_once:L308: [ 64/100] Training Loss: 1.2872 - MeanSquaredError: 0.7545 - R2Score: 0.2455\n",
      "INFO:2021-08-03 18:15:48,175:emulator:_train_once:L308: [ 65/100] Training Loss: 1.2870 - MeanSquaredError: 0.7547 - R2Score: 0.2453\n",
      "INFO:2021-08-03 18:15:48,180:emulator:_train_once:L308: [ 66/100] Training Loss: 1.2868 - MeanSquaredError: 0.7546 - R2Score: 0.2454\n",
      "INFO:2021-08-03 18:15:48,185:emulator:_train_once:L308: [ 67/100] Training Loss: 1.2863 - MeanSquaredError: 0.7543 - R2Score: 0.2457\n",
      "INFO:2021-08-03 18:15:48,190:emulator:_train_once:L308: [ 68/100] Training Loss: 1.2858 - MeanSquaredError: 0.7541 - R2Score: 0.2459\n",
      "INFO:2021-08-03 18:15:48,194:emulator:_train_once:L308: [ 69/100] Training Loss: 1.2853 - MeanSquaredError: 0.7539 - R2Score: 0.2461\n",
      "INFO:2021-08-03 18:15:48,199:emulator:_train_once:L308: [ 70/100] Training Loss: 1.2849 - MeanSquaredError: 0.7540 - R2Score: 0.2460\n",
      "INFO:2021-08-03 18:15:48,206:emulator:_train_once:L308: [ 71/100] Training Loss: 1.2847 - MeanSquaredError: 0.7541 - R2Score: 0.2459\n",
      "INFO:2021-08-03 18:15:48,212:emulator:_train_once:L308: [ 72/100] Training Loss: 1.2846 - MeanSquaredError: 0.7542 - R2Score: 0.2458\n",
      "INFO:2021-08-03 18:15:48,217:emulator:_train_once:L308: [ 73/100] Training Loss: 1.2844 - MeanSquaredError: 0.7543 - R2Score: 0.2457\n",
      "INFO:2021-08-03 18:15:48,223:emulator:_train_once:L308: [ 74/100] Training Loss: 1.2842 - MeanSquaredError: 0.7542 - R2Score: 0.2458\n",
      "INFO:2021-08-03 18:15:48,228:emulator:_train_once:L308: [ 75/100] Training Loss: 1.2840 - MeanSquaredError: 0.7540 - R2Score: 0.2460\n",
      "INFO:2021-08-03 18:15:48,233:emulator:_train_once:L308: [ 76/100] Training Loss: 1.2837 - MeanSquaredError: 0.7539 - R2Score: 0.2461\n",
      "INFO:2021-08-03 18:15:48,237:emulator:_train_once:L308: [ 77/100] Training Loss: 1.2834 - MeanSquaredError: 0.7539 - R2Score: 0.2461\n",
      "INFO:2021-08-03 18:15:48,242:emulator:_train_once:L308: [ 78/100] Training Loss: 1.2833 - MeanSquaredError: 0.7540 - R2Score: 0.2460\n",
      "INFO:2021-08-03 18:15:48,246:emulator:_train_once:L308: [ 79/100] Training Loss: 1.2831 - MeanSquaredError: 0.7541 - R2Score: 0.2459\n",
      "INFO:2021-08-03 18:15:48,253:emulator:_train_once:L308: [ 80/100] Training Loss: 1.2830 - MeanSquaredError: 0.7541 - R2Score: 0.2459\n",
      "INFO:2021-08-03 18:15:48,257:emulator:_train_once:L308: [ 81/100] Training Loss: 1.2829 - MeanSquaredError: 0.7541 - R2Score: 0.2459\n",
      "INFO:2021-08-03 18:15:48,262:emulator:_train_once:L308: [ 82/100] Training Loss: 1.2828 - MeanSquaredError: 0.7540 - R2Score: 0.2460\n",
      "INFO:2021-08-03 18:15:48,269:emulator:_train_once:L308: [ 83/100] Training Loss: 1.2826 - MeanSquaredError: 0.7539 - R2Score: 0.2461\n",
      "INFO:2021-08-03 18:15:48,275:emulator:_train_once:L308: [ 84/100] Training Loss: 1.2824 - MeanSquaredError: 0.7539 - R2Score: 0.2461\n",
      "INFO:2021-08-03 18:15:48,279:emulator:_train_once:L308: [ 85/100] Training Loss: 1.2823 - MeanSquaredError: 0.7539 - R2Score: 0.2461\n",
      "INFO:2021-08-03 18:15:48,285:emulator:_train_once:L308: [ 86/100] Training Loss: 1.2822 - MeanSquaredError: 0.7540 - R2Score: 0.2460\n",
      "INFO:2021-08-03 18:15:48,291:emulator:_train_once:L308: [ 87/100] Training Loss: 1.2821 - MeanSquaredError: 0.7540 - R2Score: 0.2460\n",
      "INFO:2021-08-03 18:15:48,295:emulator:_train_once:L308: [ 88/100] Training Loss: 1.2821 - MeanSquaredError: 0.7540 - R2Score: 0.2460\n",
      "INFO:2021-08-03 18:15:48,301:emulator:_train_once:L308: [ 89/100] Training Loss: 1.2820 - MeanSquaredError: 0.7540 - R2Score: 0.2460\n",
      "INFO:2021-08-03 18:15:48,306:emulator:_train_once:L308: [ 90/100] Training Loss: 1.2819 - MeanSquaredError: 0.7539 - R2Score: 0.2461\n",
      "INFO:2021-08-03 18:15:48,311:emulator:_train_once:L308: [ 91/100] Training Loss: 1.2817 - MeanSquaredError: 0.7539 - R2Score: 0.2461\n",
      "INFO:2021-08-03 18:15:48,317:emulator:_train_once:L308: [ 92/100] Training Loss: 1.2817 - MeanSquaredError: 0.7539 - R2Score: 0.2461\n",
      "INFO:2021-08-03 18:15:48,322:emulator:_train_once:L308: [ 93/100] Training Loss: 1.2816 - MeanSquaredError: 0.7539 - R2Score: 0.2461\n",
      "INFO:2021-08-03 18:15:48,327:emulator:_train_once:L308: [ 94/100] Training Loss: 1.2815 - MeanSquaredError: 0.7540 - R2Score: 0.2460\n",
      "INFO:2021-08-03 18:15:48,332:emulator:_train_once:L308: [ 95/100] Training Loss: 1.2815 - MeanSquaredError: 0.7540 - R2Score: 0.2460\n",
      "INFO:2021-08-03 18:15:48,337:emulator:_train_once:L308: [ 96/100] Training Loss: 1.2814 - MeanSquaredError: 0.7539 - R2Score: 0.2461\n",
      "INFO:2021-08-03 18:15:48,341:emulator:_train_once:L308: [ 97/100] Training Loss: 1.2813 - MeanSquaredError: 0.7539 - R2Score: 0.2461\n",
      "INFO:2021-08-03 18:15:48,346:emulator:_train_once:L308: [ 98/100] Training Loss: 1.2812 - MeanSquaredError: 0.7539 - R2Score: 0.2461\n",
      "INFO:2021-08-03 18:15:48,350:emulator:_train_once:L308: [ 99/100] Training Loss: 1.2812 - MeanSquaredError: 0.7539 - R2Score: 0.2461\n",
      "INFO:2021-08-03 18:15:48,355:emulator:_train_once:L308: [100/100] Training Loss: 1.2811 - MeanSquaredError: 0.7539 - R2Score: 0.2461\n",
      "INFO:2021-08-03 18:15:48,357:emulator:train:L112: Run restart 3.\n",
      "INFO:2021-08-03 18:15:48,358:emulator:train:L115: Trained emulator...\n",
      "INFO:2021-08-03 18:15:48,358:emulator:train:L155: Loading best model (restart: 2, epoch: 100)...\n",
      "INFO:2021-08-03 18:15:48,360:emulator:train:L166: Loaded best model (restart: 2, epoch: 100).\n",
      "INFO:2021-08-03 18:15:48,361:emulator:train:L183: Loading best train stats (restart: 2, epoch: 100)...\n",
      "INFO:2021-08-03 18:15:48,361:emulator:train:L206: The fitted emulator hyperparameters are:\n"
     ]
    },
    {
     "name": "stdout",
     "output_type": "stream",
     "text": [
      "\n",
      "Bias: -1.0693\n",
      "Weights: 2.9473683834075928\n",
      "Outputscale: 1.8783\n",
      "Lengthscales: 0.18385031819343567\n",
      "Likelihood noise: 0.0001\n"
     ]
    },
    {
     "data": {
      "text/plain": [
       "(OrderedDict([('likelihood.noise_covar.raw_noise', tensor([-10.7608])),\n",
       "              ('mean_module.weights', tensor([[2.9474]])),\n",
       "              ('mean_module.bias', tensor([-1.0693])),\n",
       "              ('covar_module.raw_outputscale', tensor(1.7124)),\n",
       "              ('covar_module.base_kernel.raw_lengthscale',\n",
       "               tensor([[-1.6003]]))]),\n",
       " <GPErks.train.train_stats.TrainStats at 0x7f6cba4aaa30>)"
      ]
     },
     "execution_count": 43,
     "metadata": {},
     "output_type": "execute_result"
    }
   ],
   "source": [
    "# train model\n",
    "from GPErks.train.emulator import GPEmulator\n",
    "emulator = GPEmulator(experiment, device)\n",
    "emulator.train(optimizer)"
   ]
  },
  {
   "cell_type": "code",
   "execution_count": 44,
   "id": "407e4e97",
   "metadata": {},
   "outputs": [
    {
     "name": "stdout",
     "output_type": "stream",
     "text": [
      "0.2553609013557434\n",
      "0.8388262391090393\n"
     ]
    }
   ],
   "source": [
    "# inference on stored test set\n",
    "x_test = dataset.X_test\n",
    "y_test = dataset.y_test\n",
    "\n",
    "y_mean, y_std = emulator.predict(x_test)\n",
    "\n",
    "for metric in metrics:\n",
    "    print( metric(\n",
    "        torch.from_numpy(y_mean), torch.from_numpy(y_test)\n",
    "        ).item()\n",
    "    )"
   ]
  },
  {
   "cell_type": "code",
   "execution_count": 45,
   "id": "1a04de09",
   "metadata": {},
   "outputs": [
    {
     "name": "stdout",
     "output_type": "stream",
     "text": [
      "                   Score\n",
      "MeanSquaredError  0.2554\n",
      "R2Score           0.8388\n"
     ]
    }
   ],
   "source": [
    "# perk n.1: automatic inference\n",
    "from GPErks.perks.inference import Inference\n",
    "inference = Inference(emulator)\n",
    "inference.summary()  # can be retrieved from inference.scores_dct"
   ]
  },
  {
   "cell_type": "code",
   "execution_count": 46,
   "id": "6d7ad011",
   "metadata": {},
   "outputs": [
    {
     "data": {
      "image/png": "[encoded data removed]",
      "text/plain": [
       "<Figure size 568x337 with 1 Axes>"
      ]
     },
     "metadata": {
      "needs_background": "light"
     },
     "output_type": "display_data"
    }
   ],
   "source": [
    "# nice plotting\n",
    "x_train = dataset.X_train\n",
    "y_train = dataset.y_train\n",
    "\n",
    "xx = np.linspace(dataset.l_bounds[0], dataset.u_bounds[0], 1000)\n",
    "yy_mean, yy_std = emulator.predict(xx)\n",
    "yy_true = f(xx)\n",
    "\n",
    "import matplotlib.pyplot as plt\n",
    "height = 9.36111\n",
    "width = 5.91667\n",
    "fig, axis = plt.subplots(1, 1, figsize=(4*width/3, height/2))\n",
    "\n",
    "axis.plot(xx, yy_true, c=\"C0\", ls=\"--\", label=\"true function\")\n",
    "\n",
    "CI = 2\n",
    "axis.plot(xx, yy_mean, c=\"C0\", label=\"predicted mean\")\n",
    "axis.fill_between(\n",
    "    xx, yy_mean - CI * yy_std, yy_mean + CI * yy_std, color=\"C0\", alpha=0.15, label=\"~95% CI\"\n",
    ")\n",
    "axis.scatter(x_train, y_train, fc=\"C0\", ec=\"C0\", label=\"training data\")\n",
    "\n",
    "# axis.scatter(x_test, y_test, fc=\"none\", ec=\"C0\", label=\"testing data\")\n",
    "\n",
    "axis.legend(loc=\"best\")\n",
    "fig.tight_layout()\n",
    "plt.show()"
   ]
  },
  {
   "cell_type": "code",
   "execution_count": 47,
   "id": "4aacaa77",
   "metadata": {},
   "outputs": [
    {
     "data": {
      "image/png": "[encoded data removed]",
      "text/plain": [
       "<Figure size 852x449.333 with 1 Axes>"
      ]
     },
     "metadata": {
      "needs_background": "light"
     },
     "output_type": "display_data"
    }
   ],
   "source": [
    "# check testing points\n",
    "inference.plot()"
   ]
  },
  {
   "cell_type": "code",
   "execution_count": 48,
   "id": "c0ff9ece",
   "metadata": {},
   "outputs": [
    {
     "name": "stdout",
     "output_type": "stream",
     "text": [
      "(10,)\n",
      "(10,)\n"
     ]
    }
   ],
   "source": [
    "# draw samples from the posterior distribution\n",
    "y_mean, y_std = emulator.predict(x_test)\n",
    "print(y_mean.shape)\n",
    "print(y_std.shape)"
   ]
  },
  {
   "cell_type": "code",
   "execution_count": 49,
   "id": "07fb6a48",
   "metadata": {},
   "outputs": [
    {
     "name": "stdout",
     "output_type": "stream",
     "text": [
      "(5, 10)\n"
     ]
    }
   ],
   "source": [
    "y_samples = emulator.sample(x_test, n_draws=5)\n",
    "print(y_samples.shape)"
   ]
  },
  {
   "cell_type": "code",
   "execution_count": 50,
   "id": "b59d27c3",
   "metadata": {},
   "outputs": [
    {
     "data": {
      "image/png": "[encoded data removed]",
      "text/plain": [
       "<Figure size 568x337 with 1 Axes>"
      ]
     },
     "metadata": {
      "needs_background": "light"
     },
     "output_type": "display_data"
    }
   ],
   "source": [
    "y_samples = emulator.sample(xx, n_draws=5)\n",
    "\n",
    "fig, axis = plt.subplots(1, 1, figsize=(4*width/3, height/2))\n",
    "\n",
    "for i, ys in enumerate(y_samples):\n",
    "    axis.plot(xx, ys, lw=0.8, label=f\"posterior sample #{i+1}\", zorder=1)\n",
    "    \n",
    "axis.plot(xx, yy_mean, c=\"k\", lw=2, ls=\"--\", label=\"posterior mean\", zorder=2)\n",
    "axis.scatter(x_train, y_train, fc=\"k\", ec=\"k\", label=\"training data\", zorder=2)\n",
    "\n",
    "axis.legend(loc=\"best\")\n",
    "fig.tight_layout()\n",
    "plt.show()"
   ]
  },
  {
   "cell_type": "code",
   "execution_count": null,
   "id": "10964d2e",
   "metadata": {},
   "outputs": [],
   "source": []
  }
 ],
 "metadata": {
  "kernelspec": {
   "display_name": "Python 3 (ipykernel)",
   "language": "python",
   "name": "python3"
  },
  "language_info": {
   "codemirror_mode": {
    "name": "ipython",
    "version": 3
   },
   "file_extension": ".py",
   "mimetype": "text/x-python",
   "name": "python",
   "nbconvert_exporter": "python",
   "pygments_lexer": "ipython3",
   "version": "3.8.0"
  }
 },
 "nbformat": 4,
 "nbformat_minor": 5
}
