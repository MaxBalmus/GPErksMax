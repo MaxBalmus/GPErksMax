{
 "cells": [
  {
   "cell_type": "code",
   "execution_count": 31,
   "id": "03c3a4c1",
   "metadata": {},
   "outputs": [],
   "source": [
    "import numpy as np\n",
    "import torch"
   ]
  },
  {
   "cell_type": "code",
   "execution_count": 32,
   "id": "eaddab00",
   "metadata": {},
   "outputs": [],
   "source": [
    "# set logger and enforce reproducibility\n",
    "from GPErks.log.logger import get_logger\n",
    "from GPErks.utils.random import set_seed\n",
    "log = get_logger()\n",
    "seed = 8\n",
    "set_seed(seed)  # reproducible sampling"
   ]
  },
  {
   "cell_type": "markdown",
   "id": "74aa4037",
   "metadata": {},
   "source": [
    "**1D function example**: Forrester et al. (2008)\n",
    "\n",
    "$f(x) = (6x - 2)^2 \\sin(12x - 4)$"
   ]
  },
  {
   "cell_type": "code",
   "execution_count": 33,
   "id": "7695caac",
   "metadata": {},
   "outputs": [],
   "source": [
    "# function to learn (normally a high-dimensional, expensive deterministic model)\n",
    "from GPErks.utils.test_functions import forrester\n",
    "f = lambda x: forrester(x)\n",
    "D = 1\n",
    "n_train_samples = 10\n",
    "n_val_samples = 10\n",
    "n_test_samples = 10"
   ]
  },
  {
   "cell_type": "code",
   "execution_count": 34,
   "id": "18ee852a",
   "metadata": {},
   "outputs": [
    {
     "name": "stdout",
     "output_type": "stream",
     "text": [
      "(10,)\n"
     ]
    }
   ],
   "source": [
    "# build dataset\n",
    "from GPErks.gp.data.dataset import Dataset\n",
    "\n",
    "dataset = Dataset.build_from_function(\n",
    "    f,\n",
    "    D,\n",
    "    n_train_samples,\n",
    "    n_val_samples,\n",
    "    n_test_samples,\n",
    "    design=\"srs\",\n",
    "    seed=seed,\n",
    "    l_bounds=None,\n",
    "    u_bounds=None\n",
    ")\n",
    "print(dataset.y_train.shape)"
   ]
  },
  {
   "cell_type": "code",
   "execution_count": 35,
   "id": "9ab8c2c4",
   "metadata": {},
   "outputs": [],
   "source": [
    "# choose likelihood\n",
    "from gpytorch.likelihoods import GaussianLikelihood\n",
    "likelihood = GaussianLikelihood()"
   ]
  },
  {
   "cell_type": "code",
   "execution_count": 36,
   "id": "5a5a9328",
   "metadata": {},
   "outputs": [],
   "source": [
    "# choose mean function\n",
    "from gpytorch.means import LinearMean\n",
    "mean_function = LinearMean(input_size=dataset.input_size)"
   ]
  },
  {
   "cell_type": "code",
   "execution_count": 37,
   "id": "876efaf2",
   "metadata": {},
   "outputs": [],
   "source": [
    "# choose kernel\n",
    "from gpytorch.kernels import RBFKernel, ScaleKernel\n",
    "kernel = ScaleKernel(RBFKernel(ard_num_dims=dataset.input_size))"
   ]
  },
  {
   "cell_type": "code",
   "execution_count": 38,
   "id": "61e10f3d",
   "metadata": {},
   "outputs": [],
   "source": [
    "# choose metrics\n",
    "from torchmetrics import MeanSquaredError, R2Score\n",
    "metrics = [MeanSquaredError(), R2Score()]"
   ]
  },
  {
   "cell_type": "code",
   "execution_count": 39,
   "id": "d16eff04",
   "metadata": {},
   "outputs": [],
   "source": [
    "# define experiment\n",
    "from GPErks.gp.experiment import GPExperiment\n",
    "experiment = GPExperiment(\n",
    "    dataset,\n",
    "    likelihood,\n",
    "    mean_function,\n",
    "    kernel,\n",
    "    n_restarts=3,\n",
    "    metrics=metrics,\n",
    "    seed=seed  # reproducible training\n",
    ")"
   ]
  },
  {
   "cell_type": "code",
   "execution_count": 40,
   "id": "47bbcb86",
   "metadata": {},
   "outputs": [],
   "source": [
    "# choose training options: device + optimizer\n",
    "device = \"cuda\" if torch.cuda.is_available() else \"cpu\"\n",
    "optimizer = torch.optim.Adam(experiment.model.parameters(), lr=0.1)"
   ]
  },
  {
   "cell_type": "code",
   "execution_count": 41,
   "id": "a9888454",
   "metadata": {},
   "outputs": [
    {
     "name": "stderr",
     "output_type": "stream",
     "text": [
      "INFO:2021-08-01 12:58:58,142:emulator:train:L83: Training emulator...\n",
      "INFO:2021-08-01 12:58:58,145:emulator:train:L99: Running restart 1...\n",
      "/home/sl18/Documents/Python/GPErks/venv/lib/python3.8/site-packages/gpytorch/models/exact_gp.py:282: GPInputWarning: The input matches the stored training data. Did you forget to call model.train()?\n",
      "  warnings.warn(\n",
      "INFO:2021-08-01 12:58:58,178:emulator:_train_once:L308: [  1/100] Training Loss: 1.6861 - MeanSquaredError: 0.8620 - R2Score: 0.1380 | Validation Loss: 1.3714 - MeanSquaredError: 0.2022 - R2Score: -2.2695\n",
      "INFO:2021-08-01 12:58:58,187:emulator:_train_once:L308: [  2/100] Training Loss: 1.6591 - MeanSquaredError: 0.8447 - R2Score: 0.1553 | Validation Loss: 1.3532 - MeanSquaredError: 0.2134 - R2Score: -2.4509\n",
      "INFO:2021-08-01 12:58:58,195:emulator:_train_once:L308: [  3/100] Training Loss: 1.6330 - MeanSquaredError: 0.8289 - R2Score: 0.1711 | Validation Loss: 1.3350 - MeanSquaredError: 0.2259 - R2Score: -2.6540\n",
      "INFO:2021-08-01 12:58:58,205:emulator:_train_once:L308: [  4/100] Training Loss: 1.6080 - MeanSquaredError: 0.8145 - R2Score: 0.1855 | Validation Loss: 1.3169 - MeanSquaredError: 0.2398 - R2Score: -2.8779\n",
      "INFO:2021-08-01 12:58:58,213:emulator:_train_once:L308: [  5/100] Training Loss: 1.5840 - MeanSquaredError: 0.8017 - R2Score: 0.1983 | Validation Loss: 1.2990 - MeanSquaredError: 0.2548 - R2Score: -3.1215\n",
      "INFO:2021-08-01 12:58:58,221:emulator:_train_once:L308: [  6/100] Training Loss: 1.5612 - MeanSquaredError: 0.7903 - R2Score: 0.2097 | Validation Loss: 1.2813 - MeanSquaredError: 0.2710 - R2Score: -3.3831\n",
      "INFO:2021-08-01 12:58:58,228:emulator:_train_once:L308: [  7/100] Training Loss: 1.5398 - MeanSquaredError: 0.7805 - R2Score: 0.2195 | Validation Loss: 1.2638 - MeanSquaredError: 0.2882 - R2Score: -3.6602\n",
      "INFO:2021-08-01 12:58:58,237:emulator:_train_once:L308: [  8/100] Training Loss: 1.5199 - MeanSquaredError: 0.7723 - R2Score: 0.2277 | Validation Loss: 1.2467 - MeanSquaredError: 0.3060 - R2Score: -3.9495\n",
      "INFO:2021-08-01 12:58:58,243:emulator:_train_once:L308: [  9/100] Training Loss: 1.5018 - MeanSquaredError: 0.7656 - R2Score: 0.2344 | Validation Loss: 1.2300 - MeanSquaredError: 0.3244 - R2Score: -4.2461\n",
      "INFO:2021-08-01 12:58:58,253:emulator:_train_once:L308: [ 10/100] Training Loss: 1.4855 - MeanSquaredError: 0.7605 - R2Score: 0.2395 | Validation Loss: 1.2138 - MeanSquaredError: 0.3428 - R2Score: -4.5436\n",
      "INFO:2021-08-01 12:58:58,262:emulator:_train_once:L308: [ 11/100] Training Loss: 1.4710 - MeanSquaredError: 0.7569 - R2Score: 0.2431 | Validation Loss: 1.1980 - MeanSquaredError: 0.3608 - R2Score: -4.8342\n",
      "INFO:2021-08-01 12:58:58,269:emulator:_train_once:L308: [ 12/100] Training Loss: 1.4585 - MeanSquaredError: 0.7546 - R2Score: 0.2454 | Validation Loss: 1.1826 - MeanSquaredError: 0.3777 - R2Score: -5.1083\n",
      "INFO:2021-08-01 12:58:58,275:emulator:_train_once:L308: [ 13/100] Training Loss: 1.4476 - MeanSquaredError: 0.7533 - R2Score: 0.2467 | Validation Loss: 1.1676 - MeanSquaredError: 0.3930 - R2Score: -5.3560\n",
      "INFO:2021-08-01 12:58:58,283:emulator:_train_once:L308: [ 14/100] Training Loss: 1.4381 - MeanSquaredError: 0.7528 - R2Score: 0.2472 | Validation Loss: 1.1529 - MeanSquaredError: 0.4061 - R2Score: -5.5680\n",
      "INFO:2021-08-01 12:58:58,290:emulator:_train_once:L308: [ 15/100] Training Loss: 1.4296 - MeanSquaredError: 0.7527 - R2Score: 0.2473 | Validation Loss: 1.1383 - MeanSquaredError: 0.4166 - R2Score: -5.7367\n",
      "INFO:2021-08-01 12:58:58,297:emulator:_train_once:L308: [ 16/100] Training Loss: 1.4218 - MeanSquaredError: 0.7529 - R2Score: 0.2471 | Validation Loss: 1.1239 - MeanSquaredError: 0.4240 - R2Score: -5.8571\n",
      "INFO:2021-08-01 12:58:58,304:emulator:_train_once:L308: [ 17/100] Training Loss: 1.4145 - MeanSquaredError: 0.7531 - R2Score: 0.2469 | Validation Loss: 1.1095 - MeanSquaredError: 0.4283 - R2Score: -5.9269\n",
      "INFO:2021-08-01 12:58:58,311:emulator:_train_once:L308: [ 18/100] Training Loss: 1.4075 - MeanSquaredError: 0.7532 - R2Score: 0.2468 | Validation Loss: 1.0953 - MeanSquaredError: 0.4296 - R2Score: -5.9470\n",
      "INFO:2021-08-01 12:58:58,321:emulator:_train_once:L308: [ 19/100] Training Loss: 1.4009 - MeanSquaredError: 0.7532 - R2Score: 0.2468 | Validation Loss: 1.0812 - MeanSquaredError: 0.4280 - R2Score: -5.9210\n",
      "INFO:2021-08-01 12:58:58,330:emulator:_train_once:L308: [ 20/100] Training Loss: 1.3947 - MeanSquaredError: 0.7531 - R2Score: 0.2469 | Validation Loss: 1.0676 - MeanSquaredError: 0.4238 - R2Score: -5.8543\n",
      "INFO:2021-08-01 12:58:58,340:emulator:_train_once:L308: [ 21/100] Training Loss: 1.3890 - MeanSquaredError: 0.7531 - R2Score: 0.2469 | Validation Loss: 1.0547 - MeanSquaredError: 0.4176 - R2Score: -5.7543\n",
      "INFO:2021-08-01 12:58:58,348:emulator:_train_once:L308: [ 22/100] Training Loss: 1.3838 - MeanSquaredError: 0.7531 - R2Score: 0.2469 | Validation Loss: 1.0429 - MeanSquaredError: 0.4099 - R2Score: -5.6293\n",
      "INFO:2021-08-01 12:58:58,357:emulator:_train_once:L308: [ 23/100] Training Loss: 1.3793 - MeanSquaredError: 0.7533 - R2Score: 0.2467 | Validation Loss: 1.0325 - MeanSquaredError: 0.4013 - R2Score: -5.4897\n",
      "INFO:2021-08-01 12:58:58,365:emulator:_train_once:L308: [ 24/100] Training Loss: 1.3755 - MeanSquaredError: 0.7538 - R2Score: 0.2462 | Validation Loss: 1.0241 - MeanSquaredError: 0.3925 - R2Score: -5.3475\n",
      "INFO:2021-08-01 12:58:58,374:emulator:_train_once:L308: [ 25/100] Training Loss: 1.3724 - MeanSquaredError: 0.7544 - R2Score: 0.2456 | Validation Loss: 1.0181 - MeanSquaredError: 0.3844 - R2Score: -5.2169\n",
      "INFO:2021-08-01 12:58:58,381:emulator:_train_once:L308: [ 26/100] Training Loss: 1.3698 - MeanSquaredError: 0.7552 - R2Score: 0.2448 | Validation Loss: 1.0150 - MeanSquaredError: 0.3780 - R2Score: -5.1131\n",
      "INFO:2021-08-01 12:58:58,389:emulator:_train_once:L308: [ 27/100] Training Loss: 1.3672 - MeanSquaredError: 0.7559 - R2Score: 0.2441 | Validation Loss: 1.0153 - MeanSquaredError: 0.3742 - R2Score: -5.0509\n",
      "INFO:2021-08-01 12:58:58,397:emulator:_train_once:L308: [ 28/100] Training Loss: 1.3642 - MeanSquaredError: 0.7563 - R2Score: 0.2437 | Validation Loss: 1.0189 - MeanSquaredError: 0.3736 - R2Score: -5.0415\n",
      "INFO:2021-08-01 12:58:58,405:emulator:_train_once:L308: [ 29/100] Training Loss: 1.3601 - MeanSquaredError: 0.7564 - R2Score: 0.2436 | Validation Loss: 1.0258 - MeanSquaredError: 0.3766 - R2Score: -5.0904\n",
      "INFO:2021-08-01 12:58:58,413:emulator:_train_once:L308: [ 30/100] Training Loss: 1.3547 - MeanSquaredError: 0.7560 - R2Score: 0.2440 | Validation Loss: 1.0355 - MeanSquaredError: 0.3832 - R2Score: -5.1979\n",
      "INFO:2021-08-01 12:58:58,421:emulator:_train_once:L308: [ 31/100] Training Loss: 1.3485 - MeanSquaredError: 0.7553 - R2Score: 0.2447 | Validation Loss: 1.0473 - MeanSquaredError: 0.3932 - R2Score: -5.3584\n",
      "INFO:2021-08-01 12:58:58,428:emulator:_train_once:L308: [ 32/100] Training Loss: 1.3420 - MeanSquaredError: 0.7548 - R2Score: 0.2452 | Validation Loss: 1.0603 - MeanSquaredError: 0.4057 - R2Score: -5.5611\n",
      "INFO:2021-08-01 12:58:58,439:emulator:_train_once:L308: [ 33/100] Training Loss: 1.3361 - MeanSquaredError: 0.7547 - R2Score: 0.2453 | Validation Loss: 1.0737 - MeanSquaredError: 0.4197 - R2Score: -5.7877\n",
      "INFO:2021-08-01 12:58:58,447:emulator:_train_once:L308: [ 34/100] Training Loss: 1.3316 - MeanSquaredError: 0.7551 - R2Score: 0.2449 | Validation Loss: 1.0862 - MeanSquaredError: 0.4335 - R2Score: -6.0111\n",
      "INFO:2021-08-01 12:58:58,455:emulator:_train_once:L308: [ 35/100] Training Loss: 1.3285 - MeanSquaredError: 0.7560 - R2Score: 0.2440 | Validation Loss: 1.0966 - MeanSquaredError: 0.4449 - R2Score: -6.1956\n",
      "INFO:2021-08-01 12:58:58,462:emulator:_train_once:L308: [ 36/100] Training Loss: 1.3265 - MeanSquaredError: 0.7568 - R2Score: 0.2432 | Validation Loss: 1.1039 - MeanSquaredError: 0.4516 - R2Score: -6.3041\n",
      "INFO:2021-08-01 12:58:58,470:emulator:_train_once:L308: [ 37/100] Training Loss: 1.3246 - MeanSquaredError: 0.7569 - R2Score: 0.2431 | Validation Loss: 1.1074 - MeanSquaredError: 0.4520 - R2Score: -6.3103\n",
      "INFO:2021-08-01 12:58:58,477:emulator:_train_once:L308: [ 38/100] Training Loss: 1.3222 - MeanSquaredError: 0.7562 - R2Score: 0.2438 | Validation Loss: 1.1070 - MeanSquaredError: 0.4457 - R2Score: -6.2087\n",
      "INFO:2021-08-01 12:58:58,487:emulator:_train_once:L308: [ 39/100] Training Loss: 1.3192 - MeanSquaredError: 0.7551 - R2Score: 0.2449 | Validation Loss: 1.1033 - MeanSquaredError: 0.4340 - R2Score: -6.0180\n"
     ]
    },
    {
     "name": "stderr",
     "output_type": "stream",
     "text": [
      "INFO:2021-08-01 12:58:58,495:emulator:_train_once:L308: [ 40/100] Training Loss: 1.3160 - MeanSquaredError: 0.7543 - R2Score: 0.2457 | Validation Loss: 1.0971 - MeanSquaredError: 0.4190 - R2Score: -5.7764\n",
      "INFO:2021-08-01 12:58:58,503:emulator:_train_once:L308: [ 41/100] Training Loss: 1.3132 - MeanSquaredError: 0.7543 - R2Score: 0.2457 | Validation Loss: 1.0900 - MeanSquaredError: 0.4039 - R2Score: -5.5323\n",
      "INFO:2021-08-01 12:58:58,510:emulator:_train_once:L308: [ 42/100] Training Loss: 1.3113 - MeanSquaredError: 0.7550 - R2Score: 0.2450 | Validation Loss: 1.0831 - MeanSquaredError: 0.3915 - R2Score: -5.3315\n",
      "INFO:2021-08-01 12:58:58,517:emulator:_train_once:L308: [ 43/100] Training Loss: 1.3099 - MeanSquaredError: 0.7556 - R2Score: 0.2444 | Validation Loss: 1.0776 - MeanSquaredError: 0.3838 - R2Score: -5.2073\n",
      "INFO:2021-08-01 12:58:58,525:emulator:_train_once:L308: [ 44/100] Training Loss: 1.3084 - MeanSquaredError: 0.7555 - R2Score: 0.2445 | Validation Loss: 1.0740 - MeanSquaredError: 0.3818 - R2Score: -5.1749\n",
      "INFO:2021-08-01 12:58:58,533:emulator:_train_once:L308: [ 45/100] Training Loss: 1.3064 - MeanSquaredError: 0.7548 - R2Score: 0.2452 | Validation Loss: 1.0725 - MeanSquaredError: 0.3854 - R2Score: -5.2325\n",
      "INFO:2021-08-01 12:58:58,543:emulator:_train_once:L308: [ 46/100] Training Loss: 1.3038 - MeanSquaredError: 0.7541 - R2Score: 0.2459 | Validation Loss: 1.0727 - MeanSquaredError: 0.3934 - R2Score: -5.3623\n",
      "INFO:2021-08-01 12:58:58,551:emulator:_train_once:L308: [ 47/100] Training Loss: 1.3013 - MeanSquaredError: 0.7539 - R2Score: 0.2461 | Validation Loss: 1.0738 - MeanSquaredError: 0.4037 - R2Score: -5.5283\n",
      "INFO:2021-08-01 12:58:58,558:emulator:_train_once:L308: [ 48/100] Training Loss: 1.2995 - MeanSquaredError: 0.7544 - R2Score: 0.2456 | Validation Loss: 1.0744 - MeanSquaredError: 0.4129 - R2Score: -5.6777\n",
      "INFO:2021-08-01 12:58:58,567:emulator:_train_once:L308: [ 49/100] Training Loss: 1.2982 - MeanSquaredError: 0.7549 - R2Score: 0.2451 | Validation Loss: 1.0728 - MeanSquaredError: 0.4177 - R2Score: -5.7557\n",
      "INFO:2021-08-01 12:58:58,575:emulator:_train_once:L308: [ 50/100] Training Loss: 1.2972 - MeanSquaredError: 0.7548 - R2Score: 0.2452 | Validation Loss: 1.0680 - MeanSquaredError: 0.4162 - R2Score: -5.7301\n",
      "INFO:2021-08-01 12:58:58,586:emulator:_train_once:L308: [ 51/100] Training Loss: 1.2959 - MeanSquaredError: 0.7544 - R2Score: 0.2456 | Validation Loss: 1.0601 - MeanSquaredError: 0.4086 - R2Score: -5.6082\n",
      "INFO:2021-08-01 12:58:58,594:emulator:_train_once:L308: [ 52/100] Training Loss: 1.2943 - MeanSquaredError: 0.7540 - R2Score: 0.2460 | Validation Loss: 1.0506 - MeanSquaredError: 0.3978 - R2Score: -5.4333\n",
      "INFO:2021-08-01 12:58:58,602:emulator:_train_once:L308: [ 53/100] Training Loss: 1.2930 - MeanSquaredError: 0.7542 - R2Score: 0.2458 | Validation Loss: 1.0414 - MeanSquaredError: 0.3874 - R2Score: -5.2647\n",
      "INFO:2021-08-01 12:58:58,609:emulator:_train_once:L308: [ 54/100] Training Loss: 1.2922 - MeanSquaredError: 0.7546 - R2Score: 0.2454 | Validation Loss: 1.0347 - MeanSquaredError: 0.3806 - R2Score: -5.1547\n",
      "INFO:2021-08-01 12:58:58,616:emulator:_train_once:L308: [ 55/100] Training Loss: 1.2918 - MeanSquaredError: 0.7547 - R2Score: 0.2453 | Validation Loss: 1.0315 - MeanSquaredError: 0.3792 - R2Score: -5.1329\n",
      "INFO:2021-08-01 12:58:58,625:emulator:_train_once:L308: [ 56/100] Training Loss: 1.2913 - MeanSquaredError: 0.7544 - R2Score: 0.2456 | Validation Loss: 1.0323 - MeanSquaredError: 0.3834 - R2Score: -5.2012\n",
      "INFO:2021-08-01 12:58:58,632:emulator:_train_once:L308: [ 57/100] Training Loss: 1.2904 - MeanSquaredError: 0.7540 - R2Score: 0.2460 | Validation Loss: 1.0361 - MeanSquaredError: 0.3917 - R2Score: -5.3353\n",
      "INFO:2021-08-01 12:58:58,639:emulator:_train_once:L308: [ 58/100] Training Loss: 1.2896 - MeanSquaredError: 0.7540 - R2Score: 0.2460 | Validation Loss: 1.0412 - MeanSquaredError: 0.4012 - R2Score: -5.4890\n",
      "INFO:2021-08-01 12:58:58,645:emulator:_train_once:L308: [ 59/100] Training Loss: 1.2890 - MeanSquaredError: 0.7543 - R2Score: 0.2457 | Validation Loss: 1.0455 - MeanSquaredError: 0.4085 - R2Score: -5.6056\n",
      "INFO:2021-08-01 12:58:58,655:emulator:_train_once:L308: [ 60/100] Training Loss: 1.2886 - MeanSquaredError: 0.7543 - R2Score: 0.2457 | Validation Loss: 1.0473 - MeanSquaredError: 0.4108 - R2Score: -5.6430\n",
      "INFO:2021-08-01 12:58:58,662:emulator:_train_once:L308: [ 61/100] Training Loss: 1.2881 - MeanSquaredError: 0.7541 - R2Score: 0.2459 | Validation Loss: 1.0464 - MeanSquaredError: 0.4078 - R2Score: -5.5958\n",
      "INFO:2021-08-01 12:58:58,670:emulator:_train_once:L308: [ 62/100] Training Loss: 1.2874 - MeanSquaredError: 0.7539 - R2Score: 0.2461 | Validation Loss: 1.0438 - MeanSquaredError: 0.4017 - R2Score: -5.4965\n",
      "INFO:2021-08-01 12:58:58,677:emulator:_train_once:L308: [ 63/100] Training Loss: 1.2867 - MeanSquaredError: 0.7540 - R2Score: 0.2460 | Validation Loss: 1.0413 - MeanSquaredError: 0.3955 - R2Score: -5.3963\n",
      "INFO:2021-08-01 12:58:58,685:emulator:_train_once:L308: [ 64/100] Training Loss: 1.2863 - MeanSquaredError: 0.7542 - R2Score: 0.2458 | Validation Loss: 1.0406 - MeanSquaredError: 0.3920 - R2Score: -5.3393\n",
      "INFO:2021-08-01 12:58:58,693:emulator:_train_once:L308: [ 65/100] Training Loss: 1.2860 - MeanSquaredError: 0.7542 - R2Score: 0.2458 | Validation Loss: 1.0423 - MeanSquaredError: 0.3925 - R2Score: -5.3477\n",
      "INFO:2021-08-01 12:58:58,704:emulator:_train_once:L308: [ 66/100] Training Loss: 1.2856 - MeanSquaredError: 0.7540 - R2Score: 0.2460 | Validation Loss: 1.0463 - MeanSquaredError: 0.3968 - R2Score: -5.4171\n",
      "INFO:2021-08-01 12:58:58,711:emulator:_train_once:L308: [ 67/100] Training Loss: 1.2852 - MeanSquaredError: 0.7539 - R2Score: 0.2461 | Validation Loss: 1.0513 - MeanSquaredError: 0.4032 - R2Score: -5.5206\n",
      "INFO:2021-08-01 12:58:58,718:emulator:_train_once:L308: [ 68/100] Training Loss: 1.2848 - MeanSquaredError: 0.7540 - R2Score: 0.2460 | Validation Loss: 1.0559 - MeanSquaredError: 0.4092 - R2Score: -5.6171\n",
      "INFO:2021-08-01 12:58:58,725:emulator:_train_once:L308: [ 69/100] Training Loss: 1.2846 - MeanSquaredError: 0.7541 - R2Score: 0.2459 | Validation Loss: 1.0586 - MeanSquaredError: 0.4123 - R2Score: -5.6679\n",
      "INFO:2021-08-01 12:58:58,732:emulator:_train_once:L308: [ 70/100] Training Loss: 1.2844 - MeanSquaredError: 0.7541 - R2Score: 0.2459 | Validation Loss: 1.0588 - MeanSquaredError: 0.4115 - R2Score: -5.6556\n",
      "INFO:2021-08-01 12:58:58,740:emulator:_train_once:L308: [ 71/100] Training Loss: 1.2842 - MeanSquaredError: 0.7540 - R2Score: 0.2460 | Validation Loss: 1.0567 - MeanSquaredError: 0.4076 - R2Score: -5.5922\n",
      "INFO:2021-08-01 12:58:58,747:emulator:_train_once:L308: [ 72/100] Training Loss: 1.2839 - MeanSquaredError: 0.7539 - R2Score: 0.2461 | Validation Loss: 1.0538 - MeanSquaredError: 0.4026 - R2Score: -5.5107\n",
      "INFO:2021-08-01 12:58:58,755:emulator:_train_once:L308: [ 73/100] Training Loss: 1.2837 - MeanSquaredError: 0.7540 - R2Score: 0.2460 | Validation Loss: 1.0512 - MeanSquaredError: 0.3987 - R2Score: -5.4478\n",
      "INFO:2021-08-01 12:58:58,761:emulator:_train_once:L308: [ 74/100] Training Loss: 1.2835 - MeanSquaredError: 0.7541 - R2Score: 0.2459 | Validation Loss: 1.0500 - MeanSquaredError: 0.3974 - R2Score: -5.4271\n",
      "INFO:2021-08-01 12:58:58,768:emulator:_train_once:L308: [ 75/100] Training Loss: 1.2834 - MeanSquaredError: 0.7540 - R2Score: 0.2460 | Validation Loss: 1.0503 - MeanSquaredError: 0.3990 - R2Score: -5.4523\n",
      "INFO:2021-08-01 12:58:58,776:emulator:_train_once:L308: [ 76/100] Training Loss: 1.2831 - MeanSquaredError: 0.7539 - R2Score: 0.2461 | Validation Loss: 1.0516 - MeanSquaredError: 0.4024 - R2Score: -5.5075\n",
      "INFO:2021-08-01 12:58:58,783:emulator:_train_once:L308: [ 77/100] Training Loss: 1.2829 - MeanSquaredError: 0.7539 - R2Score: 0.2461 | Validation Loss: 1.0528 - MeanSquaredError: 0.4059 - R2Score: -5.5638\n",
      "INFO:2021-08-01 12:58:58,790:emulator:_train_once:L308: [ 78/100] Training Loss: 1.2827 - MeanSquaredError: 0.7540 - R2Score: 0.2460 | Validation Loss: 1.0530 - MeanSquaredError: 0.4076 - R2Score: -5.5920\n",
      "INFO:2021-08-01 12:58:58,796:emulator:_train_once:L308: [ 79/100] Training Loss: 1.2826 - MeanSquaredError: 0.7540 - R2Score: 0.2460 | Validation Loss: 1.0515 - MeanSquaredError: 0.4067 - R2Score: -5.5776\n"
     ]
    },
    {
     "name": "stderr",
     "output_type": "stream",
     "text": [
      "INFO:2021-08-01 12:58:58,804:emulator:_train_once:L308: [ 80/100] Training Loss: 1.2825 - MeanSquaredError: 0.7539 - R2Score: 0.2461 | Validation Loss: 1.0487 - MeanSquaredError: 0.4036 - R2Score: -5.5279\n",
      "INFO:2021-08-01 12:58:58,810:emulator:_train_once:L308: [ 81/100] Training Loss: 1.2823 - MeanSquaredError: 0.7539 - R2Score: 0.2461 | Validation Loss: 1.0456 - MeanSquaredError: 0.3999 - R2Score: -5.4673\n",
      "INFO:2021-08-01 12:58:58,816:emulator:_train_once:L308: [ 82/100] Training Loss: 1.2822 - MeanSquaredError: 0.7540 - R2Score: 0.2460 | Validation Loss: 1.0431 - MeanSquaredError: 0.3972 - R2Score: -5.4231\n",
      "INFO:2021-08-01 12:58:58,823:emulator:_train_once:L308: [ 83/100] Training Loss: 1.2821 - MeanSquaredError: 0.7540 - R2Score: 0.2460 | Validation Loss: 1.0421 - MeanSquaredError: 0.3965 - R2Score: -5.4123\n",
      "INFO:2021-08-01 12:58:58,831:emulator:_train_once:L308: [ 84/100] Training Loss: 1.2820 - MeanSquaredError: 0.7539 - R2Score: 0.2461 | Validation Loss: 1.0426 - MeanSquaredError: 0.3979 - R2Score: -5.4353\n",
      "INFO:2021-08-01 12:58:58,839:emulator:_train_once:L308: [ 85/100] Training Loss: 1.2819 - MeanSquaredError: 0.7539 - R2Score: 0.2461 | Validation Loss: 1.0439 - MeanSquaredError: 0.4005 - R2Score: -5.4766\n",
      "INFO:2021-08-01 12:58:58,846:emulator:_train_once:L308: [ 86/100] Training Loss: 1.2818 - MeanSquaredError: 0.7539 - R2Score: 0.2461 | Validation Loss: 1.0452 - MeanSquaredError: 0.4027 - R2Score: -5.5130\n",
      "INFO:2021-08-01 12:58:58,854:emulator:_train_once:L308: [ 87/100] Training Loss: 1.2817 - MeanSquaredError: 0.7540 - R2Score: 0.2460 | Validation Loss: 1.0457 - MeanSquaredError: 0.4035 - R2Score: -5.5252\n",
      "INFO:2021-08-01 12:58:58,861:emulator:_train_once:L308: [ 88/100] Training Loss: 1.2816 - MeanSquaredError: 0.7539 - R2Score: 0.2461 | Validation Loss: 1.0451 - MeanSquaredError: 0.4024 - R2Score: -5.5084\n",
      "INFO:2021-08-01 12:58:58,868:emulator:_train_once:L308: [ 89/100] Training Loss: 1.2815 - MeanSquaredError: 0.7539 - R2Score: 0.2461 | Validation Loss: 1.0440 - MeanSquaredError: 0.4003 - R2Score: -5.4740\n",
      "INFO:2021-08-01 12:58:58,876:emulator:_train_once:L308: [ 90/100] Training Loss: 1.2814 - MeanSquaredError: 0.7539 - R2Score: 0.2461 | Validation Loss: 1.0431 - MeanSquaredError: 0.3983 - R2Score: -5.4418\n",
      "INFO:2021-08-01 12:58:58,883:emulator:_train_once:L308: [ 91/100] Training Loss: 1.2813 - MeanSquaredError: 0.7539 - R2Score: 0.2461 | Validation Loss: 1.0430 - MeanSquaredError: 0.3975 - R2Score: -5.4288\n",
      "INFO:2021-08-01 12:58:58,891:emulator:_train_once:L308: [ 92/100] Training Loss: 1.2812 - MeanSquaredError: 0.7539 - R2Score: 0.2461 | Validation Loss: 1.0438 - MeanSquaredError: 0.3983 - R2Score: -5.4408\n",
      "INFO:2021-08-01 12:58:58,897:emulator:_train_once:L308: [ 93/100] Training Loss: 1.2812 - MeanSquaredError: 0.7539 - R2Score: 0.2461 | Validation Loss: 1.0454 - MeanSquaredError: 0.4001 - R2Score: -5.4708\n",
      "INFO:2021-08-01 12:58:58,905:emulator:_train_once:L308: [ 94/100] Training Loss: 1.2811 - MeanSquaredError: 0.7539 - R2Score: 0.2461 | Validation Loss: 1.0470 - MeanSquaredError: 0.4021 - R2Score: -5.5029\n",
      "INFO:2021-08-01 12:58:58,912:emulator:_train_once:L308: [ 95/100] Training Loss: 1.2810 - MeanSquaredError: 0.7539 - R2Score: 0.2461 | Validation Loss: 1.0480 - MeanSquaredError: 0.4032 - R2Score: -5.5214\n",
      "INFO:2021-08-01 12:58:58,921:emulator:_train_once:L308: [ 96/100] Training Loss: 1.2810 - MeanSquaredError: 0.7539 - R2Score: 0.2461 | Validation Loss: 1.0481 - MeanSquaredError: 0.4031 - R2Score: -5.5189\n",
      "INFO:2021-08-01 12:58:58,928:emulator:_train_once:L308: [ 97/100] Training Loss: 1.2809 - MeanSquaredError: 0.7539 - R2Score: 0.2461 | Validation Loss: 1.0475 - MeanSquaredError: 0.4019 - R2Score: -5.5002\n",
      "INFO:2021-08-01 12:58:58,936:emulator:_train_once:L308: [ 98/100] Training Loss: 1.2808 - MeanSquaredError: 0.7539 - R2Score: 0.2461 | Validation Loss: 1.0468 - MeanSquaredError: 0.4006 - R2Score: -5.4783\n",
      "INFO:2021-08-01 12:58:58,943:emulator:_train_once:L308: [ 99/100] Training Loss: 1.2808 - MeanSquaredError: 0.7539 - R2Score: 0.2461 | Validation Loss: 1.0463 - MeanSquaredError: 0.3998 - R2Score: -5.4664\n",
      "INFO:2021-08-01 12:58:58,950:emulator:_train_once:L308: [100/100] Training Loss: 1.2807 - MeanSquaredError: 0.7539 - R2Score: 0.2461 | Validation Loss: 1.0464 - MeanSquaredError: 0.4001 - R2Score: -5.4711\n",
      "INFO:2021-08-01 12:58:58,952:emulator:train:L112: Run restart 1.\n",
      "INFO:2021-08-01 12:58:58,953:emulator:train:L99: Running restart 2...\n",
      "INFO:2021-08-01 12:58:58,968:emulator:_train_once:L308: [  1/100] Training Loss: 1.6519 - MeanSquaredError: 0.8191 - R2Score: 0.1809 | Validation Loss: 1.0764 - MeanSquaredError: 0.1335 - R2Score: -1.1590\n",
      "INFO:2021-08-01 12:58:58,975:emulator:_train_once:L308: [  2/100] Training Loss: 1.6219 - MeanSquaredError: 0.7932 - R2Score: 0.2068 | Validation Loss: 1.0776 - MeanSquaredError: 0.1490 - R2Score: -1.4095\n",
      "INFO:2021-08-01 12:58:58,982:emulator:_train_once:L308: [  3/100] Training Loss: 1.5802 - MeanSquaredError: 0.7659 - R2Score: 0.2341 | Validation Loss: 1.0791 - MeanSquaredError: 0.1705 - R2Score: -1.7577\n",
      "INFO:2021-08-01 12:58:58,989:emulator:_train_once:L308: [  4/100] Training Loss: 1.5374 - MeanSquaredError: 0.7404 - R2Score: 0.2596 | Validation Loss: 1.0803 - MeanSquaredError: 0.1957 - R2Score: -2.1651\n",
      "INFO:2021-08-01 12:58:58,996:emulator:_train_once:L308: [  5/100] Training Loss: 1.4991 - MeanSquaredError: 0.7181 - R2Score: 0.2819 | Validation Loss: 1.0804 - MeanSquaredError: 0.2223 - R2Score: -2.5957\n",
      "INFO:2021-08-01 12:58:59,004:emulator:_train_once:L308: [  6/100] Training Loss: 1.4678 - MeanSquaredError: 0.6991 - R2Score: 0.3009 | Validation Loss: 1.0792 - MeanSquaredError: 0.2489 - R2Score: -3.0256\n",
      "INFO:2021-08-01 12:58:59,011:emulator:_train_once:L308: [  7/100] Training Loss: 1.4444 - MeanSquaredError: 0.6834 - R2Score: 0.3166 | Validation Loss: 1.0765 - MeanSquaredError: 0.2747 - R2Score: -3.4418\n",
      "INFO:2021-08-01 12:58:59,019:emulator:_train_once:L308: [  8/100] Training Loss: 1.4291 - MeanSquaredError: 0.6706 - R2Score: 0.3294 | Validation Loss: 1.0725 - MeanSquaredError: 0.2990 - R2Score: -3.8349\n",
      "INFO:2021-08-01 12:58:59,026:emulator:_train_once:L308: [  9/100] Training Loss: 1.4213 - MeanSquaredError: 0.6605 - R2Score: 0.3395 | Validation Loss: 1.0670 - MeanSquaredError: 0.3212 - R2Score: -4.1946\n",
      "INFO:2021-08-01 12:58:59,034:emulator:_train_once:L308: [ 10/100] Training Loss: 1.4204 - MeanSquaredError: 0.6525 - R2Score: 0.3475 | Validation Loss: 1.0601 - MeanSquaredError: 0.3405 - R2Score: -4.5066\n",
      "INFO:2021-08-01 12:58:59,041:emulator:_train_once:L308: [ 11/100] Training Loss: 1.4249 - MeanSquaredError: 0.6461 - R2Score: 0.3539 | Validation Loss: 1.0518 - MeanSquaredError: 0.3557 - R2Score: -4.7524\n",
      "INFO:2021-08-01 12:58:59,048:emulator:_train_once:L308: [ 12/100] Training Loss: 1.4325 - MeanSquaredError: 0.6405 - R2Score: 0.3595 | Validation Loss: 1.0418 - MeanSquaredError: 0.3655 - R2Score: -4.9111\n",
      "INFO:2021-08-01 12:58:59,055:emulator:_train_once:L308: [ 13/100] Training Loss: 1.4400 - MeanSquaredError: 0.6347 - R2Score: 0.3653 | Validation Loss: 1.0299 - MeanSquaredError: 0.3688 - R2Score: -4.9638\n",
      "INFO:2021-08-01 12:58:59,061:emulator:_train_once:L308: [ 14/100] Training Loss: 1.4443 - MeanSquaredError: 0.6279 - R2Score: 0.3721 | Validation Loss: 1.0159 - MeanSquaredError: 0.3647 - R2Score: -4.8987\n",
      "INFO:2021-08-01 12:58:59,071:emulator:_train_once:L308: [ 15/100] Training Loss: 1.4430 - MeanSquaredError: 0.6190 - R2Score: 0.3810 | Validation Loss: 1.0000 - MeanSquaredError: 0.3533 - R2Score: -4.7138\n",
      "INFO:2021-08-01 12:58:59,077:emulator:_train_once:L308: [ 16/100] Training Loss: 1.4354 - MeanSquaredError: 0.6069 - R2Score: 0.3931 | Validation Loss: 0.9825 - MeanSquaredError: 0.3346 - R2Score: -4.4118\n",
      "INFO:2021-08-01 12:58:59,084:emulator:_train_once:L308: [ 17/100] Training Loss: 1.4224 - MeanSquaredError: 0.5896 - R2Score: 0.4104 | Validation Loss: 0.9637 - MeanSquaredError: 0.3088 - R2Score: -3.9947\n",
      "INFO:2021-08-01 12:58:59,090:emulator:_train_once:L308: [ 18/100] Training Loss: 1.4055 - MeanSquaredError: 0.5648 - R2Score: 0.4352 | Validation Loss: 0.9441 - MeanSquaredError: 0.2764 - R2Score: -3.4698\n",
      "INFO:2021-08-01 12:58:59,096:emulator:_train_once:L308: [ 19/100] Training Loss: 1.3859 - MeanSquaredError: 0.5312 - R2Score: 0.4688 | Validation Loss: 0.9245 - MeanSquaredError: 0.2393 - R2Score: -2.8698\n"
     ]
    },
    {
     "name": "stderr",
     "output_type": "stream",
     "text": [
      "INFO:2021-08-01 12:58:59,104:emulator:_train_once:L308: [ 20/100] Training Loss: 1.3644 - MeanSquaredError: 0.4890 - R2Score: 0.5110 | Validation Loss: 0.9060 - MeanSquaredError: 0.2016 - R2Score: -2.2598\n",
      "INFO:2021-08-01 12:58:59,111:emulator:_train_once:L308: [ 21/100] Training Loss: 1.3417 - MeanSquaredError: 0.4408 - R2Score: 0.5592 | Validation Loss: 0.8889 - MeanSquaredError: 0.1674 - R2Score: -1.7065\n",
      "INFO:2021-08-01 12:58:59,118:emulator:_train_once:L308: [ 22/100] Training Loss: 1.3187 - MeanSquaredError: 0.3907 - R2Score: 0.6093 | Validation Loss: 0.8729 - MeanSquaredError: 0.1392 - R2Score: -1.2511\n",
      "INFO:2021-08-01 12:58:59,126:emulator:_train_once:L308: [ 23/100] Training Loss: 1.2971 - MeanSquaredError: 0.3441 - R2Score: 0.6559 | Validation Loss: 0.8589 - MeanSquaredError: 0.1199 - R2Score: -0.9389\n",
      "INFO:2021-08-01 12:58:59,134:emulator:_train_once:L308: [ 24/100] Training Loss: 1.2791 - MeanSquaredError: 0.3052 - R2Score: 0.6948 | Validation Loss: 0.8481 - MeanSquaredError: 0.1129 - R2Score: -0.8258\n",
      "INFO:2021-08-01 12:58:59,141:emulator:_train_once:L308: [ 25/100] Training Loss: 1.2662 - MeanSquaredError: 0.2755 - R2Score: 0.7245 | Validation Loss: 0.8408 - MeanSquaredError: 0.1191 - R2Score: -0.9266\n",
      "INFO:2021-08-01 12:58:59,149:emulator:_train_once:L308: [ 26/100] Training Loss: 1.2584 - MeanSquaredError: 0.2517 - R2Score: 0.7483 | Validation Loss: 0.8360 - MeanSquaredError: 0.1352 - R2Score: -1.1867\n",
      "INFO:2021-08-01 12:58:59,157:emulator:_train_once:L308: [ 27/100] Training Loss: 1.2524 - MeanSquaredError: 0.2288 - R2Score: 0.7712 | Validation Loss: 0.8315 - MeanSquaredError: 0.1548 - R2Score: -1.5031\n",
      "INFO:2021-08-01 12:58:59,164:emulator:_train_once:L308: [ 28/100] Training Loss: 1.2444 - MeanSquaredError: 0.2054 - R2Score: 0.7946 | Validation Loss: 0.8260 - MeanSquaredError: 0.1747 - R2Score: -1.8260\n",
      "INFO:2021-08-01 12:58:59,171:emulator:_train_once:L308: [ 29/100] Training Loss: 1.2348 - MeanSquaredError: 0.1831 - R2Score: 0.8169 | Validation Loss: 0.8191 - MeanSquaredError: 0.1961 - R2Score: -2.1718\n",
      "INFO:2021-08-01 12:58:59,178:emulator:_train_once:L308: [ 30/100] Training Loss: 1.2272 - MeanSquaredError: 0.1624 - R2Score: 0.8376 | Validation Loss: 0.8097 - MeanSquaredError: 0.2183 - R2Score: -2.5299\n",
      "INFO:2021-08-01 12:58:59,185:emulator:_train_once:L308: [ 31/100] Training Loss: 1.2236 - MeanSquaredError: 0.1420 - R2Score: 0.8580 | Validation Loss: 0.7939 - MeanSquaredError: 0.2358 - R2Score: -2.8137\n",
      "INFO:2021-08-01 12:58:59,191:emulator:_train_once:L308: [ 32/100] Training Loss: 1.2214 - MeanSquaredError: 0.1207 - R2Score: 0.8793 | Validation Loss: 0.7674 - MeanSquaredError: 0.2418 - R2Score: -2.9098\n",
      "INFO:2021-08-01 12:58:59,198:emulator:_train_once:L308: [ 33/100] Training Loss: 1.2147 - MeanSquaredError: 0.0987 - R2Score: 0.9013 | Validation Loss: 0.7279 - MeanSquaredError: 0.2328 - R2Score: -2.7653\n",
      "INFO:2021-08-01 12:58:59,205:emulator:_train_once:L308: [ 34/100] Training Loss: 1.1986 - MeanSquaredError: 0.0777 - R2Score: 0.9223 | Validation Loss: 0.6762 - MeanSquaredError: 0.2107 - R2Score: -2.4072\n",
      "INFO:2021-08-01 12:58:59,212:emulator:_train_once:L308: [ 35/100] Training Loss: 1.1729 - MeanSquaredError: 0.0594 - R2Score: 0.9406 | Validation Loss: 0.6133 - MeanSquaredError: 0.1784 - R2Score: -1.8854\n",
      "INFO:2021-08-01 12:58:59,219:emulator:_train_once:L308: [ 36/100] Training Loss: 1.1406 - MeanSquaredError: 0.0446 - R2Score: 0.9554 | Validation Loss: 0.5391 - MeanSquaredError: 0.1381 - R2Score: -1.2331\n",
      "INFO:2021-08-01 12:58:59,226:emulator:_train_once:L308: [ 37/100] Training Loss: 1.1054 - MeanSquaredError: 0.0332 - R2Score: 0.9668 | Validation Loss: 0.4536 - MeanSquaredError: 0.0927 - R2Score: -0.4990\n",
      "INFO:2021-08-01 12:58:59,233:emulator:_train_once:L308: [ 38/100] Training Loss: 1.0702 - MeanSquaredError: 0.0249 - R2Score: 0.9751 | Validation Loss: 0.3600 - MeanSquaredError: 0.0493 - R2Score: 0.2028\n",
      "INFO:2021-08-01 12:58:59,240:emulator:_train_once:L308: [ 39/100] Training Loss: 1.0374 - MeanSquaredError: 0.0189 - R2Score: 0.9811 | Validation Loss: 0.2639 - MeanSquaredError: 0.0183 - R2Score: 0.7044\n",
      "INFO:2021-08-01 12:58:59,248:emulator:_train_once:L308: [ 40/100] Training Loss: 1.0084 - MeanSquaredError: 0.0141 - R2Score: 0.9859 | Validation Loss: 0.1722 - MeanSquaredError: 0.0061 - R2Score: 0.9015\n",
      "INFO:2021-08-01 12:58:59,256:emulator:_train_once:L308: [ 41/100] Training Loss: 0.9804 - MeanSquaredError: 0.0099 - R2Score: 0.9901 | Validation Loss: 0.0887 - MeanSquaredError: 0.0064 - R2Score: 0.8963\n",
      "INFO:2021-08-01 12:58:59,264:emulator:_train_once:L308: [ 42/100] Training Loss: 0.9478 - MeanSquaredError: 0.0063 - R2Score: 0.9937 | Validation Loss: 0.0124 - MeanSquaredError: 0.0083 - R2Score: 0.8660\n",
      "INFO:2021-08-01 12:58:59,272:emulator:_train_once:L308: [ 43/100] Training Loss: 0.9087 - MeanSquaredError: 0.0037 - R2Score: 0.9963 | Validation Loss: -0.0587 - MeanSquaredError: 0.0078 - R2Score: 0.8747\n",
      "INFO:2021-08-01 12:58:59,279:emulator:_train_once:L308: [ 44/100] Training Loss: 0.8670 - MeanSquaredError: 0.0021 - R2Score: 0.9979 | Validation Loss: -0.1267 - MeanSquaredError: 0.0063 - R2Score: 0.8984\n",
      "INFO:2021-08-01 12:58:59,287:emulator:_train_once:L308: [ 45/100] Training Loss: 0.8280 - MeanSquaredError: 0.0012 - R2Score: 0.9988 | Validation Loss: -0.1966 - MeanSquaredError: 0.0055 - R2Score: 0.9103\n",
      "INFO:2021-08-01 12:58:59,294:emulator:_train_once:L308: [ 46/100] Training Loss: 0.7929 - MeanSquaredError: 0.0007 - R2Score: 0.9993 | Validation Loss: -0.2755 - MeanSquaredError: 0.0060 - R2Score: 0.9035\n",
      "INFO:2021-08-01 12:58:59,302:emulator:_train_once:L308: [ 47/100] Training Loss: 0.7591 - MeanSquaredError: 0.0005 - R2Score: 0.9995 | Validation Loss: -0.3686 - MeanSquaredError: 0.0083 - R2Score: 0.8659\n",
      "INFO:2021-08-01 12:58:59,310:emulator:_train_once:L308: [ 48/100] Training Loss: 0.7232 - MeanSquaredError: 0.0003 - R2Score: 0.9997 | Validation Loss: -0.4753 - MeanSquaredError: 0.0145 - R2Score: 0.7662\n",
      "INFO:2021-08-01 12:58:59,318:emulator:_train_once:L308: [ 49/100] Training Loss: 0.6839 - MeanSquaredError: 0.0003 - R2Score: 0.9997 | Validation Loss: -0.5873 - MeanSquaredError: 0.0257 - R2Score: 0.5844\n",
      "INFO:2021-08-01 12:58:59,325:emulator:_train_once:L308: [ 50/100] Training Loss: 0.6431 - MeanSquaredError: 0.0003 - R2Score: 0.9997 | Validation Loss: -0.6883 - MeanSquaredError: 0.0403 - R2Score: 0.3481\n",
      "INFO:2021-08-01 12:58:59,332:emulator:_train_once:L308: [ 51/100] Training Loss: 0.6055 - MeanSquaredError: 0.0004 - R2Score: 0.9996 | Validation Loss: -0.7652 - MeanSquaredError: 0.0529 - R2Score: 0.1444\n",
      "INFO:2021-08-01 12:58:59,340:emulator:_train_once:L308: [ 52/100] Training Loss: 0.5744 - MeanSquaredError: 0.0003 - R2Score: 0.9997 | Validation Loss: -0.8397 - MeanSquaredError: 0.0559 - R2Score: 0.0963\n",
      "INFO:2021-08-01 12:58:59,348:emulator:_train_once:L308: [ 53/100] Training Loss: 0.5419 - MeanSquaredError: 0.0002 - R2Score: 0.9998 | Validation Loss: -0.9346 - MeanSquaredError: 0.0495 - R2Score: 0.1988\n",
      "INFO:2021-08-01 12:58:59,356:emulator:_train_once:L308: [ 54/100] Training Loss: 0.5029 - MeanSquaredError: 0.0001 - R2Score: 0.9999 | Validation Loss: -1.0286 - MeanSquaredError: 0.0408 - R2Score: 0.3401\n",
      "INFO:2021-08-01 12:58:59,363:emulator:_train_once:L308: [ 55/100] Training Loss: 0.4678 - MeanSquaredError: 0.0001 - R2Score: 0.9999 | Validation Loss: -1.1094 - MeanSquaredError: 0.0347 - R2Score: 0.4392\n",
      "INFO:2021-08-01 12:58:59,370:emulator:_train_once:L308: [ 56/100] Training Loss: 0.4389 - MeanSquaredError: 0.0000 - R2Score: 1.0000 | Validation Loss: -1.1886 - MeanSquaredError: 0.0334 - R2Score: 0.4601\n",
      "INFO:2021-08-01 12:58:59,377:emulator:_train_once:L308: [ 57/100] Training Loss: 0.4094 - MeanSquaredError: 0.0000 - R2Score: 1.0000 | Validation Loss: -1.2693 - MeanSquaredError: 0.0369 - R2Score: 0.4039\n",
      "INFO:2021-08-01 12:58:59,384:emulator:_train_once:L308: [ 58/100] Training Loss: 0.3766 - MeanSquaredError: 0.0001 - R2Score: 0.9999 | Validation Loss: -1.3369 - MeanSquaredError: 0.0432 - R2Score: 0.3015\n",
      "INFO:2021-08-01 12:58:59,391:emulator:_train_once:L308: [ 59/100] Training Loss: 0.3454 - MeanSquaredError: 0.0001 - R2Score: 0.9999 | Validation Loss: -1.3846 - MeanSquaredError: 0.0483 - R2Score: 0.2189\n"
     ]
    },
    {
     "name": "stderr",
     "output_type": "stream",
     "text": [
      "INFO:2021-08-01 12:58:59,399:emulator:_train_once:L308: [ 60/100] Training Loss: 0.3204 - MeanSquaredError: 0.0001 - R2Score: 0.9999 | Validation Loss: -1.4542 - MeanSquaredError: 0.0475 - R2Score: 0.2319\n",
      "INFO:2021-08-01 12:58:59,406:emulator:_train_once:L308: [ 61/100] Training Loss: 0.2935 - MeanSquaredError: 0.0000 - R2Score: 1.0000 | Validation Loss: -1.5467 - MeanSquaredError: 0.0415 - R2Score: 0.3294\n",
      "INFO:2021-08-01 12:58:59,413:emulator:_train_once:L308: [ 62/100] Training Loss: 0.2645 - MeanSquaredError: 0.0000 - R2Score: 1.0000 | Validation Loss: -1.6240 - MeanSquaredError: 0.0349 - R2Score: 0.4363\n",
      "INFO:2021-08-01 12:58:59,420:emulator:_train_once:L308: [ 63/100] Training Loss: 0.2412 - MeanSquaredError: 0.0000 - R2Score: 1.0000 | Validation Loss: -1.6890 - MeanSquaredError: 0.0318 - R2Score: 0.4855\n",
      "INFO:2021-08-01 12:58:59,426:emulator:_train_once:L308: [ 64/100] Training Loss: 0.2190 - MeanSquaredError: 0.0000 - R2Score: 1.0000 | Validation Loss: -1.7467 - MeanSquaredError: 0.0332 - R2Score: 0.4637\n",
      "INFO:2021-08-01 12:58:59,434:emulator:_train_once:L308: [ 65/100] Training Loss: 0.1947 - MeanSquaredError: 0.0000 - R2Score: 1.0000 | Validation Loss: -1.7902 - MeanSquaredError: 0.0369 - R2Score: 0.4026\n",
      "INFO:2021-08-01 12:58:59,442:emulator:_train_once:L308: [ 66/100] Training Loss: 0.1727 - MeanSquaredError: 0.0000 - R2Score: 1.0000 | Validation Loss: -1.8271 - MeanSquaredError: 0.0389 - R2Score: 0.3712\n",
      "INFO:2021-08-01 12:58:59,449:emulator:_train_once:L308: [ 67/100] Training Loss: 0.1549 - MeanSquaredError: 0.0000 - R2Score: 1.0000 | Validation Loss: -1.8876 - MeanSquaredError: 0.0355 - R2Score: 0.4257\n",
      "INFO:2021-08-01 12:58:59,456:emulator:_train_once:L308: [ 68/100] Training Loss: 0.1351 - MeanSquaredError: 0.0000 - R2Score: 1.0000 | Validation Loss: -1.9548 - MeanSquaredError: 0.0291 - R2Score: 0.5293\n",
      "INFO:2021-08-01 12:58:59,463:emulator:_train_once:L308: [ 69/100] Training Loss: 0.1168 - MeanSquaredError: 0.0000 - R2Score: 1.0000 | Validation Loss: -2.0105 - MeanSquaredError: 0.0243 - R2Score: 0.6071\n",
      "INFO:2021-08-01 12:58:59,471:emulator:_train_once:L308: [ 70/100] Training Loss: 0.1020 - MeanSquaredError: 0.0000 - R2Score: 1.0000 | Validation Loss: -2.0540 - MeanSquaredError: 0.0230 - R2Score: 0.6278\n",
      "INFO:2021-08-01 12:58:59,478:emulator:_train_once:L308: [ 71/100] Training Loss: 0.0868 - MeanSquaredError: 0.0000 - R2Score: 1.0000 | Validation Loss: -2.0852 - MeanSquaredError: 0.0244 - R2Score: 0.6054\n",
      "INFO:2021-08-01 12:58:59,485:emulator:_train_once:L308: [ 72/100] Training Loss: 0.0719 - MeanSquaredError: 0.0000 - R2Score: 1.0000 | Validation Loss: -2.1084 - MeanSquaredError: 0.0259 - R2Score: 0.5813\n",
      "INFO:2021-08-01 12:58:59,492:emulator:_train_once:L308: [ 73/100] Training Loss: 0.0601 - MeanSquaredError: 0.0000 - R2Score: 1.0000 | Validation Loss: -2.1436 - MeanSquaredError: 0.0245 - R2Score: 0.6045\n",
      "INFO:2021-08-01 12:58:59,499:emulator:_train_once:L308: [ 74/100] Training Loss: 0.0486 - MeanSquaredError: 0.0000 - R2Score: 1.0000 | Validation Loss: -2.1913 - MeanSquaredError: 0.0205 - R2Score: 0.6686\n",
      "INFO:2021-08-01 12:58:59,507:emulator:_train_once:L308: [ 75/100] Training Loss: 0.0369 - MeanSquaredError: 0.0000 - R2Score: 1.0000 | Validation Loss: -2.2345 - MeanSquaredError: 0.0171 - R2Score: 0.7242\n",
      "INFO:2021-08-01 12:58:59,514:emulator:_train_once:L308: [ 76/100] Training Loss: 0.0277 - MeanSquaredError: 0.0000 - R2Score: 1.0000 | Validation Loss: -2.2636 - MeanSquaredError: 0.0158 - R2Score: 0.7452\n",
      "INFO:2021-08-01 12:58:59,521:emulator:_train_once:L308: [ 77/100] Training Loss: 0.0191 - MeanSquaredError: 0.0000 - R2Score: 1.0000 | Validation Loss: -2.2837 - MeanSquaredError: 0.0163 - R2Score: 0.7371\n",
      "INFO:2021-08-01 12:58:59,527:emulator:_train_once:L308: [ 78/100] Training Loss: 0.0102 - MeanSquaredError: 0.0000 - R2Score: 1.0000 | Validation Loss: -2.2956 - MeanSquaredError: 0.0172 - R2Score: 0.7215\n",
      "INFO:2021-08-01 12:58:59,533:emulator:_train_once:L308: [ 79/100] Training Loss: 0.0034 - MeanSquaredError: 0.0000 - R2Score: 1.0000 | Validation Loss: -2.3137 - MeanSquaredError: 0.0168 - R2Score: 0.7288\n",
      "INFO:2021-08-01 12:58:59,540:emulator:_train_once:L308: [ 80/100] Training Loss: -0.0031 - MeanSquaredError: 0.0000 - R2Score: 1.0000 | Validation Loss: -2.3447 - MeanSquaredError: 0.0148 - R2Score: 0.7606\n",
      "INFO:2021-08-01 12:58:59,546:emulator:_train_once:L308: [ 81/100] Training Loss: -0.0099 - MeanSquaredError: 0.0000 - R2Score: 1.0000 | Validation Loss: -2.3716 - MeanSquaredError: 0.0130 - R2Score: 0.7900\n",
      "INFO:2021-08-01 12:58:59,553:emulator:_train_once:L308: [ 82/100] Training Loss: -0.0150 - MeanSquaredError: 0.0000 - R2Score: 1.0000 | Validation Loss: -2.3885 - MeanSquaredError: 0.0123 - R2Score: 0.8008\n",
      "INFO:2021-08-01 12:58:59,560:emulator:_train_once:L308: [ 83/100] Training Loss: -0.0197 - MeanSquaredError: 0.0000 - R2Score: 1.0000 | Validation Loss: -2.3976 - MeanSquaredError: 0.0127 - R2Score: 0.7947\n",
      "INFO:2021-08-01 12:58:59,568:emulator:_train_once:L308: [ 84/100] Training Loss: -0.0243 - MeanSquaredError: 0.0000 - R2Score: 1.0000 | Validation Loss: -2.4018 - MeanSquaredError: 0.0133 - R2Score: 0.7848\n",
      "INFO:2021-08-01 12:58:59,576:emulator:_train_once:L308: [ 85/100] Training Loss: -0.0282 - MeanSquaredError: 0.0000 - R2Score: 1.0000 | Validation Loss: -2.4127 - MeanSquaredError: 0.0131 - R2Score: 0.7880\n",
      "INFO:2021-08-01 12:58:59,583:emulator:_train_once:L308: [ 86/100] Training Loss: -0.0314 - MeanSquaredError: 0.0000 - R2Score: 1.0000 | Validation Loss: -2.4307 - MeanSquaredError: 0.0121 - R2Score: 0.8050\n",
      "INFO:2021-08-01 12:58:59,590:emulator:_train_once:L308: [ 87/100] Training Loss: -0.0350 - MeanSquaredError: 0.0000 - R2Score: 1.0000 | Validation Loss: -2.4472 - MeanSquaredError: 0.0111 - R2Score: 0.8205\n",
      "INFO:2021-08-01 12:58:59,597:emulator:_train_once:L308: [ 88/100] Training Loss: -0.0377 - MeanSquaredError: 0.0000 - R2Score: 1.0000 | Validation Loss: -2.4541 - MeanSquaredError: 0.0108 - R2Score: 0.8247\n",
      "INFO:2021-08-01 12:58:59,605:emulator:_train_once:L308: [ 89/100] Training Loss: -0.0401 - MeanSquaredError: 0.0000 - R2Score: 1.0000 | Validation Loss: -2.4606 - MeanSquaredError: 0.0112 - R2Score: 0.8190\n",
      "INFO:2021-08-01 12:58:59,613:emulator:_train_once:L308: [ 90/100] Training Loss: -0.0426 - MeanSquaredError: 0.0000 - R2Score: 1.0000 | Validation Loss: -2.4618 - MeanSquaredError: 0.0116 - R2Score: 0.8127\n",
      "INFO:2021-08-01 12:58:59,620:emulator:_train_once:L308: [ 91/100] Training Loss: -0.0446 - MeanSquaredError: 0.0000 - R2Score: 1.0000 | Validation Loss: -2.4686 - MeanSquaredError: 0.0114 - R2Score: 0.8156\n",
      "INFO:2021-08-01 12:58:59,626:emulator:_train_once:L308: [ 92/100] Training Loss: -0.0463 - MeanSquaredError: 0.0000 - R2Score: 1.0000 | Validation Loss: -2.4782 - MeanSquaredError: 0.0108 - R2Score: 0.8261\n",
      "INFO:2021-08-01 12:58:59,633:emulator:_train_once:L308: [ 93/100] Training Loss: -0.0482 - MeanSquaredError: 0.0000 - R2Score: 1.0000 | Validation Loss: -2.4884 - MeanSquaredError: 0.0102 - R2Score: 0.8344\n",
      "INFO:2021-08-01 12:58:59,640:emulator:_train_once:L308: [ 94/100] Training Loss: -0.0495 - MeanSquaredError: 0.0000 - R2Score: 1.0000 | Validation Loss: -2.4914 - MeanSquaredError: 0.0102 - R2Score: 0.8349\n",
      "INFO:2021-08-01 12:58:59,647:emulator:_train_once:L308: [ 95/100] Training Loss: -0.0509 - MeanSquaredError: 0.0000 - R2Score: 1.0000 | Validation Loss: -2.4930 - MeanSquaredError: 0.0105 - R2Score: 0.8299\n",
      "INFO:2021-08-01 12:58:59,654:emulator:_train_once:L308: [ 96/100] Training Loss: -0.0524 - MeanSquaredError: 0.0000 - R2Score: 1.0000 | Validation Loss: -2.4946 - MeanSquaredError: 0.0108 - R2Score: 0.8259\n",
      "INFO:2021-08-01 12:58:59,661:emulator:_train_once:L308: [ 97/100] Training Loss: -0.0536 - MeanSquaredError: 0.0000 - R2Score: 1.0000 | Validation Loss: -2.4989 - MeanSquaredError: 0.0106 - R2Score: 0.8291\n",
      "INFO:2021-08-01 12:58:59,670:emulator:_train_once:L308: [ 98/100] Training Loss: -0.0546 - MeanSquaredError: 0.0000 - R2Score: 1.0000 | Validation Loss: -2.5048 - MeanSquaredError: 0.0101 - R2Score: 0.8363\n",
      "INFO:2021-08-01 12:58:59,677:emulator:_train_once:L308: [ 99/100] Training Loss: -0.0556 - MeanSquaredError: 0.0000 - R2Score: 1.0000 | Validation Loss: -2.5110 - MeanSquaredError: 0.0099 - R2Score: 0.8403\n"
     ]
    },
    {
     "name": "stderr",
     "output_type": "stream",
     "text": [
      "INFO:2021-08-01 12:58:59,685:emulator:_train_once:L308: [100/100] Training Loss: -0.0564 - MeanSquaredError: 0.0000 - R2Score: 1.0000 | Validation Loss: -2.5124 - MeanSquaredError: 0.0100 - R2Score: 0.8388\n",
      "INFO:2021-08-01 12:58:59,687:emulator:train:L112: Run restart 2.\n",
      "INFO:2021-08-01 12:58:59,687:emulator:train:L99: Running restart 3...\n",
      "INFO:2021-08-01 12:58:59,702:emulator:_train_once:L308: [  1/100] Training Loss: 1.7727 - MeanSquaredError: 1.1276 - R2Score: -0.1276 | Validation Loss: 0.9368 - MeanSquaredError: 0.1113 - R2Score: -0.8002\n",
      "INFO:2021-08-01 12:58:59,709:emulator:_train_once:L308: [  2/100] Training Loss: 1.6866 - MeanSquaredError: 1.0094 - R2Score: -0.0094 | Validation Loss: 0.9418 - MeanSquaredError: 0.1164 - R2Score: -0.8829\n",
      "INFO:2021-08-01 12:58:59,716:emulator:_train_once:L308: [  3/100] Training Loss: 1.5717 - MeanSquaredError: 0.9071 - R2Score: 0.0929 | Validation Loss: 0.9597 - MeanSquaredError: 0.1459 - R2Score: -1.3591\n",
      "INFO:2021-08-01 12:58:59,724:emulator:_train_once:L308: [  4/100] Training Loss: 1.4687 - MeanSquaredError: 0.8344 - R2Score: 0.1656 | Validation Loss: 0.9874 - MeanSquaredError: 0.1978 - R2Score: -2.1992\n",
      "INFO:2021-08-01 12:58:59,731:emulator:_train_once:L308: [  5/100] Training Loss: 1.3970 - MeanSquaredError: 0.7915 - R2Score: 0.2085 | Validation Loss: 1.0202 - MeanSquaredError: 0.2650 - R2Score: -3.2850\n",
      "INFO:2021-08-01 12:58:59,738:emulator:_train_once:L308: [  6/100] Training Loss: 1.3599 - MeanSquaredError: 0.7731 - R2Score: 0.2269 | Validation Loss: 1.0546 - MeanSquaredError: 0.3390 - R2Score: -4.4830\n",
      "INFO:2021-08-01 12:58:59,744:emulator:_train_once:L308: [  7/100] Training Loss: 1.3523 - MeanSquaredError: 0.7719 - R2Score: 0.2281 | Validation Loss: 1.0874 - MeanSquaredError: 0.4125 - R2Score: -5.6703\n",
      "INFO:2021-08-01 12:58:59,751:emulator:_train_once:L308: [  8/100] Training Loss: 1.3655 - MeanSquaredError: 0.7806 - R2Score: 0.2194 | Validation Loss: 1.1164 - MeanSquaredError: 0.4783 - R2Score: -6.7352\n",
      "INFO:2021-08-01 12:58:59,757:emulator:_train_once:L308: [  9/100] Training Loss: 1.3898 - MeanSquaredError: 0.7922 - R2Score: 0.2078 | Validation Loss: 1.1393 - MeanSquaredError: 0.5306 - R2Score: -7.5815\n",
      "INFO:2021-08-01 12:58:59,764:emulator:_train_once:L308: [ 10/100] Training Loss: 1.4156 - MeanSquaredError: 0.8011 - R2Score: 0.1989 | Validation Loss: 1.1549 - MeanSquaredError: 0.5654 - R2Score: -8.1439\n",
      "INFO:2021-08-01 12:58:59,771:emulator:_train_once:L308: [ 11/100] Training Loss: 1.4355 - MeanSquaredError: 0.8043 - R2Score: 0.1957 | Validation Loss: 1.1626 - MeanSquaredError: 0.5814 - R2Score: -8.4029\n",
      "INFO:2021-08-01 12:58:59,777:emulator:_train_once:L308: [ 12/100] Training Loss: 1.4453 - MeanSquaredError: 0.8013 - R2Score: 0.1987 | Validation Loss: 1.1632 - MeanSquaredError: 0.5804 - R2Score: -8.3867\n",
      "INFO:2021-08-01 12:58:59,784:emulator:_train_once:L308: [ 13/100] Training Loss: 1.4442 - MeanSquaredError: 0.7937 - R2Score: 0.2063 | Validation Loss: 1.1578 - MeanSquaredError: 0.5662 - R2Score: -8.1567\n",
      "INFO:2021-08-01 12:58:59,790:emulator:_train_once:L308: [ 14/100] Training Loss: 1.4345 - MeanSquaredError: 0.7839 - R2Score: 0.2161 | Validation Loss: 1.1484 - MeanSquaredError: 0.5433 - R2Score: -7.7861\n",
      "INFO:2021-08-01 12:58:59,797:emulator:_train_once:L308: [ 15/100] Training Loss: 1.4197 - MeanSquaredError: 0.7740 - R2Score: 0.2260 | Validation Loss: 1.1364 - MeanSquaredError: 0.5158 - R2Score: -7.3412\n",
      "INFO:2021-08-01 12:58:59,805:emulator:_train_once:L308: [ 16/100] Training Loss: 1.4032 - MeanSquaredError: 0.7657 - R2Score: 0.2343 | Validation Loss: 1.1232 - MeanSquaredError: 0.4868 - R2Score: -6.8724\n",
      "INFO:2021-08-01 12:58:59,812:emulator:_train_once:L308: [ 17/100] Training Loss: 1.3878 - MeanSquaredError: 0.7595 - R2Score: 0.2405 | Validation Loss: 1.1095 - MeanSquaredError: 0.4584 - R2Score: -6.4128\n",
      "INFO:2021-08-01 12:58:59,819:emulator:_train_once:L308: [ 18/100] Training Loss: 1.3752 - MeanSquaredError: 0.7557 - R2Score: 0.2443 | Validation Loss: 1.0961 - MeanSquaredError: 0.4317 - R2Score: -5.9823\n",
      "INFO:2021-08-01 12:58:59,826:emulator:_train_once:L308: [ 19/100] Training Loss: 1.3660 - MeanSquaredError: 0.7541 - R2Score: 0.2459 | Validation Loss: 1.0832 - MeanSquaredError: 0.4076 - R2Score: -5.5917\n",
      "INFO:2021-08-01 12:58:59,834:emulator:_train_once:L308: [ 20/100] Training Loss: 1.3604 - MeanSquaredError: 0.7542 - R2Score: 0.2458 | Validation Loss: 1.0714 - MeanSquaredError: 0.3863 - R2Score: -5.2470\n",
      "INFO:2021-08-01 12:58:59,841:emulator:_train_once:L308: [ 21/100] Training Loss: 1.3579 - MeanSquaredError: 0.7555 - R2Score: 0.2445 | Validation Loss: 1.0607 - MeanSquaredError: 0.3680 - R2Score: -4.9514\n",
      "INFO:2021-08-01 12:58:59,849:emulator:_train_once:L308: [ 22/100] Training Loss: 1.3578 - MeanSquaredError: 0.7577 - R2Score: 0.2423 | Validation Loss: 1.0515 - MeanSquaredError: 0.3529 - R2Score: -4.7072\n",
      "INFO:2021-08-01 12:58:59,856:emulator:_train_once:L308: [ 23/100] Training Loss: 1.3594 - MeanSquaredError: 0.7602 - R2Score: 0.2398 | Validation Loss: 1.0439 - MeanSquaredError: 0.3411 - R2Score: -4.5161\n",
      "INFO:2021-08-01 12:58:59,863:emulator:_train_once:L308: [ 24/100] Training Loss: 1.3618 - MeanSquaredError: 0.7625 - R2Score: 0.2375 | Validation Loss: 1.0382 - MeanSquaredError: 0.3326 - R2Score: -4.3793\n",
      "INFO:2021-08-01 12:58:59,872:emulator:_train_once:L308: [ 25/100] Training Loss: 1.3641 - MeanSquaredError: 0.7644 - R2Score: 0.2356 | Validation Loss: 1.0344 - MeanSquaredError: 0.3276 - R2Score: -4.2976\n",
      "INFO:2021-08-01 12:58:59,879:emulator:_train_once:L308: [ 26/100] Training Loss: 1.3656 - MeanSquaredError: 0.7654 - R2Score: 0.2346 | Validation Loss: 1.0327 - MeanSquaredError: 0.3259 - R2Score: -4.2709\n",
      "INFO:2021-08-01 12:58:59,886:emulator:_train_once:L308: [ 27/100] Training Loss: 1.3657 - MeanSquaredError: 0.7655 - R2Score: 0.2345 | Validation Loss: 1.0331 - MeanSquaredError: 0.3276 - R2Score: -4.2979\n",
      "INFO:2021-08-01 12:58:59,893:emulator:_train_once:L308: [ 28/100] Training Loss: 1.3641 - MeanSquaredError: 0.7647 - R2Score: 0.2353 | Validation Loss: 1.0354 - MeanSquaredError: 0.3325 - R2Score: -4.3768\n",
      "INFO:2021-08-01 12:58:59,900:emulator:_train_once:L308: [ 29/100] Training Loss: 1.3607 - MeanSquaredError: 0.7630 - R2Score: 0.2370 | Validation Loss: 1.0396 - MeanSquaredError: 0.3404 - R2Score: -4.5042\n",
      "INFO:2021-08-01 12:58:59,908:emulator:_train_once:L308: [ 30/100] Training Loss: 1.3559 - MeanSquaredError: 0.7608 - R2Score: 0.2392 | Validation Loss: 1.0454 - MeanSquaredError: 0.3510 - R2Score: -4.6761\n",
      "INFO:2021-08-01 12:58:59,914:emulator:_train_once:L308: [ 31/100] Training Loss: 1.3500 - MeanSquaredError: 0.7584 - R2Score: 0.2416 | Validation Loss: 1.0525 - MeanSquaredError: 0.3640 - R2Score: -4.8870\n",
      "INFO:2021-08-01 12:58:59,921:emulator:_train_once:L308: [ 32/100] Training Loss: 1.3439 - MeanSquaredError: 0.7564 - R2Score: 0.2436 | Validation Loss: 1.0607 - MeanSquaredError: 0.3790 - R2Score: -5.1298\n",
      "INFO:2021-08-01 12:58:59,927:emulator:_train_once:L308: [ 33/100] Training Loss: 1.3381 - MeanSquaredError: 0.7549 - R2Score: 0.2451 | Validation Loss: 1.0695 - MeanSquaredError: 0.3955 - R2Score: -5.3956\n",
      "INFO:2021-08-01 12:58:59,934:emulator:_train_once:L308: [ 34/100] Training Loss: 1.3333 - MeanSquaredError: 0.7543 - R2Score: 0.2457 | Validation Loss: 1.0784 - MeanSquaredError: 0.4126 - R2Score: -5.6726\n",
      "INFO:2021-08-01 12:58:59,942:emulator:_train_once:L308: [ 35/100] Training Loss: 1.3297 - MeanSquaredError: 0.7547 - R2Score: 0.2453 | Validation Loss: 1.0871 - MeanSquaredError: 0.4295 - R2Score: -5.9462\n",
      "INFO:2021-08-01 12:58:59,951:emulator:_train_once:L308: [ 36/100] Training Loss: 1.3275 - MeanSquaredError: 0.7558 - R2Score: 0.2442 | Validation Loss: 1.0949 - MeanSquaredError: 0.4451 - R2Score: -6.1986\n",
      "INFO:2021-08-01 12:58:59,957:emulator:_train_once:L308: [ 37/100] Training Loss: 1.3262 - MeanSquaredError: 0.7574 - R2Score: 0.2426 | Validation Loss: 1.1013 - MeanSquaredError: 0.4582 - R2Score: -6.4101\n",
      "INFO:2021-08-01 12:58:59,964:emulator:_train_once:L308: [ 38/100] Training Loss: 1.3255 - MeanSquaredError: 0.7589 - R2Score: 0.2411 | Validation Loss: 1.1057 - MeanSquaredError: 0.4675 - R2Score: -6.5612\n",
      "INFO:2021-08-01 12:58:59,971:emulator:_train_once:L308: [ 39/100] Training Loss: 1.3246 - MeanSquaredError: 0.7598 - R2Score: 0.2402 | Validation Loss: 1.1076 - MeanSquaredError: 0.4722 - R2Score: -6.6360\n"
     ]
    },
    {
     "name": "stderr",
     "output_type": "stream",
     "text": [
      "INFO:2021-08-01 12:58:59,978:emulator:_train_once:L308: [ 40/100] Training Loss: 1.3230 - MeanSquaredError: 0.7597 - R2Score: 0.2403 | Validation Loss: 1.1069 - MeanSquaredError: 0.4715 - R2Score: -6.6257\n",
      "INFO:2021-08-01 12:58:59,986:emulator:_train_once:L308: [ 41/100] Training Loss: 1.3204 - MeanSquaredError: 0.7588 - R2Score: 0.2412 | Validation Loss: 1.1034 - MeanSquaredError: 0.4657 - R2Score: -6.5313\n",
      "INFO:2021-08-01 12:58:59,993:emulator:_train_once:L308: [ 42/100] Training Loss: 1.3170 - MeanSquaredError: 0.7573 - R2Score: 0.2427 | Validation Loss: 1.0976 - MeanSquaredError: 0.4554 - R2Score: -6.3646\n",
      "INFO:2021-08-01 12:59:00,000:emulator:_train_once:L308: [ 43/100] Training Loss: 1.3132 - MeanSquaredError: 0.7557 - R2Score: 0.2443 | Validation Loss: 1.0900 - MeanSquaredError: 0.4419 - R2Score: -6.1467\n",
      "INFO:2021-08-01 12:59:00,007:emulator:_train_once:L308: [ 44/100] Training Loss: 1.3095 - MeanSquaredError: 0.7547 - R2Score: 0.2453 | Validation Loss: 1.0814 - MeanSquaredError: 0.4269 - R2Score: -5.9042\n",
      "INFO:2021-08-01 12:59:00,015:emulator:_train_once:L308: [ 45/100] Training Loss: 1.3065 - MeanSquaredError: 0.7544 - R2Score: 0.2456 | Validation Loss: 1.0727 - MeanSquaredError: 0.4121 - R2Score: -5.6649\n",
      "INFO:2021-08-01 12:59:00,022:emulator:_train_once:L308: [ 46/100] Training Loss: 1.3045 - MeanSquaredError: 0.7549 - R2Score: 0.2451 | Validation Loss: 1.0645 - MeanSquaredError: 0.3990 - R2Score: -5.4533\n",
      "INFO:2021-08-01 12:59:00,029:emulator:_train_once:L308: [ 47/100] Training Loss: 1.3033 - MeanSquaredError: 0.7559 - R2Score: 0.2441 | Validation Loss: 1.0577 - MeanSquaredError: 0.3888 - R2Score: -5.2873\n",
      "INFO:2021-08-01 12:59:00,037:emulator:_train_once:L308: [ 48/100] Training Loss: 1.3026 - MeanSquaredError: 0.7567 - R2Score: 0.2433 | Validation Loss: 1.0526 - MeanSquaredError: 0.3820 - R2Score: -5.1779\n",
      "INFO:2021-08-01 12:59:00,044:emulator:_train_once:L308: [ 49/100] Training Loss: 1.3019 - MeanSquaredError: 0.7570 - R2Score: 0.2430 | Validation Loss: 1.0495 - MeanSquaredError: 0.3790 - R2Score: -5.1298\n",
      "INFO:2021-08-01 12:59:00,052:emulator:_train_once:L308: [ 50/100] Training Loss: 1.3007 - MeanSquaredError: 0.7566 - R2Score: 0.2434 | Validation Loss: 1.0485 - MeanSquaredError: 0.3798 - R2Score: -5.1426\n",
      "INFO:2021-08-01 12:59:00,059:emulator:_train_once:L308: [ 51/100] Training Loss: 1.2991 - MeanSquaredError: 0.7557 - R2Score: 0.2443 | Validation Loss: 1.0493 - MeanSquaredError: 0.3841 - R2Score: -5.2113\n",
      "INFO:2021-08-01 12:59:00,066:emulator:_train_once:L308: [ 52/100] Training Loss: 1.2971 - MeanSquaredError: 0.7547 - R2Score: 0.2453 | Validation Loss: 1.0519 - MeanSquaredError: 0.3912 - R2Score: -5.3262\n",
      "INFO:2021-08-01 12:59:00,073:emulator:_train_once:L308: [ 53/100] Training Loss: 1.2951 - MeanSquaredError: 0.7540 - R2Score: 0.2460 | Validation Loss: 1.0556 - MeanSquaredError: 0.4002 - R2Score: -5.4715\n",
      "INFO:2021-08-01 12:59:00,080:emulator:_train_once:L308: [ 54/100] Training Loss: 1.2936 - MeanSquaredError: 0.7540 - R2Score: 0.2460 | Validation Loss: 1.0597 - MeanSquaredError: 0.4097 - R2Score: -5.6255\n",
      "INFO:2021-08-01 12:59:00,088:emulator:_train_once:L308: [ 55/100] Training Loss: 1.2927 - MeanSquaredError: 0.7544 - R2Score: 0.2456 | Validation Loss: 1.0633 - MeanSquaredError: 0.4182 - R2Score: -5.7631\n",
      "INFO:2021-08-01 12:59:00,095:emulator:_train_once:L308: [ 56/100] Training Loss: 1.2922 - MeanSquaredError: 0.7549 - R2Score: 0.2451 | Validation Loss: 1.0658 - MeanSquaredError: 0.4242 - R2Score: -5.8601\n",
      "INFO:2021-08-01 12:59:00,102:emulator:_train_once:L308: [ 57/100] Training Loss: 1.2919 - MeanSquaredError: 0.7553 - R2Score: 0.2447 | Validation Loss: 1.0663 - MeanSquaredError: 0.4266 - R2Score: -5.8987\n",
      "INFO:2021-08-01 12:59:00,108:emulator:_train_once:L308: [ 58/100] Training Loss: 1.2914 - MeanSquaredError: 0.7552 - R2Score: 0.2448 | Validation Loss: 1.0647 - MeanSquaredError: 0.4250 - R2Score: -5.8730\n",
      "INFO:2021-08-01 12:59:00,115:emulator:_train_once:L308: [ 59/100] Training Loss: 1.2907 - MeanSquaredError: 0.7548 - R2Score: 0.2452 | Validation Loss: 1.0611 - MeanSquaredError: 0.4198 - R2Score: -5.7893\n",
      "INFO:2021-08-01 12:59:00,123:emulator:_train_once:L308: [ 60/100] Training Loss: 1.2897 - MeanSquaredError: 0.7543 - R2Score: 0.2457 | Validation Loss: 1.0561 - MeanSquaredError: 0.4121 - R2Score: -5.6650\n",
      "INFO:2021-08-01 12:59:00,130:emulator:_train_once:L308: [ 61/100] Training Loss: 1.2887 - MeanSquaredError: 0.7539 - R2Score: 0.2461 | Validation Loss: 1.0506 - MeanSquaredError: 0.4034 - R2Score: -5.5231\n",
      "INFO:2021-08-01 12:59:00,138:emulator:_train_once:L308: [ 62/100] Training Loss: 1.2879 - MeanSquaredError: 0.7540 - R2Score: 0.2460 | Validation Loss: 1.0453 - MeanSquaredError: 0.3949 - R2Score: -5.3869\n",
      "INFO:2021-08-01 12:59:00,144:emulator:_train_once:L308: [ 63/100] Training Loss: 1.2875 - MeanSquaredError: 0.7542 - R2Score: 0.2458 | Validation Loss: 1.0409 - MeanSquaredError: 0.3881 - R2Score: -5.2756\n",
      "INFO:2021-08-01 12:59:00,150:emulator:_train_once:L308: [ 64/100] Training Loss: 1.2872 - MeanSquaredError: 0.7545 - R2Score: 0.2455 | Validation Loss: 1.0379 - MeanSquaredError: 0.3835 - R2Score: -5.2022\n",
      "INFO:2021-08-01 12:59:00,157:emulator:_train_once:L308: [ 65/100] Training Loss: 1.2870 - MeanSquaredError: 0.7547 - R2Score: 0.2453 | Validation Loss: 1.0367 - MeanSquaredError: 0.3817 - R2Score: -5.1726\n",
      "INFO:2021-08-01 12:59:00,163:emulator:_train_once:L308: [ 66/100] Training Loss: 1.2868 - MeanSquaredError: 0.7546 - R2Score: 0.2454 | Validation Loss: 1.0371 - MeanSquaredError: 0.3825 - R2Score: -5.1865\n",
      "INFO:2021-08-01 12:59:00,170:emulator:_train_once:L308: [ 67/100] Training Loss: 1.2863 - MeanSquaredError: 0.7543 - R2Score: 0.2457 | Validation Loss: 1.0389 - MeanSquaredError: 0.3857 - R2Score: -5.2384\n",
      "INFO:2021-08-01 12:59:00,176:emulator:_train_once:L308: [ 68/100] Training Loss: 1.2858 - MeanSquaredError: 0.7541 - R2Score: 0.2459 | Validation Loss: 1.0418 - MeanSquaredError: 0.3907 - R2Score: -5.3179\n",
      "INFO:2021-08-01 12:59:00,182:emulator:_train_once:L308: [ 69/100] Training Loss: 1.2853 - MeanSquaredError: 0.7539 - R2Score: 0.2461 | Validation Loss: 1.0453 - MeanSquaredError: 0.3964 - R2Score: -5.4108\n",
      "INFO:2021-08-01 12:59:00,189:emulator:_train_once:L308: [ 70/100] Training Loss: 1.2849 - MeanSquaredError: 0.7540 - R2Score: 0.2460 | Validation Loss: 1.0487 - MeanSquaredError: 0.4020 - R2Score: -5.5009\n",
      "INFO:2021-08-01 12:59:00,196:emulator:_train_once:L308: [ 71/100] Training Loss: 1.2847 - MeanSquaredError: 0.7541 - R2Score: 0.2459 | Validation Loss: 1.0514 - MeanSquaredError: 0.4064 - R2Score: -5.5730\n",
      "INFO:2021-08-01 12:59:00,202:emulator:_train_once:L308: [ 72/100] Training Loss: 1.2846 - MeanSquaredError: 0.7542 - R2Score: 0.2458 | Validation Loss: 1.0530 - MeanSquaredError: 0.4091 - R2Score: -5.6155\n",
      "INFO:2021-08-01 12:59:00,209:emulator:_train_once:L308: [ 73/100] Training Loss: 1.2844 - MeanSquaredError: 0.7543 - R2Score: 0.2457 | Validation Loss: 1.0533 - MeanSquaredError: 0.4095 - R2Score: -5.6233\n",
      "INFO:2021-08-01 12:59:00,215:emulator:_train_once:L308: [ 74/100] Training Loss: 1.2842 - MeanSquaredError: 0.7542 - R2Score: 0.2458 | Validation Loss: 1.0524 - MeanSquaredError: 0.4080 - R2Score: -5.5986\n",
      "INFO:2021-08-01 12:59:00,223:emulator:_train_once:L308: [ 75/100] Training Loss: 1.2840 - MeanSquaredError: 0.7540 - R2Score: 0.2460 | Validation Loss: 1.0506 - MeanSquaredError: 0.4050 - R2Score: -5.5496\n",
      "INFO:2021-08-01 12:59:00,229:emulator:_train_once:L308: [ 76/100] Training Loss: 1.2837 - MeanSquaredError: 0.7539 - R2Score: 0.2461 | Validation Loss: 1.0482 - MeanSquaredError: 0.4012 - R2Score: -5.4884\n",
      "INFO:2021-08-01 12:59:00,236:emulator:_train_once:L308: [ 77/100] Training Loss: 1.2834 - MeanSquaredError: 0.7539 - R2Score: 0.2461 | Validation Loss: 1.0459 - MeanSquaredError: 0.3975 - R2Score: -5.4278\n",
      "INFO:2021-08-01 12:59:00,242:emulator:_train_once:L308: [ 78/100] Training Loss: 1.2833 - MeanSquaredError: 0.7540 - R2Score: 0.2460 | Validation Loss: 1.0439 - MeanSquaredError: 0.3944 - R2Score: -5.3789\n",
      "INFO:2021-08-01 12:59:00,248:emulator:_train_once:L308: [ 79/100] Training Loss: 1.2831 - MeanSquaredError: 0.7541 - R2Score: 0.2459 | Validation Loss: 1.0427 - MeanSquaredError: 0.3926 - R2Score: -5.3493\n"
     ]
    },
    {
     "name": "stderr",
     "output_type": "stream",
     "text": [
      "INFO:2021-08-01 12:59:00,255:emulator:_train_once:L308: [ 80/100] Training Loss: 1.2830 - MeanSquaredError: 0.7541 - R2Score: 0.2459 | Validation Loss: 1.0423 - MeanSquaredError: 0.3922 - R2Score: -5.3428\n",
      "INFO:2021-08-01 12:59:00,262:emulator:_train_once:L308: [ 81/100] Training Loss: 1.2829 - MeanSquaredError: 0.7541 - R2Score: 0.2459 | Validation Loss: 1.0428 - MeanSquaredError: 0.3932 - R2Score: -5.3589\n",
      "INFO:2021-08-01 12:59:00,270:emulator:_train_once:L308: [ 82/100] Training Loss: 1.2828 - MeanSquaredError: 0.7540 - R2Score: 0.2460 | Validation Loss: 1.0440 - MeanSquaredError: 0.3953 - R2Score: -5.3935\n",
      "INFO:2021-08-01 12:59:00,277:emulator:_train_once:L308: [ 83/100] Training Loss: 1.2826 - MeanSquaredError: 0.7539 - R2Score: 0.2461 | Validation Loss: 1.0456 - MeanSquaredError: 0.3982 - R2Score: -5.4400\n",
      "INFO:2021-08-01 12:59:00,284:emulator:_train_once:L308: [ 84/100] Training Loss: 1.2824 - MeanSquaredError: 0.7539 - R2Score: 0.2461 | Validation Loss: 1.0473 - MeanSquaredError: 0.4013 - R2Score: -5.4900\n",
      "INFO:2021-08-01 12:59:00,290:emulator:_train_once:L308: [ 85/100] Training Loss: 1.2823 - MeanSquaredError: 0.7539 - R2Score: 0.2461 | Validation Loss: 1.0489 - MeanSquaredError: 0.4041 - R2Score: -5.5346\n",
      "INFO:2021-08-01 12:59:00,297:emulator:_train_once:L308: [ 86/100] Training Loss: 1.2822 - MeanSquaredError: 0.7540 - R2Score: 0.2460 | Validation Loss: 1.0500 - MeanSquaredError: 0.4061 - R2Score: -5.5668\n",
      "INFO:2021-08-01 12:59:00,304:emulator:_train_once:L308: [ 87/100] Training Loss: 1.2821 - MeanSquaredError: 0.7540 - R2Score: 0.2460 | Validation Loss: 1.0504 - MeanSquaredError: 0.4070 - R2Score: -5.5821\n",
      "INFO:2021-08-01 12:59:00,311:emulator:_train_once:L308: [ 88/100] Training Loss: 1.2821 - MeanSquaredError: 0.7540 - R2Score: 0.2460 | Validation Loss: 1.0502 - MeanSquaredError: 0.4068 - R2Score: -5.5795\n",
      "INFO:2021-08-01 12:59:00,318:emulator:_train_once:L308: [ 89/100] Training Loss: 1.2820 - MeanSquaredError: 0.7540 - R2Score: 0.2460 | Validation Loss: 1.0494 - MeanSquaredError: 0.4057 - R2Score: -5.5617\n",
      "INFO:2021-08-01 12:59:00,325:emulator:_train_once:L308: [ 90/100] Training Loss: 1.2819 - MeanSquaredError: 0.7539 - R2Score: 0.2461 | Validation Loss: 1.0482 - MeanSquaredError: 0.4040 - R2Score: -5.5339\n",
      "INFO:2021-08-01 12:59:00,332:emulator:_train_once:L308: [ 91/100] Training Loss: 1.2817 - MeanSquaredError: 0.7539 - R2Score: 0.2461 | Validation Loss: 1.0469 - MeanSquaredError: 0.4021 - R2Score: -5.5027\n",
      "INFO:2021-08-01 12:59:00,339:emulator:_train_once:L308: [ 92/100] Training Loss: 1.2817 - MeanSquaredError: 0.7539 - R2Score: 0.2461 | Validation Loss: 1.0458 - MeanSquaredError: 0.4003 - R2Score: -5.4744\n",
      "INFO:2021-08-01 12:59:00,346:emulator:_train_once:L308: [ 93/100] Training Loss: 1.2816 - MeanSquaredError: 0.7539 - R2Score: 0.2461 | Validation Loss: 1.0449 - MeanSquaredError: 0.3991 - R2Score: -5.4541\n",
      "INFO:2021-08-01 12:59:00,354:emulator:_train_once:L308: [ 94/100] Training Loss: 1.2815 - MeanSquaredError: 0.7540 - R2Score: 0.2460 | Validation Loss: 1.0445 - MeanSquaredError: 0.3985 - R2Score: -5.4449\n",
      "INFO:2021-08-01 12:59:00,361:emulator:_train_once:L308: [ 95/100] Training Loss: 1.2815 - MeanSquaredError: 0.7540 - R2Score: 0.2460 | Validation Loss: 1.0446 - MeanSquaredError: 0.3987 - R2Score: -5.4474\n",
      "INFO:2021-08-01 12:59:00,369:emulator:_train_once:L308: [ 96/100] Training Loss: 1.2814 - MeanSquaredError: 0.7539 - R2Score: 0.2461 | Validation Loss: 1.0450 - MeanSquaredError: 0.3995 - R2Score: -5.4602\n",
      "INFO:2021-08-01 12:59:00,376:emulator:_train_once:L308: [ 97/100] Training Loss: 1.2813 - MeanSquaredError: 0.7539 - R2Score: 0.2461 | Validation Loss: 1.0458 - MeanSquaredError: 0.4007 - R2Score: -5.4799\n",
      "INFO:2021-08-01 12:59:00,382:emulator:_train_once:L308: [ 98/100] Training Loss: 1.2812 - MeanSquaredError: 0.7539 - R2Score: 0.2461 | Validation Loss: 1.0466 - MeanSquaredError: 0.4021 - R2Score: -5.5022\n",
      "INFO:2021-08-01 12:59:00,390:emulator:_train_once:L308: [ 99/100] Training Loss: 1.2812 - MeanSquaredError: 0.7539 - R2Score: 0.2461 | Validation Loss: 1.0474 - MeanSquaredError: 0.4033 - R2Score: -5.5227\n",
      "INFO:2021-08-01 12:59:00,397:emulator:_train_once:L308: [100/100] Training Loss: 1.2811 - MeanSquaredError: 0.7539 - R2Score: 0.2461 | Validation Loss: 1.0480 - MeanSquaredError: 0.4042 - R2Score: -5.5374\n",
      "INFO:2021-08-01 12:59:00,399:emulator:train:L112: Run restart 3.\n",
      "INFO:2021-08-01 12:59:00,400:emulator:train:L115: Trained emulator...\n",
      "INFO:2021-08-01 12:59:00,401:emulator:train:L155: Loading best model (restart: 2, epoch: 100)...\n",
      "INFO:2021-08-01 12:59:00,402:emulator:train:L166: Loaded best model (restart: 2, epoch: 100).\n",
      "INFO:2021-08-01 12:59:00,403:emulator:train:L183: Loading best train stats (restart: 2, epoch: 100)...\n",
      "INFO:2021-08-01 12:59:00,404:emulator:train:L206: The fitted emulator hyperparameters are:\n"
     ]
    },
    {
     "name": "stdout",
     "output_type": "stream",
     "text": [
      "\n",
      "Bias: -1.0693\n",
      "Weights: 2.9473683834075928\n",
      "Outputscale: 1.8783\n",
      "Lengthscales: 0.18385031819343567\n",
      "Likelihood noise: 0.0001\n",
      "MeanSquaredError: 0.0100\n",
      "R2Score: 0.8388\n",
      "\n"
     ]
    }
   ],
   "source": [
    "# train model\n",
    "from GPErks.train.emulator import GPEmulator\n",
    "emulator = GPEmulator(experiment, device)\n",
    "best_model, best_train_stats = emulator.train(optimizer)"
   ]
  },
  {
   "cell_type": "code",
   "execution_count": 43,
   "id": "407e4e97",
   "metadata": {},
   "outputs": [
    {
     "name": "stdout",
     "output_type": "stream",
     "text": [
      "2.135216236114502\n",
      "0.610708475112915\n"
     ]
    }
   ],
   "source": [
    "# inference on stored test set\n",
    "x_true = dataset.X_test\n",
    "y_true = dataset.y_test\n",
    "\n",
    "y_mean, y_std = emulator.predict(x_true)\n",
    "\n",
    "for metric in metrics:\n",
    "    print( metric(\n",
    "        torch.from_numpy(y_mean), torch.from_numpy(y_true)\n",
    "        ).item()\n",
    "    )"
   ]
  },
  {
   "cell_type": "code",
   "execution_count": 44,
   "id": "1a04de09",
   "metadata": {},
   "outputs": [
    {
     "name": "stdout",
     "output_type": "stream",
     "text": [
      "{'MeanSquaredError': array(2.1352162, dtype=float32), 'R2Score': array(0.6107085, dtype=float32)}\n"
     ]
    }
   ],
   "source": [
    "from GPErks.perks.inference import Inference\n",
    "inference = Inference(emulator)\n",
    "inference.summary()  # can be retrieved from inference.scores_dct\n",
    "print( inference.scores_dct )"
   ]
  },
  {
   "cell_type": "code",
   "execution_count": 45,
   "id": "6d7ad011",
   "metadata": {},
   "outputs": [
    {
     "data": {
      "image/png": "[encoded data removed]",
      "text/plain": [
       "<Figure size 432x288 with 1 Axes>"
      ]
     },
     "metadata": {
      "needs_background": "light"
     },
     "output_type": "display_data"
    }
   ],
   "source": [
    "# nice plotting\n",
    "x_train = dataset.X_train\n",
    "y_train = dataset.y_train\n",
    "\n",
    "xx = np.linspace(dataset.X_test.min(), dataset.X_test.max(), 1000)\n",
    "yy_mean, yy_std = emulator.predict(xx)\n",
    "\n",
    "import matplotlib.pyplot as plt\n",
    "fig, axis = plt.subplots(1, 1)\n",
    "\n",
    "CI = 2\n",
    "axis.plot(xx, yy_mean, c=\"C0\")\n",
    "axis.fill_between(\n",
    "    xx, yy_mean - CI * yy_std, yy_mean + CI * yy_std, color=\"C0\", alpha=0.15\n",
    ")\n",
    "\n",
    "axis.scatter(x_train, y_train, fc=\"C0\", ec=\"C0\")\n",
    "axis.scatter(x_true, y_true, fc=\"C3\", ec=\"C3\")\n",
    "\n",
    "fig.tight_layout()\n",
    "plt.show()"
   ]
  },
  {
   "cell_type": "code",
   "execution_count": 23,
   "id": "3798af17",
   "metadata": {},
   "outputs": [
    {
     "ename": "NameError",
     "evalue": "name 'best_train_stats' is not defined",
     "output_type": "error",
     "traceback": [
      "\u001b[0;31m---------------------------------------------------------------------------\u001b[0m",
      "\u001b[0;31mNameError\u001b[0m                                 Traceback (most recent call last)",
      "\u001b[0;32m/tmp/ipykernel_23242/602471068.py\u001b[0m in \u001b[0;36m<module>\u001b[0;34m\u001b[0m\n\u001b[1;32m      1\u001b[0m \u001b[0;31m# plot graphs\u001b[0m\u001b[0;34m\u001b[0m\u001b[0;34m\u001b[0m\u001b[0;34m\u001b[0m\u001b[0m\n\u001b[0;32m----> 2\u001b[0;31m \u001b[0mbest_train_stats\u001b[0m\u001b[0;34m.\u001b[0m\u001b[0mplot\u001b[0m\u001b[0;34m(\u001b[0m\u001b[0;34m)\u001b[0m\u001b[0;34m\u001b[0m\u001b[0;34m\u001b[0m\u001b[0m\n\u001b[0m",
      "\u001b[0;31mNameError\u001b[0m: name 'best_train_stats' is not defined"
     ]
    }
   ],
   "source": [
    "# plot graphs\n",
    "best_train_stats.plot()"
   ]
  },
  {
   "cell_type": "code",
   "execution_count": 24,
   "id": "4aacaa77",
   "metadata": {},
   "outputs": [
    {
     "name": "stdout",
     "output_type": "stream",
     "text": [
      "{'MeanSquaredError': array(4.8782864, dtype=float32), 'R2Score': array(0.11059344, dtype=float32)}\n"
     ]
    }
   ],
   "source": [
    "# inference on inputed test set\n",
    "from GPErks.perks.inference import Inference\n",
    "inference = Inference(emulator)\n",
    "inference.summary()\n",
    "print( inference.scores_dct )\n",
    "# inference.plot()"
   ]
  },
  {
   "cell_type": "code",
   "execution_count": null,
   "id": "365d8cc1",
   "metadata": {},
   "outputs": [],
   "source": []
  }
 ],
 "metadata": {
  "kernelspec": {
   "display_name": "Python 3 (ipykernel)",
   "language": "python",
   "name": "python3"
  },
  "language_info": {
   "codemirror_mode": {
    "name": "ipython",
    "version": 3
   },
   "file_extension": ".py",
   "mimetype": "text/x-python",
   "name": "python",
   "nbconvert_exporter": "python",
   "pygments_lexer": "ipython3",
   "version": "3.8.0"
  }
 },
 "nbformat": 4,
 "nbformat_minor": 5
}
