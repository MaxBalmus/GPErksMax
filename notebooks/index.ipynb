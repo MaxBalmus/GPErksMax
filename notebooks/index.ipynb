{
 "cells": [
  {
   "cell_type": "markdown",
   "id": "f5be6bbf",
   "metadata": {},
   "source": [
    "<img src=\"./data/images/GPErks_logo.png\" alt=\"Drawing\" style=\"width: 180px;\"/>\n",
    "\n",
    "# GPErks:\n",
    "### _a Python library to (bene)fit Gaussian Process Emulators_\n",
    "---\n",
    "<br/>\n",
    "\n",
    "### Tutorial Index\n",
    "\n",
    "1. [Warming up - A 1D example](./example_1.ipynb)\n",
    "2. [A 2D example](./example_2.ipynb)\n",
    "3. [I/O handling](./example_3.ipynb)\n",
    "4. [Training stats](./example_4.ipynb)\n",
    "5. [K-fold cross-validation training](./example_5.ipynb) "
   ]
  }
 ],
 "metadata": {
  "kernelspec": {
   "display_name": "Python 3 (ipykernel)",
   "language": "python",
   "name": "python3"
  },
  "language_info": {
   "codemirror_mode": {
    "name": "ipython",
    "version": 3
   },
   "file_extension": ".py",
   "mimetype": "text/x-python",
   "name": "python",
   "nbconvert_exporter": "python",
   "pygments_lexer": "ipython3",
   "version": "3.8.0"
  }
 },
 "nbformat": 4,
 "nbformat_minor": 5
}
