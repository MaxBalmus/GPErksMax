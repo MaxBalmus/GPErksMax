{
 "cells": [
  {
   "cell_type": "code",
   "execution_count": 3,
   "id": "55254f02",
   "metadata": {},
   "outputs": [],
   "source": [
    "import os\n",
    "from pathlib import Path\n",
    "\n",
    "import gpytorch\n",
    "import numpy as np\n",
    "import torch\n",
    "from gpytorch.kernels import RBFKernel, ScaleKernel\n",
    "from gpytorch.means import LinearMean\n",
    "from scipy.stats import qmc\n",
    "from torchmetrics import MeanSquaredError, R2Score\n",
    "\n",
    "from GPErks.gp.data.dataset import Dataset\n",
    "from GPErks.gp.experiment import GPExperiment\n",
    "from GPErks.log.logger import get_logger\n",
    "from GPErks.perks.inference import Inference\n",
    "from GPErks.serialization.path import posix_path\n",
    "from GPErks.train.early_stop import (\n",
    "    NoEarlyStoppingCriterion,\n",
    "    PkEarlyStoppingCriterion,\n",
    ")\n",
    "from GPErks.train.emulator import GPEmulator\n",
    "from GPErks.train.snapshot import EveryEpochSnapshottingCriterion\n",
    "from GPErks.utils.random import set_seed"
   ]
  },
  {
   "cell_type": "code",
   "execution_count": 6,
   "id": "d85bbbed",
   "metadata": {},
   "outputs": [],
   "source": [
    "log = get_logger()\n",
    "seed = 8\n",
    "set_seed(seed)"
   ]
  },
  {
   "cell_type": "code",
   "execution_count": 11,
   "id": "9298d197",
   "metadata": {},
   "outputs": [],
   "source": [
    "# define \n",
    "f = lambda x: np.sin(x)\n",
    "D = 1\n",
    "n_train_samples = 10\n",
    "n_val_samples = 10\n",
    "n_test_samples = 10\n",
    "l_bounds = [- 2 * np.pi]\n",
    "u_bounds = [2 * np.pi]\n",
    "\n",
    "dataset = Dataset.build_from_function(\n",
    "    f,\n",
    "    D,\n",
    "    n_train_samples,\n",
    "    n_val_samples,\n",
    "    n_test_samples,\n",
    "    design=\"srs\",\n",
    "    seed=seed,\n",
    "    l_bounds=l_bounds,\n",
    "    u_bounds=u_bounds,\n",
    ")"
   ]
  },
  {
   "cell_type": "code",
   "execution_count": null,
   "id": "4a513209",
   "metadata": {},
   "outputs": [],
   "source": []
  }
 ],
 "metadata": {
  "kernelspec": {
   "display_name": "Python 3 (ipykernel)",
   "language": "python",
   "name": "python3"
  },
  "language_info": {
   "codemirror_mode": {
    "name": "ipython",
    "version": 3
   },
   "file_extension": ".py",
   "mimetype": "text/x-python",
   "name": "python",
   "nbconvert_exporter": "python",
   "pygments_lexer": "ipython3",
   "version": "3.8.0"
  }
 },
 "nbformat": 4,
 "nbformat_minor": 5
}
