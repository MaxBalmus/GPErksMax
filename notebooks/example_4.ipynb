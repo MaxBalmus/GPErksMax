{
 "cells": [
  {
   "cell_type": "markdown",
   "id": "723cc4b4",
   "metadata": {},
   "source": [
    "# 4. Training stats"
   ]
  },
  {
   "cell_type": "code",
   "execution_count": null,
   "id": "1bbcd70e",
   "metadata": {},
   "outputs": [],
   "source": [
    "import numpy as np\n",
    "import torch"
   ]
  },
  {
   "cell_type": "code",
   "execution_count": null,
   "id": "93a76560",
   "metadata": {},
   "outputs": [],
   "source": [
    "# set logger and enforce reproducibility\n",
    "from GPErks.log.logger import get_logger\n",
    "from GPErks.utils.random import set_seed\n",
    "log = get_logger()\n",
    "seed = 8\n",
    "set_seed(seed)  # reproducible sampling"
   ]
  },
  {
   "cell_type": "markdown",
   "id": "4fb6211e",
   "metadata": {},
   "source": [
    "\n",
    "<br/>\n",
    "\n",
    "Nilson, T., and Kuusk, A. (1989) **A Reflectance Model for the Homogeneous Plant Canopy and Its Inversion.** Remote Sensing of Environment, 27, 157-167. doi:10.1016/0034-4257(89)90015-1\n",
    "\n",
    "<br/>"
   ]
  },
  {
   "cell_type": "code",
   "execution_count": null,
   "id": "66dfe2e7",
   "metadata": {},
   "outputs": [],
   "source": [
    "# load externally generated dataset\n",
    "data_dir = \"data/example4/\"\n",
    "X = np.loadtxt(data_dir + \"X.txt\", dtype=float)\n",
    "y = np.loadtxt(data_dir + \"y.txt\", dtype=float)"
   ]
  },
  {
   "cell_type": "code",
   "execution_count": null,
   "id": "1cc7338c",
   "metadata": {},
   "outputs": [],
   "source": [
    "# split original dataset in training, validation and testing sets\n",
    "from sklearn.model_selection import train_test_split\n",
    "X_, X_test, y_, y_test = train_test_split(\n",
    "    X,\n",
    "    y,\n",
    "    test_size=0.2,\n",
    "    random_state=seed\n",
    ")\n",
    "X_train, X_val, y_train, y_val = train_test_split(\n",
    "    X_,\n",
    "    y_,\n",
    "    test_size=0.2,\n",
    "    random_state=seed\n",
    ")"
   ]
  },
  {
   "cell_type": "code",
   "execution_count": null,
   "id": "bbb270dc",
   "metadata": {},
   "outputs": [],
   "source": [
    "# load input parameters and output feature names\n",
    "from GPErks.serialization.labels import read_labels_from_file\n",
    "xlabels = read_labels_from_file(data_dir + \"xlabels.txt\")\n",
    "ylabel = read_labels_from_file(data_dir + \"ylabel.txt\")[0]  # only element of the list\n",
    "print( xlabels )\n",
    "print( ylabel )"
   ]
  },
  {
   "cell_type": "code",
   "execution_count": null,
   "id": "883c960c",
   "metadata": {},
   "outputs": [],
   "source": [
    "# build dataset\n",
    "from GPErks.gp.data.dataset import Dataset\n",
    "dataset = Dataset(\n",
    "    X_train,\n",
    "    y_train,\n",
    "    X_val=X_val,\n",
    "    y_val=y_val,\n",
    "    X_test=X_test,\n",
    "    y_test=y_test,\n",
    "    x_labels=xlabels,\n",
    "    y_label=ylabel\n",
    ")\n",
    "dataset.plot()\n",
    "dataset.plot_pairwise()"
   ]
  },
  {
   "cell_type": "code",
   "execution_count": null,
   "id": "94bbbc3f",
   "metadata": {},
   "outputs": [],
   "source": [
    "# define experiment\n",
    "from gpytorch.likelihoods import GaussianLikelihood\n",
    "from gpytorch.means import LinearMean\n",
    "from gpytorch.kernels import RBFKernel, ScaleKernel\n",
    "from torchmetrics import MeanSquaredError, R2Score\n",
    "from GPErks.gp.experiment import GPExperiment\n",
    "\n",
    "likelihood = GaussianLikelihood()\n",
    "mean_function = LinearMean(input_size=dataset.input_size)\n",
    "kernel = ScaleKernel(RBFKernel(ard_num_dims=dataset.input_size))\n",
    "metrics = [MeanSquaredError(), R2Score()]\n",
    "\n",
    "experiment = GPExperiment(\n",
    "    dataset,\n",
    "    likelihood,\n",
    "    mean_function,\n",
    "    kernel,\n",
    "    n_restarts=3,\n",
    "    metrics=metrics,\n",
    "    seed=seed,  # reproducible training\n",
    "    learn_noise=True\n",
    ")"
   ]
  },
  {
   "cell_type": "code",
   "execution_count": null,
   "id": "f03b2aad",
   "metadata": {},
   "outputs": [],
   "source": [
    "# train model\n",
    "from GPErks.train.emulator import GPEmulator\n",
    "device = \"cuda\" if torch.cuda.is_available() else \"cpu\"\n",
    "optimizer = torch.optim.Adam(experiment.model.parameters(), lr=0.1)\n",
    "\n",
    "emulator = GPEmulator(experiment, device)\n",
    "best_model, best_train_stats = emulator.train(optimizer)"
   ]
  },
  {
   "cell_type": "code",
   "execution_count": null,
   "id": "6f434814",
   "metadata": {},
   "outputs": [],
   "source": [
    "# examining train and val losses\n",
    "best_train_stats.plot()"
   ]
  },
  {
   "cell_type": "code",
   "execution_count": null,
   "id": "d54d43c3",
   "metadata": {},
   "outputs": [],
   "source": [
    "from GPErks.perks.inference import Inference\n",
    "inference = Inference(emulator)\n",
    "inference.summary()\n",
    "inference.plot()"
   ]
  },
  {
   "cell_type": "code",
   "execution_count": null,
   "id": "9420d64d",
   "metadata": {},
   "outputs": [],
   "source": [
    "# early stopping criteria\n",
    "print( best_train_stats.best_epoch )\n",
    "best_train_stats.plot(with_early_stopping_criterion=True)"
   ]
  },
  {
   "cell_type": "code",
   "execution_count": null,
   "id": "8e5d5f5e",
   "metadata": {},
   "outputs": [],
   "source": [
    "from GPErks.train.early_stop import NoEarlyStoppingCriterion\n",
    "max_epochs = 50\n",
    "esc = NoEarlyStoppingCriterion(max_epochs)\n",
    "\n",
    "best_model, best_train_stats = emulator.train(\n",
    "    optimizer,\n",
    "    early_stopping_criterion=esc\n",
    ")"
   ]
  },
  {
   "cell_type": "code",
   "execution_count": null,
   "id": "199d70e0",
   "metadata": {},
   "outputs": [],
   "source": [
    "best_train_stats.plot(with_early_stopping_criterion=True)"
   ]
  },
  {
   "cell_type": "markdown",
   "id": "5926a947",
   "metadata": {},
   "source": [
    "\n",
    "<br/>\n",
    "\n",
    "Prechelt L. (2012) **Early Stopping — But When?.** In: Montavon G., Orr G.B., Müller KR. (eds) Neural Networks: Tricks of the Trade. Lecture Notes in Computer Science, vol 7700. Springer, Berlin, Heidelberg. doi:10.1007/978-3-642-35289-8_5\n",
    "\n",
    "<br/>\n"
   ]
  },
  {
   "cell_type": "code",
   "execution_count": null,
   "id": "f4b45195",
   "metadata": {},
   "outputs": [],
   "source": [
    "from GPErks.train.early_stop import (\n",
    "    GLEarlyStoppingCriterion,\n",
    "    PQEarlyStoppingCriterion,\n",
    "    UPEarlyStoppingCriterion,\n",
    ")\n",
    "max_epochs = 1000\n",
    "\n",
    "esc = GLEarlyStoppingCriterion(\n",
    "        max_epochs, alpha=0.1, patience=8\n",
    ")\n",
    "# esc = PQEarlyStoppingCriterion(\n",
    "#     max_epochs, alpha=1, patience=8, strip_length=5\n",
    "# )\n",
    "# esc = UPEarlyStoppingCriterion(\n",
    "#     max_epochs, strip_length=5, successive_strips=4\n",
    "# )\n",
    "\n",
    "best_model, best_train_stats = emulator.train(\n",
    "    optimizer,\n",
    "    early_stopping_criterion=esc\n",
    ")"
   ]
  },
  {
   "cell_type": "code",
   "execution_count": null,
   "id": "1baa7025",
   "metadata": {},
   "outputs": [],
   "source": [
    "best_train_stats.plot(with_early_stopping_criterion=True)"
   ]
  },
  {
   "cell_type": "code",
   "execution_count": null,
   "id": "93be97dc",
   "metadata": {},
   "outputs": [],
   "source": [
    "from GPErks.train.early_stop import PkEarlyStoppingCriterion\n",
    "esc = PkEarlyStoppingCriterion(\n",
    "    max_epochs, alpha=0.01, patience=8, strip_length=20\n",
    ")\n",
    "\n",
    "emulator.scaled_data.with_val = False  # let's pretend we don't have a val set\n",
    "\n",
    "best_model, best_train_stats = emulator.train(\n",
    "    optimizer,\n",
    "    early_stopping_criterion=esc\n",
    ")"
   ]
  },
  {
   "cell_type": "code",
   "execution_count": null,
   "id": "5c6147a3",
   "metadata": {},
   "outputs": [],
   "source": [
    "best_train_stats.plot(with_early_stopping_criterion=True)"
   ]
  }
 ],
 "metadata": {
  "kernelspec": {
   "display_name": "Python 3 (ipykernel)",
   "language": "python",
   "name": "python3"
  },
  "language_info": {
   "codemirror_mode": {
    "name": "ipython",
    "version": 3
   },
   "file_extension": ".py",
   "mimetype": "text/x-python",
   "name": "python",
   "nbconvert_exporter": "python",
   "pygments_lexer": "ipython3",
   "version": "3.8.0"
  }
 },
 "nbformat": 4,
 "nbformat_minor": 5
}
