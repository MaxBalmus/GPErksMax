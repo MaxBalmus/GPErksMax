{
 "cells": [
  {
   "cell_type": "code",
   "execution_count": null,
   "id": "03c3a4c1",
   "metadata": {},
   "outputs": [],
   "source": [
    "import numpy as np\n",
    "import torch"
   ]
  },
  {
   "cell_type": "code",
   "execution_count": null,
   "id": "eaddab00",
   "metadata": {},
   "outputs": [],
   "source": [
    "# set logger and enforce reproducibility\n",
    "from GPErks.log.logger import get_logger\n",
    "from GPErks.utils.random import set_seed\n",
    "log = get_logger()\n",
    "seed = 8\n",
    "set_seed(seed)  # reproducible sampling"
   ]
  },
  {
   "cell_type": "markdown",
   "id": "74aa4037",
   "metadata": {},
   "source": [
    "**2D function example**: Currin et al. (1988)\n",
    "\n",
    "$f(x) = \\left[1 - \\exp{\\left(1 - \\dfrac{1}{2 x_2}\\right)}\\right]\\,\\left(\\dfrac{2300 x_{1}^3 + 1900 x_{1}^2 + 2092 x_{1} + 60}{100 x_{1}^3 + 500 x_{1}^2 + 4 x_{1} + 20}\\right)$"
   ]
  },
  {
   "cell_type": "code",
   "execution_count": null,
   "id": "7695caac",
   "metadata": {},
   "outputs": [],
   "source": [
    "# function to learn (normally a high-dimensional, expensive deterministic model)\n",
    "from GPErks.utils.test_functions import currin_exp\n",
    "f = lambda X: np.array([currin_exp(x) for x in X])\n",
    "D = 2"
   ]
  },
  {
   "cell_type": "code",
   "execution_count": null,
   "id": "18ee852a",
   "metadata": {},
   "outputs": [],
   "source": [
    "# build dataset\n",
    "from GPErks.gp.data.dataset import Dataset\n",
    "dataset = Dataset.build_from_function(\n",
    "    f,\n",
    "    D,\n",
    "    n_train_samples=20,\n",
    "    n_test_samples=25,\n",
    "    design=\"lhs\",\n",
    "    seed=seed,\n",
    ")"
   ]
  },
  {
   "cell_type": "code",
   "execution_count": null,
   "id": "9ab8c2c4",
   "metadata": {},
   "outputs": [],
   "source": [
    "# choose likelihood\n",
    "from gpytorch.likelihoods import GaussianLikelihood\n",
    "likelihood = GaussianLikelihood()"
   ]
  },
  {
   "cell_type": "code",
   "execution_count": null,
   "id": "5a5a9328",
   "metadata": {},
   "outputs": [],
   "source": [
    "# choose mean function\n",
    "from gpytorch.means import LinearMean\n",
    "mean_function = LinearMean(input_size=dataset.input_size)"
   ]
  },
  {
   "cell_type": "code",
   "execution_count": null,
   "id": "876efaf2",
   "metadata": {},
   "outputs": [],
   "source": [
    "# choose kernel\n",
    "from gpytorch.kernels import RBFKernel, ScaleKernel\n",
    "kernel = ScaleKernel(RBFKernel(ard_num_dims=dataset.input_size))"
   ]
  },
  {
   "cell_type": "code",
   "execution_count": null,
   "id": "61e10f3d",
   "metadata": {},
   "outputs": [],
   "source": [
    "# choose metrics\n",
    "from torchmetrics import MeanSquaredError, R2Score\n",
    "metrics = [MeanSquaredError(), R2Score()]"
   ]
  },
  {
   "cell_type": "code",
   "execution_count": null,
   "id": "d16eff04",
   "metadata": {},
   "outputs": [],
   "source": [
    "# define experiment\n",
    "from GPErks.gp.experiment import GPExperiment\n",
    "experiment = GPExperiment(\n",
    "    dataset,\n",
    "    likelihood,\n",
    "    mean_function,\n",
    "    kernel,\n",
    "    n_restarts=3,\n",
    "    metrics=metrics,\n",
    "    seed=seed  # reproducible training\n",
    ")"
   ]
  },
  {
   "cell_type": "code",
   "execution_count": null,
   "id": "f9ce5e29",
   "metadata": {},
   "outputs": [],
   "source": [
    "# dump experiment in config file\n",
    "import os\n",
    "notebook_full_path = os.path.join(os.getcwd(), nb_name)\n",
    "file = os.path.basename(notebook_full_path)\n",
    "config_file = file.replace(\".ipynb\", \".ini\")\n",
    "experiment.save_to_config_file(config_file)"
   ]
  },
  {
   "cell_type": "code",
   "execution_count": null,
   "id": "51a5ae19",
   "metadata": {},
   "outputs": [],
   "source": [
    "# load experiment from config file\n",
    "from GPErks.gp.experiment import load_experiment_from_config_file\n",
    "experiment = load_experiment_from_config_file(\n",
    "    config_file,\n",
    "    dataset\n",
    ")"
   ]
  },
  {
   "cell_type": "code",
   "execution_count": null,
   "id": "47bbcb86",
   "metadata": {},
   "outputs": [],
   "source": [
    "# choose training options: device + optimizer\n",
    "device = \"cuda\" if torch.cuda.is_available() else \"cpu\"\n",
    "optimizer = torch.optim.Adam(experiment.model.parameters(), lr=0.1)"
   ]
  },
  {
   "cell_type": "code",
   "execution_count": null,
   "id": "a9888454",
   "metadata": {},
   "outputs": [],
   "source": [
    "# train model\n",
    "from GPErks.train.emulator import GPEmulator\n",
    "emulator = GPEmulator(experiment_2, device)"
   ]
  },
  {
   "cell_type": "code",
   "execution_count": null,
   "id": "eaa8cd57",
   "metadata": {},
   "outputs": [],
   "source": [
    "# snapshotting\n",
    "from GPErks.serialization.path import posix_path\n",
    "from GPErks.train.snapshot import EveryEpochSnapshottingCriterion\n",
    "\n",
    "snapshot_dir = posix_path(\".\", \"snapshot\", \"pippo\")\n",
    "train_restart_template = \"restart_{restart}\"\n",
    "train_epoch_template = \"epoch_{epoch}.pth\"\n",
    "\n",
    "snpc = EveryEpochSnapshottingCriterion(\n",
    "    posix_path(\n",
    "        snapshot_dir,\n",
    "        train_restart_template,\n",
    "    ),\n",
    "    train_epoch_template\n",
    ")\n",
    "\n",
    "# training\n",
    "emulator.train(optimizer, snapshotting_criterion=snpc)"
   ]
  },
  {
   "cell_type": "code",
   "execution_count": null,
   "id": "1a04de09",
   "metadata": {},
   "outputs": [],
   "source": [
    "# inference on stored test set\n",
    "from GPErks.perks.inference import Inference\n",
    "inference = Inference(emulator)\n",
    "inference.summary()"
   ]
  },
  {
   "cell_type": "code",
   "execution_count": null,
   "id": "e6c34d38",
   "metadata": {},
   "outputs": [],
   "source": [
    "# loading emulator\n",
    "from pathlib import Path\n",
    "# best_model_file = posix_path(\".\",\n",
    "#     Path(snpc.snapshot_dir).parent.as_posix(),\n",
    "#     \"best_model.pth\"\n",
    "# )  # for some reason, symbolic link not working on a notebook\n",
    "\n",
    "best_restart = 1\n",
    "best_epoch = 100\n",
    "best_model_file = snpc.get_snapshot_file_path(best_restart, best_epoch)\n",
    "\n",
    "emulator_2 = GPEmulator(experiment_2, device)\n",
    "emulator_2.model = torch.load(best_model_file, map_location=torch.device(device))"
   ]
  },
  {
   "cell_type": "code",
   "execution_count": null,
   "id": "9a5a1ab3",
   "metadata": {},
   "outputs": [],
   "source": [
    "inference = Inference(emulator)\n",
    "inference.summary()"
   ]
  }
 ],
 "metadata": {
  "kernelspec": {
   "display_name": "Python 3 (ipykernel)",
   "language": "python",
   "name": "python3"
  },
  "language_info": {
   "codemirror_mode": {
    "name": "ipython",
    "version": 3
   },
   "file_extension": ".py",
   "mimetype": "text/x-python",
   "name": "python",
   "nbconvert_exporter": "python",
   "pygments_lexer": "ipython3",
   "version": "3.8.0"
  }
 },
 "nbformat": 4,
 "nbformat_minor": 5
}
