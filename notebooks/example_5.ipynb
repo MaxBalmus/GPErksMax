{
 "cells": [
  {
   "cell_type": "markdown",
   "id": "f2fbda0e",
   "metadata": {},
   "source": [
    "# 5. K-fold cross-validation (Part 1)"
   ]
  },
  {
   "cell_type": "code",
   "execution_count": null,
   "id": "1bbcd70e",
   "metadata": {},
   "outputs": [],
   "source": [
    "import numpy as np\n",
    "import torch"
   ]
  },
  {
   "cell_type": "code",
   "execution_count": null,
   "id": "93a76560",
   "metadata": {},
   "outputs": [],
   "source": [
    "# set logger and enforce reproducibility\n",
    "from GPErks.log.logger import get_logger\n",
    "from GPErks.utils.random import set_seed\n",
    "log = get_logger()\n",
    "seed = 8\n",
    "set_seed(seed)"
   ]
  },
  {
   "cell_type": "code",
   "execution_count": null,
   "id": "66dfe2e7",
   "metadata": {},
   "outputs": [],
   "source": [
    "# load dataset\n",
    "from GPErks.serialization.labels import read_labels_from_file\n",
    "data_dir = \"data/example4/\"\n",
    "X_ = np.loadtxt(data_dir + \"X.txt\", dtype=float)[:80]\n",
    "y_ = np.loadtxt(data_dir + \"y.txt\", dtype=float)[:80]\n",
    "xlabels = read_labels_from_file(data_dir + \"xlabels.txt\")\n",
    "ylabel = read_labels_from_file(data_dir + \"ylabel.txt\")[0]"
   ]
  },
  {
   "cell_type": "code",
   "execution_count": null,
   "id": "1cc7338c",
   "metadata": {},
   "outputs": [],
   "source": [
    "# split dataset in training and validation sets\n",
    "from sklearn.model_selection import train_test_split\n",
    "X, X_val, y, y_val = train_test_split(\n",
    "    X_,\n",
    "    y_,\n",
    "    test_size=0.2,\n",
    "    random_state=seed\n",
    ")"
   ]
  },
  {
   "cell_type": "markdown",
   "id": "f2e5cb95",
   "metadata": {},
   "source": [
    "\n",
    "<br/>\n",
    "\n",
    "**Example**: 5-fold cross-\"validation\" splitting strategy\n",
    "\n",
    "<br/>\n",
    "\n",
    "| X      | X_val |\n",
    "| :---        |    :----:   |\n",
    "| X1234 + X5      | X_val       |\n",
    "| X1235 + X4      | X_val       |\n",
    "| X1245 + X3      | X_val       |\n",
    "| X1345 + X2      | X_val       |\n",
    "| X2345 + X1      | X_val       |\n",
    "\n",
    "<br/>\n"
   ]
  },
  {
   "cell_type": "code",
   "execution_count": 9,
   "id": "883c960c",
   "metadata": {},
   "outputs": [],
   "source": [
    "# build dataset\n",
    "from GPErks.gp.data.dataset import Dataset\n",
    "dataset = Dataset(\n",
    "    X,\n",
    "    y,\n",
    "    X_val=X_val,\n",
    "    y_val=y_val,\n",
    "    x_labels=xlabels,\n",
    "    y_label=ylabel\n",
    ")"
   ]
  },
  {
   "cell_type": "code",
   "execution_count": 10,
   "id": "94bbbc3f",
   "metadata": {},
   "outputs": [],
   "source": [
    "# define experiment\n",
    "from gpytorch.likelihoods import GaussianLikelihood\n",
    "from gpytorch.means import LinearMean\n",
    "from gpytorch.kernels import RBFKernel, ScaleKernel\n",
    "from torchmetrics import MeanSquaredError, R2Score\n",
    "from GPErks.gp.experiment import GPExperiment\n",
    "\n",
    "likelihood = GaussianLikelihood()\n",
    "mean_function = LinearMean(input_size=dataset.input_size)\n",
    "kernel = ScaleKernel(RBFKernel(ard_num_dims=dataset.input_size))\n",
    "metrics = [MeanSquaredError(), R2Score()]\n",
    "\n",
    "experiment = GPExperiment(\n",
    "    dataset,\n",
    "    likelihood,\n",
    "    mean_function,\n",
    "    kernel,\n",
    "    n_restarts=3,\n",
    "    metrics=metrics,\n",
    "    seed=seed,\n",
    "    learn_noise=True\n",
    ")"
   ]
  },
  {
   "cell_type": "code",
   "execution_count": null,
   "id": "f03b2aad",
   "metadata": {},
   "outputs": [
    {
     "name": "stderr",
     "output_type": "stream",
     "text": [
      "INFO:2021-08-09 11:15:59,804:cross_validation:_train_split:L134: Running K-fold split 0...\n",
      "INFO:2021-08-09 11:15:59,812:emulator:train:L83: Training emulator...\n",
      "INFO:2021-08-09 11:15:59,814:emulator:train:L99: Running restart 1...\n"
     ]
    }
   ],
   "source": [
    "# k-fold cross-validation training\n",
    "from GPErks.perks.cross_validation import KFoldCrossValidation\n",
    "from GPErks.train.early_stop import GLEarlyStoppingCriterion\n",
    "\n",
    "device = \"cpu\"\n",
    "devices = [device]  # a list of devices\n",
    "kfcv = KFoldCrossValidation(experiment, devices, n_splits=5, max_workers=1)\n",
    "\n",
    "optimizer = torch.optim.Adam(experiment.model.parameters(), lr=0.1)\n",
    "esc = GLEarlyStoppingCriterion(max_epochs=1000, alpha=0.1, patience=8)\n",
    "best_model_dct, best_train_stats_dct, test_scores_dct = kfcv.train(optimizer, esc)"
   ]
  },
  {
   "cell_type": "code",
   "execution_count": null,
   "id": "6f434814",
   "metadata": {},
   "outputs": [],
   "source": [
    "# check mean test scores\n",
    "for key in test_scores_dct.keys():\n",
    "    print(f\"Mean test {key} score: {np.mean(test_scores_dct[key]):.4f}\")"
   ]
  },
  {
   "cell_type": "code",
   "execution_count": null,
   "id": "d54d43c3",
   "metadata": {},
   "outputs": [],
   "source": [
    "# check training stats at each split\n",
    "for i, bts in best_train_stats_dct.items():\n",
    "    bts.plot(with_early_stopping_criterion=True)"
   ]
  }
 ],
 "metadata": {
  "kernelspec": {
   "display_name": "Python 3 (ipykernel)",
   "language": "python",
   "name": "python3"
  },
  "language_info": {
   "codemirror_mode": {
    "name": "ipython",
    "version": 3
   },
   "file_extension": ".py",
   "mimetype": "text/x-python",
   "name": "python",
   "nbconvert_exporter": "python",
   "pygments_lexer": "ipython3",
   "version": "3.8.0"
  }
 },
 "nbformat": 4,
 "nbformat_minor": 5
}
