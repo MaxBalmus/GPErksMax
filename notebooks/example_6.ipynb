{
 "cells": [
  {
   "cell_type": "markdown",
   "id": "f2fbda0e",
   "metadata": {},
   "source": [
    "# 6. K-fold cross-validation training (Part 2)"
   ]
  },
  {
   "cell_type": "code",
   "execution_count": null,
   "id": "1bbcd70e",
   "metadata": {},
   "outputs": [],
   "source": [
    "import numpy as np\n",
    "import torch"
   ]
  },
  {
   "cell_type": "code",
   "execution_count": null,
   "id": "93a76560",
   "metadata": {},
   "outputs": [],
   "source": [
    "# set logger and enforce reproducibility\n",
    "from GPErks.log.logger import get_logger\n",
    "from GPErks.utils.random import set_seed\n",
    "log = get_logger()\n",
    "seed = 8\n",
    "set_seed(seed)  # reproducible sampling"
   ]
  },
  {
   "cell_type": "code",
   "execution_count": null,
   "id": "66dfe2e7",
   "metadata": {},
   "outputs": [],
   "source": [
    "# load dataset\n",
    "from GPErks.serialization.labels import read_labels_from_file\n",
    "data_dir = \"data/\"\n",
    "X_ = np.loadtxt(data_dir + \"X.txt\", dtype=float)[:50]\n",
    "y_ = np.loadtxt(data_dir + \"y.txt\", dtype=float)[:50]  # we only have few points\n",
    "xlabels = read_labels_from_file(data_dir + \"xlabels.txt\")\n",
    "ylabel = read_labels_from_file(data_dir + \"ylabel.txt\")[0]"
   ]
  },
  {
   "cell_type": "code",
   "execution_count": null,
   "id": "1cc7338c",
   "metadata": {},
   "outputs": [],
   "source": [
    "# split original dataset in training and test sets\n",
    "from sklearn.model_selection import train_test_split\n",
    "X, X_test, y, y_test = train_test_split(\n",
    "    X_,\n",
    "    y_,\n",
    "    test_size=0.5,\n",
    "    random_state=seed\n",
    ")"
   ]
  },
  {
   "cell_type": "markdown",
   "id": "f2e5cb95",
   "metadata": {},
   "source": [
    "**Example**: 5-fold cross-\"validation\" splitting strategy\n",
    "\n",
    "<br/>\n",
    "\n",
    "| X      | X_val |\n",
    "| :---        |    :----:   |\n",
    "| X1234 + X5      | X_val       |\n",
    "| X1235 + X4      | X_val       |\n",
    "| X1245 + X3      | X_val       |\n",
    "| X1345 + X2      | X_val       |\n",
    "| X2345 + X1      | X_val       |"
   ]
  },
  {
   "cell_type": "code",
   "execution_count": null,
   "id": "883c960c",
   "metadata": {},
   "outputs": [],
   "source": [
    "# build dataset\n",
    "from GPErks.gp.data.dataset import Dataset\n",
    "dataset = Dataset(\n",
    "    X,\n",
    "    y,\n",
    "    x_labels=xlabels,\n",
    "    y_label=ylabel\n",
    ")"
   ]
  },
  {
   "cell_type": "code",
   "execution_count": null,
   "id": "94bbbc3f",
   "metadata": {},
   "outputs": [],
   "source": [
    "# define experiment\n",
    "from gpytorch.likelihoods import GaussianLikelihood\n",
    "from gpytorch.means import LinearMean\n",
    "from gpytorch.kernels import RBFKernel, ScaleKernel\n",
    "from torchmetrics import MeanSquaredError, R2Score\n",
    "from GPErks.gp.experiment import GPExperiment\n",
    "\n",
    "likelihood = GaussianLikelihood()\n",
    "mean_function = LinearMean(input_size=dataset.input_size)\n",
    "kernel = ScaleKernel(RBFKernel(ard_num_dims=dataset.input_size))\n",
    "metrics = [MeanSquaredError(), R2Score()]\n",
    "\n",
    "experiment = GPExperiment(\n",
    "    dataset,\n",
    "    likelihood,\n",
    "    mean_function,\n",
    "    kernel,\n",
    "    n_restarts=3,\n",
    "    metrics=metrics,\n",
    "    seed=seed,  # reproducible training\n",
    "    learn_noise=True\n",
    ")"
   ]
  },
  {
   "cell_type": "code",
   "execution_count": null,
   "id": "f03b2aad",
   "metadata": {},
   "outputs": [],
   "source": [
    "# k-fold cross-validation training\n",
    "from GPErks.perks.cross_validation import KFoldCrossValidation\n",
    "from GPErks.train.early_stop import GLEarlyStoppingCriterion\n",
    "\n",
    "device = \"cuda\" if torch.cuda.is_available() else \"cpu\"\n",
    "devices = [device]  # a list of devices\n",
    "kfcv = KFoldCrossValidation(experiment, devices, n_splits=5, max_workers=1)\n",
    "\n",
    "optimizer = torch.optim.Adam(experiment.model.parameters(), lr=0.1)\n",
    "esc = GLEarlyStoppingCriterion(\n",
    "    max_epochs=1000, alpha=0.1, patience=8\n",
    ")\n",
    "best_model_dct, best_train_stats_dct, test_scores = kfcv.train(\n",
    "    optimizer,\n",
    "    esc,\n",
    "    leftout_is_val=True\n",
    ")"
   ]
  },
  {
   "cell_type": "code",
   "execution_count": null,
   "id": "6f434814",
   "metadata": {},
   "outputs": [],
   "source": [
    "# resulting test scores:\n",
    "for key in test_scores.keys():\n",
    "    print(f\"Mean test {key} score: {np.mean(test_scores[key]):.4f}\")"
   ]
  },
  {
   "cell_type": "code",
   "execution_count": null,
   "id": "d54d43c3",
   "metadata": {},
   "outputs": [],
   "source": [
    "# check training stats at each split\n",
    "best_epochs = []\n",
    "for i, bts in best_train_stats_dct.items():\n",
    "    bts.plot(with_early_stopping_criterion=True)\n",
    "    best_epochs.append( bts.best_epoch )\n",
    "\n",
    "print( best_epochs )"
   ]
  },
  {
   "cell_type": "code",
   "execution_count": null,
   "id": "9420d64d",
   "metadata": {},
   "outputs": [],
   "source": [
    "# using cross-validation not for accuracy testing purposes\n",
    "X = np.loadtxt(data_dir + \"X.txt\", dtype=float)[:20]\n",
    "y = np.loadtxt(data_dir + \"y.txt\", dtype=float)[:20]"
   ]
  },
  {
   "cell_type": "code",
   "execution_count": null,
   "id": "8e5d5f5e",
   "metadata": {},
   "outputs": [],
   "source": [
    "dataset = Dataset(\n",
    "    X,\n",
    "    y,\n",
    "    x_labels=xlabels,\n",
    "    y_label=ylabel\n",
    ")\n",
    "likelihood = GaussianLikelihood()\n",
    "mean_function = LinearMean(input_size=dataset.input_size)\n",
    "kernel = ScaleKernel(RBFKernel(ard_num_dims=dataset.input_size))\n",
    "metrics = [MeanSquaredError(), R2Score()]\n",
    "\n",
    "experiment = GPExperiment(\n",
    "    dataset,\n",
    "    likelihood,\n",
    "    mean_function,\n",
    "    kernel,\n",
    "    n_restarts=3,\n",
    "    metrics=metrics,\n",
    "    seed=seed,  # reproducible training\n",
    "    learn_noise=True\n",
    ")"
   ]
  },
  {
   "cell_type": "code",
   "execution_count": null,
   "id": "e64454f1",
   "metadata": {},
   "outputs": [],
   "source": [
    "kfcv = KFoldCrossValidation(experiment, [\"cpu\"], n_splits=5, max_workers=1)\n",
    "\n",
    "optimizer = torch.optim.Adam(experiment.model.parameters(), lr=0.1)\n",
    "esc = SimpleEarlyStoppingCriterion(max_epochs=500, patience=8)\n",
    "\n",
    "best_model_dct, best_train_stats_dct, test_scores = kfcv.train(\n",
    "    optimizer,\n",
    "    esc,\n",
    "    leftout_is_val=True\n",
    ")"
   ]
  },
  {
   "cell_type": "code",
   "execution_count": null,
   "id": "a9460ecc",
   "metadata": {},
   "outputs": [],
   "source": [
    "for key in test_scores.keys():\n",
    "    print(f\"Mean test {key} score: {np.mean(test_scores[key]):.4f}\")"
   ]
  },
  {
   "cell_type": "code",
   "execution_count": null,
   "id": "22bb63c7",
   "metadata": {},
   "outputs": [],
   "source": [
    "for i, bts in best_train_stats_dct.items():\n",
    "    bts.plot(with_early_stopping_criterion=True)"
   ]
  },
  {
   "cell_type": "code",
   "execution_count": null,
   "id": "199d70e0",
   "metadata": {},
   "outputs": [],
   "source": [
    "best_train_stats.plot(with_early_stopping_criterion=True)"
   ]
  },
  {
   "cell_type": "code",
   "execution_count": null,
   "id": "f4b45195",
   "metadata": {},
   "outputs": [],
   "source": [
    "\n",
    "best_model, best_train_stats = emulator.train(\n",
    "    optimizer,\n",
    "    early_stopping_criterion=esc\n",
    ")"
   ]
  },
  {
   "cell_type": "code",
   "execution_count": null,
   "id": "1baa7025",
   "metadata": {},
   "outputs": [],
   "source": [
    "best_train_stats.plot(with_early_stopping_criterion=True)"
   ]
  },
  {
   "cell_type": "code",
   "execution_count": null,
   "id": "93be97dc",
   "metadata": {},
   "outputs": [],
   "source": [
    "from GPErks.train.early_stop import PkEarlyStoppingCriterion\n",
    "esc = PkEarlyStoppingCriterion(\n",
    "    max_epochs, alpha=0.01, patience=8, strip_length=20\n",
    ")\n",
    "\n",
    "emulator.scaled_data.with_val = False  # let's pretend we don't have a val set\n",
    "\n",
    "best_model, best_train_stats = emulator.train(\n",
    "    optimizer,\n",
    "    early_stopping_criterion=esc\n",
    ")"
   ]
  },
  {
   "cell_type": "code",
   "execution_count": null,
   "id": "5c6147a3",
   "metadata": {},
   "outputs": [],
   "source": [
    "best_train_stats.plot(with_early_stopping_criterion=True)"
   ]
  }
 ],
 "metadata": {
  "kernelspec": {
   "display_name": "Python 3 (ipykernel)",
   "language": "python",
   "name": "python3"
  },
  "language_info": {
   "codemirror_mode": {
    "name": "ipython",
    "version": 3
   },
   "file_extension": ".py",
   "mimetype": "text/x-python",
   "name": "python",
   "nbconvert_exporter": "python",
   "pygments_lexer": "ipython3",
   "version": "3.8.0"
  }
 },
 "nbformat": 4,
 "nbformat_minor": 5
}
